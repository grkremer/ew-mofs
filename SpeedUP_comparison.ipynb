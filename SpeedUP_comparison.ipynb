{
 "cells": [
  {
   "cell_type": "markdown",
   "id": "57e02eb3-cdc0-4b2d-9cc1-75629d9b3ad1",
   "metadata": {},
   "source": [
    "### Speed Up Comparison"
   ]
  },
  {
   "cell_type": "code",
   "execution_count": 1,
   "id": "9e22d1f3-ed01-4ec6-bcd1-b429d52e1852",
   "metadata": {},
   "outputs": [],
   "source": [
    "from tqdm.notebook import trange, tqdm\n",
    "import multiprocessing, requests, sys, time, itertools, dill, random, os, pickle, copy\n",
    "import pandas as pd\n",
    "import numpy as np\n",
    "import seaborn as sns\n",
    "import matplotlib.pyplot as plt\n",
    "from sklearn import metrics, svm\n",
    "from sklearn.metrics import accuracy_score, f1_score\n",
    "from sklearn.model_selection import train_test_split\n",
    "from sklearn.feature_selection import SelectKBest, f_classif\n",
    "from sklearn.model_selection import StratifiedKFold, cross_val_score\n",
    "from sklearn.ensemble import RandomForestClassifier\n",
    "from sklearn.tree import DecisionTreeClassifier\n",
    "from sklearn.pipeline import make_pipeline\n",
    "from sklearn.preprocessing import StandardScaler\n",
    "from sklearn.datasets import fetch_openml\n",
    "\n",
    "from skrebate import ReliefF\n",
    "from ucimlrepo import fetch_ucirepo\n",
    "from sklearn.datasets import fetch_openml"
   ]
  },
  {
   "cell_type": "markdown",
   "id": "0adb8d5a-5d36-4ef7-81e6-e0b5146c68c5",
   "metadata": {},
   "source": [
    "### Definindo comparação"
   ]
  },
  {
   "cell_type": "code",
   "execution_count": 2,
   "id": "37598701-eacf-4728-a016-1c3c4f900f8e",
   "metadata": {},
   "outputs": [],
   "source": [
    "def test_speed(n_tests, n_features, X, y, CLASSIFIER):\n",
    "    start = time.time()\n",
    "    f1 = []\n",
    "    for i in trange(n_tests):\n",
    "        skf = StratifiedKFold(n_splits=5, shuffle=True) # Kfolding usado para separar em treino e teste\n",
    "        clf = CLASSIFIER  # treino usando modelo SVM\n",
    "        f1.append(cross_val_score(clf, X[:,:40], y, cv=skf, scoring='f1_macro')) # Computar f1\n",
    "    return np.array(f1).mean(), time.time() - start"
   ]
  },
  {
   "cell_type": "markdown",
   "id": "bb0b006d-abeb-4d95-acac-8b7ab6f9fa73",
   "metadata": {},
   "source": [
    "### Modelos"
   ]
  },
  {
   "cell_type": "code",
   "execution_count": 3,
   "id": "9ec7520b-fc06-49a3-aceb-c8a2bf90f6a5",
   "metadata": {},
   "outputs": [],
   "source": [
    "model_linear_svc = make_pipeline(\n",
    "    StandardScaler(),\n",
    "    svm.LinearSVC(\n",
    "        dual=False,         # Modo primal (n_samples > n_features)\n",
    "        penalty='l2',       # Regularização L2\n",
    "        tol=1e-3,           # Tolerância mais alta\n",
    "        max_iter=2000       # Máximo de iterações\n",
    "    )) ### AQUI O DEEPSEEK SUGERIU PRA MIM\n",
    "\n",
    "model_dt = make_pipeline(\n",
    "    StandardScaler(),\n",
    "    DecisionTreeClassifier(max_depth=6))\n",
    "\n",
    "model_svc_kernel = make_pipeline(\n",
    "    StandardScaler(),\n",
    "    svm.SVC(kernel='linear'))"
   ]
  },
  {
   "cell_type": "markdown",
   "id": "96d7ca10-a136-4602-b4b0-7800f4bfa624",
   "metadata": {},
   "source": [
    "### DataSet 20\n",
    "62 Samples"
   ]
  },
  {
   "cell_type": "code",
   "execution_count": 4,
   "id": "feb52abd-f016-47a6-aba9-cfb7a1eb6e1c",
   "metadata": {},
   "outputs": [],
   "source": [
    "colon = fetch_openml(data_id=45087, parser='auto')\n",
    "X = np.array(colon.data)\n",
    "y = np.ravel(np.array(colon.target))"
   ]
  },
  {
   "cell_type": "code",
   "execution_count": 5,
   "id": "3beb1a48-c308-4701-b261-164425db363a",
   "metadata": {},
   "outputs": [
    {
     "data": {
      "application/vnd.jupyter.widget-view+json": {
       "model_id": "c5f5323a278547b7b5855fecec262689",
       "version_major": 2,
       "version_minor": 0
      },
      "text/plain": [
       "  0%|          | 0/100 [00:00<?, ?it/s]"
      ]
     },
     "metadata": {},
     "output_type": "display_data"
    },
    {
     "name": "stdout",
     "output_type": "stream",
     "text": [
      "Decision Tree - f1_score: 0.7504332405382715 time: 4.684973239898682\n"
     ]
    },
    {
     "data": {
      "application/vnd.jupyter.widget-view+json": {
       "model_id": "aaf3858dab24468c9bdd75a01f716206",
       "version_major": 2,
       "version_minor": 0
      },
      "text/plain": [
       "  0%|          | 0/100 [00:00<?, ?it/s]"
      ]
     },
     "metadata": {},
     "output_type": "display_data"
    },
    {
     "name": "stdout",
     "output_type": "stream",
     "text": [
      "SVM LinarSVC - f1_score: 0.7488127131726203 time: 4.633829832077026\n"
     ]
    },
    {
     "data": {
      "application/vnd.jupyter.widget-view+json": {
       "model_id": "170f0fd8c491461ea78ab8a24ac8bec9",
       "version_major": 2,
       "version_minor": 0
      },
      "text/plain": [
       "  0%|          | 0/100 [00:00<?, ?it/s]"
      ]
     },
     "metadata": {},
     "output_type": "display_data"
    },
    {
     "name": "stdout",
     "output_type": "stream",
     "text": [
      "SVC Kernel Linear - f1_score: 0.7496683927183927 time: 4.31135630607605\n"
     ]
    }
   ],
   "source": [
    "n_tests = 100\n",
    "n_features = 40\n",
    "test = test_speed(n_tests, n_features, X, y, model_dt)\n",
    "print('Decision Tree - f1_score:', test[0], 'time:', test[1])\n",
    "test = test_speed(n_tests, n_features, X, y, model_linear_svc)\n",
    "print('SVM LinarSVC - f1_score:', test[0], 'time:', test[1])\n",
    "test = test_speed(n_tests, n_features, X, y, model_svc_kernel)\n",
    "print('SVC Kernel Linear - f1_score:', test[0], 'time:', test[1])"
   ]
  },
  {
   "cell_type": "markdown",
   "id": "c010ef8d-0ce6-43c0-b619-16e57896508b",
   "metadata": {},
   "source": [
    "### Dataset 17\n",
    "856 Samples"
   ]
  },
  {
   "cell_type": "code",
   "execution_count": 6,
   "id": "3f0d4fde-2a08-4c53-a040-e130d7c8c924",
   "metadata": {},
   "outputs": [],
   "source": [
    "cnae = fetch_openml(data_id=1468, parser='auto')\n",
    "X = np.array(cnae.data)\n",
    "y = np.ravel(np.array(cnae.target))"
   ]
  },
  {
   "cell_type": "code",
   "execution_count": 7,
   "id": "a9c20e4c-9d3f-43a9-bc99-835a748dc8e1",
   "metadata": {},
   "outputs": [
    {
     "data": {
      "application/vnd.jupyter.widget-view+json": {
       "model_id": "c6a92852184847fcab3a87bafb46697e",
       "version_major": 2,
       "version_minor": 0
      },
      "text/plain": [
       "  0%|          | 0/100 [00:00<?, ?it/s]"
      ]
     },
     "metadata": {},
     "output_type": "display_data"
    },
    {
     "name": "stdout",
     "output_type": "stream",
     "text": [
      "Decision Tree - f1_score: 0.13997875232650953 time: 4.559659719467163\n"
     ]
    },
    {
     "data": {
      "application/vnd.jupyter.widget-view+json": {
       "model_id": "050dda4c659a44668e748cd1de9be8ac",
       "version_major": 2,
       "version_minor": 0
      },
      "text/plain": [
       "  0%|          | 0/100 [00:00<?, ?it/s]"
      ]
     },
     "metadata": {},
     "output_type": "display_data"
    },
    {
     "name": "stdout",
     "output_type": "stream",
     "text": [
      "SVM LinarSVC - f1_score: 0.17801757175767563 time: 45.48831272125244\n"
     ]
    },
    {
     "data": {
      "application/vnd.jupyter.widget-view+json": {
       "model_id": "0179026872b444f5bcaab7e2e3cdf5a8",
       "version_major": 2,
       "version_minor": 0
      },
      "text/plain": [
       "  0%|          | 0/100 [00:00<?, ?it/s]"
      ]
     },
     "metadata": {},
     "output_type": "display_data"
    },
    {
     "name": "stdout",
     "output_type": "stream",
     "text": [
      "SVC Kernel Linear - f1_score: 0.1709018089392465 time: 44.51150131225586\n"
     ]
    }
   ],
   "source": [
    "n_tests = 100\n",
    "n_features = 40\n",
    "test = test_speed(n_tests, n_features, X, y, model_dt)\n",
    "print('Decision Tree - f1_score:', test[0], 'time:', test[1])\n",
    "test = test_speed(n_tests, n_features, X, y, model_linear_svc)\n",
    "print('SVM LinarSVC - f1_score:', test[0], 'time:', test[1])\n",
    "test = test_speed(n_tests, n_features, X, y, model_svc_kernel)\n",
    "print('SVC Kernel Linear - f1_score:', test[0], 'time:', test[1])"
   ]
  },
  {
   "cell_type": "code",
   "execution_count": null,
   "id": "622c4491-191f-411c-a9d7-c64c67e72a4c",
   "metadata": {},
   "outputs": [],
   "source": []
  }
 ],
 "metadata": {
  "kernelspec": {
   "display_name": "Python 3 (ipykernel)",
   "language": "python",
   "name": "python3"
  },
  "language_info": {
   "codemirror_mode": {
    "name": "ipython",
    "version": 3
   },
   "file_extension": ".py",
   "mimetype": "text/x-python",
   "name": "python",
   "nbconvert_exporter": "python",
   "pygments_lexer": "ipython3",
   "version": "3.10.12"
  }
 },
 "nbformat": 4,
 "nbformat_minor": 5
}
