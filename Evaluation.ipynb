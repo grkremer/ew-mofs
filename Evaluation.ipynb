{
 "cells": [
  {
   "cell_type": "code",
   "execution_count": 2,
   "id": "5b6aa29b-bc6c-4e33-b9ad-805dd6ec6dd7",
   "metadata": {},
   "outputs": [
    {
     "name": "stdout",
     "output_type": "stream",
     "text": [
      "  EXISTS: go-basic.obo\n",
      "go-basic.obo: fmt(1.2) rel(2024-06-17) 51,502 Terms; optional_attrs(relationship)\n"
     ]
    }
   ],
   "source": [
    "### PYMOO\n",
    "from pymoo.core.problem import Problem, ElementwiseProblem, StarmapParallelization\n",
    "from pymoo.algorithms.moo.nsga2 import NSGA2\n",
    "from pymoo.optimize import minimize\n",
    "from pymoo.operators.sampling.rnd import BinaryRandomSampling\n",
    "from pymoo.operators.crossover.pntx import TwoPointCrossover\n",
    "from pymoo.operators.mutation.bitflip import BitflipMutation\n",
    "from pymoo.util.display.multi import MultiObjectiveOutput\n",
    "from pymoo.core.sampling import Sampling\n",
    "from pymoo.core.mutation import Mutation\n",
    "from pymoo.indicators.hv import HV\n",
    "from pymoo.termination.max_gen import MaximumGenerationTermination\n",
    "from pymoo.termination import get_termination\n",
    "\n",
    "#multiprocessamento e outros\n",
    "from tqdm.notebook import trange, tqdm\n",
    "import multiprocessing, requests, sys, time, itertools, dill, random, os, pickle, copy\n",
    "\n",
    "#Pandas, SKLearn e etc.\n",
    "import pandas as pd\n",
    "import numpy as np\n",
    "import seaborn as sns\n",
    "import matplotlib.pyplot as plt\n",
    "\n",
    "from sklearn import metrics, svm\n",
    "from sklearn.metrics import accuracy_score, f1_score\n",
    "from sklearn.model_selection import train_test_split\n",
    "from sklearn.feature_selection import SelectKBest, f_classif\n",
    "from sklearn.model_selection import StratifiedKFold, cross_val_score\n",
    "\n",
    "#Goatools e Gontosim\n",
    "from goatools.obo_parser import GODag\n",
    "from goatools.base import get_godag\n",
    "#go = get_godag(\"go-basic.obo\", optional_attrs={'relationship'})\n",
    "from Similarity import Similarity_of_Two_GOTerms, Similarity_of_Set_of_GOTerms\n",
    "\n",
    "\"\"\" Funções e Variaveis Auxiliares\"\"\"\n",
    "from Constantes import *\n",
    "from PlotingFunctions import *\n",
    "\n",
    "from sklearn.ensemble import RandomForestClassifier"
   ]
  },
  {
   "cell_type": "code",
   "execution_count": 3,
   "id": "276f80ad-3959-4677-aeeb-6ccd8869d809",
   "metadata": {},
   "outputs": [],
   "source": [
    "data = pd.read_pickle('Data/data_Breast_GSE70947_norm.pkl')\n",
    "colunas = data.columns.drop(['type']).tolist()\n",
    "\n",
    "affymetrix_similarity = pd.read_pickle('./Data/Breast_GSE70947-gene_symbols.pkl')\n",
    "go_completness = dict(zip(affymetrix_similarity['feature'], affymetrix_similarity['scores']))\n",
    "go_completness_breast_cancer = dict(zip(affymetrix_similarity['feature'], affymetrix_similarity['scores_breast_cancer_pathways']))\n",
    "del go_completness['type']\n",
    "del go_completness_breast_cancer['type']\n",
    "X = data[colunas]\n",
    "y = data['type']"
   ]
  },
  {
   "cell_type": "code",
   "execution_count": 4,
   "id": "af9e9ee5-9c24-46a9-b5a3-3645611cd338",
   "metadata": {},
   "outputs": [
    {
     "data": {
      "text/plain": [
       "(0.867, 8)"
      ]
     },
     "execution_count": 4,
     "metadata": {},
     "output_type": "execute_result"
    }
   ],
   "source": [
    "# seleciona as features de acordo com o vetor binário\n",
    "selected_features = [ 1609,  2369,  9077, 21976, 22587, 23786, 32599, 34806]\n",
    "features = np.full(len(X.columns),False)\n",
    "features[selected_features] = True\n",
    "X_selected = np.array(X)\n",
    "f_1 = []\n",
    "n_tests = 1\n",
    "seed = 48\n",
    "for i in range(n_tests):\n",
    "    seed = seed + 1\n",
    "    # Kfolding usado para separar em treino e teste\n",
    "    skf = StratifiedKFold(n_splits=10, random_state=seed, shuffle=True)\n",
    "    #X_train, X_valid, y_train, y_valid = train_test_split(X_selected, self.y, test_size=0.1, random_state=100)\n",
    "        \t\n",
    "    # treino usando modelo SVM\n",
    "    clf = RandomForestClassifier()\n",
    "    \n",
    "    # compute f_1 and AUC on validation set\n",
    "    f_1.append(np.mean(cross_val_score(clf, X_selected, y, cv=skf, scoring='f1_macro')))\n",
    "        \n",
    "f_1 = round(np.array(f_1).sum()/n_tests, 3)\n",
    "n_features = len(selected_features)\n",
    "(f_1,n_features)"
   ]
  },
  {
   "cell_type": "code",
   "execution_count": 28,
   "id": "03370a7a-afd8-4303-8c36-dbd13f48a878",
   "metadata": {},
   "outputs": [
    {
     "data": {
      "text/html": [
       "<style>#sk-container-id-5 {color: black;}#sk-container-id-5 pre{padding: 0;}#sk-container-id-5 div.sk-toggleable {background-color: white;}#sk-container-id-5 label.sk-toggleable__label {cursor: pointer;display: block;width: 100%;margin-bottom: 0;padding: 0.3em;box-sizing: border-box;text-align: center;}#sk-container-id-5 label.sk-toggleable__label-arrow:before {content: \"▸\";float: left;margin-right: 0.25em;color: #696969;}#sk-container-id-5 label.sk-toggleable__label-arrow:hover:before {color: black;}#sk-container-id-5 div.sk-estimator:hover label.sk-toggleable__label-arrow:before {color: black;}#sk-container-id-5 div.sk-toggleable__content {max-height: 0;max-width: 0;overflow: hidden;text-align: left;background-color: #f0f8ff;}#sk-container-id-5 div.sk-toggleable__content pre {margin: 0.2em;color: black;border-radius: 0.25em;background-color: #f0f8ff;}#sk-container-id-5 input.sk-toggleable__control:checked~div.sk-toggleable__content {max-height: 200px;max-width: 100%;overflow: auto;}#sk-container-id-5 input.sk-toggleable__control:checked~label.sk-toggleable__label-arrow:before {content: \"▾\";}#sk-container-id-5 div.sk-estimator input.sk-toggleable__control:checked~label.sk-toggleable__label {background-color: #d4ebff;}#sk-container-id-5 div.sk-label input.sk-toggleable__control:checked~label.sk-toggleable__label {background-color: #d4ebff;}#sk-container-id-5 input.sk-hidden--visually {border: 0;clip: rect(1px 1px 1px 1px);clip: rect(1px, 1px, 1px, 1px);height: 1px;margin: -1px;overflow: hidden;padding: 0;position: absolute;width: 1px;}#sk-container-id-5 div.sk-estimator {font-family: monospace;background-color: #f0f8ff;border: 1px dotted black;border-radius: 0.25em;box-sizing: border-box;margin-bottom: 0.5em;}#sk-container-id-5 div.sk-estimator:hover {background-color: #d4ebff;}#sk-container-id-5 div.sk-parallel-item::after {content: \"\";width: 100%;border-bottom: 1px solid gray;flex-grow: 1;}#sk-container-id-5 div.sk-label:hover label.sk-toggleable__label {background-color: #d4ebff;}#sk-container-id-5 div.sk-serial::before {content: \"\";position: absolute;border-left: 1px solid gray;box-sizing: border-box;top: 0;bottom: 0;left: 50%;z-index: 0;}#sk-container-id-5 div.sk-serial {display: flex;flex-direction: column;align-items: center;background-color: white;padding-right: 0.2em;padding-left: 0.2em;position: relative;}#sk-container-id-5 div.sk-item {position: relative;z-index: 1;}#sk-container-id-5 div.sk-parallel {display: flex;align-items: stretch;justify-content: center;background-color: white;position: relative;}#sk-container-id-5 div.sk-item::before, #sk-container-id-5 div.sk-parallel-item::before {content: \"\";position: absolute;border-left: 1px solid gray;box-sizing: border-box;top: 0;bottom: 0;left: 50%;z-index: -1;}#sk-container-id-5 div.sk-parallel-item {display: flex;flex-direction: column;z-index: 1;position: relative;background-color: white;}#sk-container-id-5 div.sk-parallel-item:first-child::after {align-self: flex-end;width: 50%;}#sk-container-id-5 div.sk-parallel-item:last-child::after {align-self: flex-start;width: 50%;}#sk-container-id-5 div.sk-parallel-item:only-child::after {width: 0;}#sk-container-id-5 div.sk-dashed-wrapped {border: 1px dashed gray;margin: 0 0.4em 0.5em 0.4em;box-sizing: border-box;padding-bottom: 0.4em;background-color: white;}#sk-container-id-5 div.sk-label label {font-family: monospace;font-weight: bold;display: inline-block;line-height: 1.2em;}#sk-container-id-5 div.sk-label-container {text-align: center;}#sk-container-id-5 div.sk-container {/* jupyter's `normalize.less` sets `[hidden] { display: none; }` but bootstrap.min.css set `[hidden] { display: none !important; }` so we also need the `!important` here to be able to override the default hidden behavior on the sphinx rendered scikit-learn.org. See: https://github.com/scikit-learn/scikit-learn/issues/21755 */display: inline-block !important;position: relative;}#sk-container-id-5 div.sk-text-repr-fallback {display: none;}</style><div id=\"sk-container-id-5\" class=\"sk-top-container\"><div class=\"sk-text-repr-fallback\"><pre>RandomForestClassifier(n_estimators=1000)</pre><b>In a Jupyter environment, please rerun this cell to show the HTML representation or trust the notebook. <br />On GitHub, the HTML representation is unable to render, please try loading this page with nbviewer.org.</b></div><div class=\"sk-container\" hidden><div class=\"sk-item\"><div class=\"sk-estimator sk-toggleable\"><input class=\"sk-toggleable__control sk-hidden--visually\" id=\"sk-estimator-id-5\" type=\"checkbox\" checked><label for=\"sk-estimator-id-5\" class=\"sk-toggleable__label sk-toggleable__label-arrow\">RandomForestClassifier</label><div class=\"sk-toggleable__content\"><pre>RandomForestClassifier(n_estimators=1000)</pre></div></div></div></div></div>"
      ],
      "text/plain": [
       "RandomForestClassifier(n_estimators=1000)"
      ]
     },
     "execution_count": 28,
     "metadata": {},
     "output_type": "execute_result"
    }
   ],
   "source": [
    "clf = RandomForestClassifier(n_estimators=1000)\n",
    "clf.fit(X, y)"
   ]
  },
  {
   "cell_type": "code",
   "execution_count": 30,
   "id": "7af61797-0bb9-426b-8cb4-859ed4180966",
   "metadata": {},
   "outputs": [
    {
     "data": {
      "text/plain": [
       "array([0.00619391, 0.00479471, 0.00467563, 0.00407751, 0.00376029,\n",
       "       0.00343695, 0.00341625, 0.00334563, 0.00327129, 0.0032149 ,\n",
       "       0.00302657, 0.0029937 , 0.00295486, 0.00291486, 0.0028788 ,\n",
       "       0.00287691, 0.00262031, 0.00260271, 0.00256654, 0.00256043,\n",
       "       0.00255202, 0.00253911, 0.0024505 , 0.00244455, 0.00243452,\n",
       "       0.00242414, 0.00241163, 0.00232047, 0.00231002, 0.00225614,\n",
       "       0.00225379, 0.00222898, 0.00217847, 0.00216949, 0.00215268,\n",
       "       0.00214575, 0.00210361, 0.0020993 , 0.00209246, 0.00209065,\n",
       "       0.00207737, 0.0020213 , 0.0020123 , 0.00200868, 0.0019966 ,\n",
       "       0.00198792, 0.00198072, 0.00197429, 0.00196805, 0.00196339,\n",
       "       0.00196287, 0.00196089, 0.00193177, 0.00192972, 0.00192968,\n",
       "       0.00192677, 0.00192273, 0.00189271, 0.00187325, 0.00187205,\n",
       "       0.00184007, 0.00183913, 0.00182943, 0.00182185, 0.00181598,\n",
       "       0.00179204, 0.00177221, 0.00175575, 0.00174777, 0.00173939,\n",
       "       0.00173622, 0.00173595, 0.00173116, 0.00171612, 0.00170584,\n",
       "       0.00169052, 0.00168704, 0.00166331, 0.00163349, 0.00158629,\n",
       "       0.00158176, 0.00156529, 0.00155875, 0.00155364, 0.00155214,\n",
       "       0.0015516 , 0.00154569, 0.00154473, 0.0015416 , 0.00153646,\n",
       "       0.00153494, 0.00149953, 0.00149416, 0.00148827, 0.00148111,\n",
       "       0.00147977, 0.00145786, 0.00145686, 0.00143877, 0.0014358 ])"
      ]
     },
     "execution_count": 30,
     "metadata": {},
     "output_type": "execute_result"
    }
   ],
   "source": [
    "np.sort(clf.feature_importances_)[::-1][:100]"
   ]
  },
  {
   "cell_type": "code",
   "execution_count": 44,
   "id": "403e2a91-3df4-46c3-b776-5a503ada242c",
   "metadata": {},
   "outputs": [
    {
     "data": {
      "text/plain": [
       "array(['NM_144987', 'ENST00000322831', 'NM_001625', ..., 'NM_203422',\n",
       "       'NM_006086', 'NM_006101'], dtype=object)"
      ]
     },
     "execution_count": 44,
     "metadata": {},
     "output_type": "execute_result"
    }
   ],
   "source": [
    "clf.feature_names_in_[np.argsort(clf.feature_importances_, kind = 'stable')]"
   ]
  },
  {
   "cell_type": "code",
   "execution_count": 45,
   "id": "66aeeb66-344c-4b33-8aca-e2e3e1f3ef1a",
   "metadata": {},
   "outputs": [
    {
     "data": {
      "text/plain": [
       "array([    0,     2,     3, ..., 25069,  9077, 10607])"
      ]
     },
     "execution_count": 45,
     "metadata": {},
     "output_type": "execute_result"
    }
   ],
   "source": [
    "np.array(list(range(len(clf.feature_importances_))))[np.argsort(clf.feature_importances_, kind = 'stable')]"
   ]
  },
  {
   "cell_type": "code",
   "execution_count": 42,
   "id": "42b27171-860b-40c8-96f3-03fc53e08ac2",
   "metadata": {},
   "outputs": [
    {
     "data": {
      "text/plain": [
       "0.0061939146555902306"
      ]
     },
     "execution_count": 42,
     "metadata": {},
     "output_type": "execute_result"
    }
   ],
   "source": [
    "clf.feature_importances_[10607]"
   ]
  },
  {
   "cell_type": "code",
   "execution_count": null,
   "id": "5a1d52bd-42e5-497e-b1f3-30465207446e",
   "metadata": {},
   "outputs": [],
   "source": []
  }
 ],
 "metadata": {
  "kernelspec": {
   "display_name": "Python 3 (ipykernel)",
   "language": "python",
   "name": "python3"
  },
  "language_info": {
   "codemirror_mode": {
    "name": "ipython",
    "version": 3
   },
   "file_extension": ".py",
   "mimetype": "text/x-python",
   "name": "python",
   "nbconvert_exporter": "python",
   "pygments_lexer": "ipython3",
   "version": "3.10.12"
  }
 },
 "nbformat": 4,
 "nbformat_minor": 5
}
