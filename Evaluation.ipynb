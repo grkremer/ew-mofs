{
 "cells": [
  {
   "cell_type": "code",
   "execution_count": 2,
   "id": "5b6aa29b-bc6c-4e33-b9ad-805dd6ec6dd7",
   "metadata": {},
   "outputs": [
    {
     "name": "stdout",
     "output_type": "stream",
     "text": [
      "  EXISTS: go-basic.obo\n",
      "go-basic.obo: fmt(1.2) rel(2024-06-17) 51,502 Terms; optional_attrs(relationship)\n"
     ]
    }
   ],
   "source": [
    "### PYMOO\n",
    "from pymoo.core.problem import Problem, ElementwiseProblem, StarmapParallelization\n",
    "from pymoo.algorithms.moo.nsga2 import NSGA2\n",
    "from pymoo.optimize import minimize\n",
    "from pymoo.operators.sampling.rnd import BinaryRandomSampling\n",
    "from pymoo.operators.crossover.pntx import TwoPointCrossover\n",
    "from pymoo.operators.mutation.bitflip import BitflipMutation\n",
    "from pymoo.util.display.multi import MultiObjectiveOutput\n",
    "from pymoo.core.sampling import Sampling\n",
    "from pymoo.core.mutation import Mutation\n",
    "from pymoo.indicators.hv import HV\n",
    "from pymoo.termination.max_gen import MaximumGenerationTermination\n",
    "from pymoo.termination import get_termination\n",
    "\n",
    "#multiprocessamento e outros\n",
    "from tqdm.notebook import trange, tqdm\n",
    "import multiprocessing, requests, sys, time, itertools, dill, random, os, pickle, copy\n",
    "\n",
    "#Pandas, SKLearn e etc.\n",
    "import pandas as pd\n",
    "import numpy as np\n",
    "import seaborn as sns\n",
    "import matplotlib.pyplot as plt\n",
    "\n",
    "from sklearn import metrics, svm\n",
    "from sklearn.metrics import accuracy_score, f1_score\n",
    "from sklearn.model_selection import train_test_split\n",
    "from sklearn.feature_selection import SelectKBest, f_classif\n",
    "from sklearn.model_selection import StratifiedKFold, cross_val_score\n",
    "\n",
    "#Goatools e Gontosim\n",
    "from goatools.obo_parser import GODag\n",
    "from goatools.base import get_godag\n",
    "#go = get_godag(\"go-basic.obo\", optional_attrs={'relationship'})\n",
    "from Similarity import Similarity_of_Two_GOTerms, Similarity_of_Set_of_GOTerms\n",
    "\n",
    "\"\"\" Funções e Variaveis Auxiliares\"\"\"\n",
    "from Constantes import *\n",
    "from PlotingFunctions import *"
   ]
  },
  {
   "cell_type": "code",
   "execution_count": 3,
   "id": "276f80ad-3959-4677-aeeb-6ccd8869d809",
   "metadata": {},
   "outputs": [],
   "source": [
    "data = pd.read_pickle('Data/data_Breast_GSE70947_norm.pkl')\n",
    "colunas = data.columns.drop(['type']).tolist()\n",
    "\n",
    "affymetrix_similarity = pd.read_pickle('./Data/Breast_GSE70947-gene_symbols.pkl')\n",
    "go_completness = dict(zip(affymetrix_similarity['feature'], affymetrix_similarity['scores']))\n",
    "go_completness_breast_cancer = dict(zip(affymetrix_similarity['feature'], affymetrix_similarity['scores_breast_cancer_pathways']))\n",
    "del go_completness['type']\n",
    "del go_completness_breast_cancer['type']\n",
    "X = data[colunas]\n",
    "y = data['type']"
   ]
  },
  {
   "cell_type": "code",
   "execution_count": 65,
   "id": "af9e9ee5-9c24-46a9-b5a3-3645611cd338",
   "metadata": {},
   "outputs": [
    {
     "name": "stdout",
     "output_type": "stream",
     "text": [
      "[0.9163295428907139]\n",
      "[0.9163295428907139, 0.9203309337173351]\n",
      "[0.9163295428907139, 0.9203309337173351, 0.9164847644252457]\n",
      "[0.9163295428907139, 0.9203309337173351, 0.9164847644252457, 0.9132493985539035]\n",
      "[0.9163295428907139, 0.9203309337173351, 0.9164847644252457, 0.9132493985539035, 0.9130957256242294]\n"
     ]
    },
    {
     "data": {
      "text/plain": [
       "(0.916, 8)"
      ]
     },
     "execution_count": 65,
     "metadata": {},
     "output_type": "execute_result"
    }
   ],
   "source": [
    "# seleciona as features de acordo com o vetor binário\n",
    "selected_features = [ 1609,  2369,  9077, 21976, 22587, 23786, 32599, 34806]\n",
    "features = np.full(len(X.columns),False)\n",
    "features[selected_features] = True\n",
    "X_selected = np.array(X)[:,features]\n",
    "f_1 = []\n",
    "n_tests = 5\n",
    "seed = 48\n",
    "for i in range(n_tests):\n",
    "    seed = seed + 1\n",
    "    # Kfolding usado para separar em treino e teste\n",
    "    skf = StratifiedKFold(n_splits=10, random_state=seed, shuffle=True)\n",
    "    #X_train, X_valid, y_train, y_valid = train_test_split(X_selected, self.y, test_size=0.1, random_state=100)\n",
    "        \t\n",
    "    # treino usando modelo SVM\n",
    "    clf = svm.SVC(kernel='linear')\n",
    "    \n",
    "    # compute f_1 and AUC on validation set\n",
    "    f_1.append(np.mean(cross_val_score(clf, X_selected, y, cv=skf, scoring='f1_macro')))\n",
    "    print(f_1)\n",
    "        \n",
    "f_1 = round(np.array(f_1).sum()/n_tests, 3)\n",
    "n_features = len(selected_features)\n",
    "(f_1,n_features)"
   ]
  },
  {
   "cell_type": "code",
   "execution_count": 23,
   "id": "03370a7a-afd8-4303-8c36-dbd13f48a878",
   "metadata": {},
   "outputs": [],
   "source": []
  },
  {
   "cell_type": "code",
   "execution_count": 28,
   "id": "403e2a91-3df4-46c3-b776-5a503ada242c",
   "metadata": {},
   "outputs": [
    {
     "data": {
      "text/plain": [
       "array([[-0.8408758 , -1.46618236, -0.29409045, -0.43293945, -0.72800602],\n",
       "       [ 1.08865853, -2.08661464,  0.3186621 , -0.25972484, -0.71153977],\n",
       "       [-0.37599821, -1.31381773,  0.1163816 ,  0.06343332, -0.81457972],\n",
       "       ...,\n",
       "       [-1.2523575 ,  0.46541229,  0.9711231 , -0.12686781, -0.60701292],\n",
       "       [-0.19732212,  0.11519462,  0.68164375,  1.35806637,  0.57926832],\n",
       "       [-0.17834283,  0.71194359, -0.55233405,  0.62100625,  0.63741638]])"
      ]
     },
     "execution_count": 28,
     "metadata": {},
     "output_type": "execute_result"
    }
   ],
   "source": [
    "np.array(X)[:,features]"
   ]
  },
  {
   "cell_type": "code",
   "execution_count": 17,
   "id": "66aeeb66-344c-4b33-8aca-e2e3e1f3ef1a",
   "metadata": {},
   "outputs": [
    {
     "data": {
      "text/plain": [
       "35981"
      ]
     },
     "execution_count": 17,
     "metadata": {},
     "output_type": "execute_result"
    }
   ],
   "source": [
    "len(X.columns)"
   ]
  },
  {
   "cell_type": "code",
   "execution_count": null,
   "id": "42b27171-860b-40c8-96f3-03fc53e08ac2",
   "metadata": {},
   "outputs": [],
   "source": []
  }
 ],
 "metadata": {
  "kernelspec": {
   "display_name": "Python 3 (ipykernel)",
   "language": "python",
   "name": "python3"
  },
  "language_info": {
   "codemirror_mode": {
    "name": "ipython",
    "version": 3
   },
   "file_extension": ".py",
   "mimetype": "text/x-python",
   "name": "python",
   "nbconvert_exporter": "python",
   "pygments_lexer": "ipython3",
   "version": "3.10.12"
  }
 },
 "nbformat": 4,
 "nbformat_minor": 5
}
