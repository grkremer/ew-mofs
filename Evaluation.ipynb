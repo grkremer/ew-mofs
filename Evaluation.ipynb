{
 "cells": [
  {
   "cell_type": "code",
   "execution_count": 1,
   "id": "5b6aa29b-bc6c-4e33-b9ad-805dd6ec6dd7",
   "metadata": {},
   "outputs": [],
   "source": [
    "### PYMOO\n",
    "from pymoo.core.problem import Problem, ElementwiseProblem, StarmapParallelization\n",
    "from pymoo.algorithms.moo.nsga2 import NSGA2\n",
    "from pymoo.optimize import minimize\n",
    "from pymoo.operators.sampling.rnd import BinaryRandomSampling\n",
    "from pymoo.operators.crossover.pntx import TwoPointCrossover\n",
    "from pymoo.operators.mutation.bitflip import BitflipMutation\n",
    "from pymoo.util.display.multi import MultiObjectiveOutput\n",
    "from pymoo.core.sampling import Sampling\n",
    "from pymoo.core.mutation import Mutation\n",
    "from pymoo.indicators.hv import HV\n",
    "from pymoo.termination.max_gen import MaximumGenerationTermination\n",
    "from pymoo.termination import get_termination\n",
    "\n",
    "#multiprocessamento e outros\n",
    "from tqdm import trange, tqdm\n",
    "import multiprocessing, sys, time, itertools, dill, random, os, pickle, copy\n",
    "\n",
    "#Pandas, SKLearn e etc.\n",
    "import pandas as pd\n",
    "import numpy as np\n",
    "import seaborn as sns\n",
    "import matplotlib.pyplot as plt\n",
    "\n",
    "from sklearn import metrics, svm\n",
    "from sklearn.metrics import accuracy_score, f1_score\n",
    "from sklearn.model_selection import train_test_split\n",
    "from sklearn.feature_selection import SelectKBest, f_classif\n",
    "from sklearn.model_selection import StratifiedKFold, cross_val_score\n",
    "\n",
    "'''#Goatools e Gontosim\n",
    "from goatools.obo_parser import GODag\n",
    "from goatools.base import get_godag\n",
    "#go = get_godag(\"go-basic.obo\", optional_attrs={'relationship'})\n",
    "from Similarity import Similarity_of_Two_GOTerms, Similarity_of_Set_of_GOTerms\n",
    "'''\n",
    "\"\"\" Funções e Variaveis Auxiliares\"\"\"\n",
    "from Constantes import *\n",
    "from PlotingFunctions import *\n",
    "\n",
    "from sklearn.ensemble import RandomForestClassifier"
   ]
  },
  {
   "cell_type": "code",
   "execution_count": 11,
   "id": "f6a17b10-7c3c-4cca-89a0-edf74e8730ad",
   "metadata": {},
   "outputs": [],
   "source": [
    "import pandas as pd\n",
    "import numpy as np\n",
    "from tqdm import trange"
   ]
  },
  {
   "cell_type": "code",
   "execution_count": 6,
   "id": "276f80ad-3959-4677-aeeb-6ccd8869d809",
   "metadata": {},
   "outputs": [],
   "source": [
    "data = pd.read_pickle('Data/data_Breast_GSE70947_norm.pkl')\n",
    "colunas = data.columns.drop(['type']).tolist()\n",
    "\n",
    "X = data[colunas]\n",
    "y = data['type']"
   ]
  },
  {
   "cell_type": "code",
   "execution_count": 7,
   "id": "5a1d52bd-42e5-497e-b1f3-30465207446e",
   "metadata": {},
   "outputs": [],
   "source": [
    "qsar_androgen_receptor = pd.read_csv('./Data/qsar_androgen_receptor.csv', sep = ';')\n",
    "\n",
    "# data (as pandas dataframes) \n",
    "y = np.ravel(np.array(qsar_androgen_receptor['positive']))\n",
    "X = np.array(qsar_androgen_receptor.drop(['positive'],axis = 1))\n"
   ]
  },
  {
   "cell_type": "code",
   "execution_count": 38,
   "id": "1fef0c23-ae5e-45fc-ad4c-b478b4af87ec",
   "metadata": {},
   "outputs": [],
   "source": [
    "from cuml.svm import SVC\n",
    "model = SVC()  # Usa GPU NVIDIA"
   ]
  },
  {
   "cell_type": "code",
   "execution_count": 27,
   "id": "403d6320-982a-4202-80ea-cda4988c8d88",
   "metadata": {},
   "outputs": [],
   "source": [
    "from thundersvm import SVC\n",
    "model = SVC(kernel = 'linear', gpu_id = -1)  # Usa GPU NVIDIA"
   ]
  },
  {
   "cell_type": "code",
   "execution_count": 13,
   "id": "b5fec2e9-0308-4a53-bcbd-1543a68ce5fa",
   "metadata": {},
   "outputs": [],
   "source": [
    "from sklearn.preprocessing import LabelEncoder\n",
    "label_encoder = LabelEncoder()\n",
    "y_encoded = label_encoder.fit_transform(y)\n"
   ]
  },
  {
   "cell_type": "code",
   "execution_count": 35,
   "id": "e17a9aa6-e024-445b-97dc-517e08505d83",
   "metadata": {},
   "outputs": [],
   "source": [
    "from sklearn import svm\n",
    "from sklearn.pipeline import make_pipeline\n",
    "from sklearn.preprocessing import StandardScaler\n",
    "pipeline = make_pipeline(\n",
    "    StandardScaler(),\n",
    "    model)"
   ]
  },
  {
   "cell_type": "code",
   "execution_count": 39,
   "id": "be90e766-bce5-4d69-ac7c-ef47049714cf",
   "metadata": {},
   "outputs": [
    {
     "name": "stderr",
     "output_type": "stream",
     "text": [
      "100%|██████████| 100/100 [00:03<00:00, 32.49it/s]\n"
     ]
    }
   ],
   "source": [
    "for i in trange(100):\n",
    "    model.fit(np.array(X).astype('float32'),y_encoded)"
   ]
  },
  {
   "cell_type": "code",
   "execution_count": 36,
   "id": "2d7481c9-6c8e-4dc0-b930-e824d2b8fff7",
   "metadata": {},
   "outputs": [
    {
     "name": "stderr",
     "output_type": "stream",
     "text": [
      "100%|██████████| 100/100 [00:05<00:00, 17.25it/s]\n"
     ]
    }
   ],
   "source": [
    "for i in trange(100):\n",
    "    pipeline.fit(np.array(X).astype('float32'),y_encoded)"
   ]
  },
  {
   "cell_type": "code",
   "execution_count": null,
   "id": "81e68e7d-28bc-4b3e-bcf4-b157bdca5012",
   "metadata": {},
   "outputs": [],
   "source": []
  }
 ],
 "metadata": {
  "kernelspec": {
   "display_name": "rapids24",
   "language": "python",
   "name": "rapids24"
  },
  "language_info": {
   "codemirror_mode": {
    "name": "ipython",
    "version": 3
   },
   "file_extension": ".py",
   "mimetype": "text/x-python",
   "name": "python",
   "nbconvert_exporter": "python",
   "pygments_lexer": "ipython3",
   "version": "3.10.16"
  }
 },
 "nbformat": 4,
 "nbformat_minor": 5
}
