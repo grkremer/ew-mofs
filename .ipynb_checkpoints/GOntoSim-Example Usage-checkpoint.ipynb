{
 "cells": [
  {
   "cell_type": "code",
   "execution_count": 1,
   "metadata": {
    "scrolled": true
   },
   "outputs": [
    {
     "name": "stdout",
     "output_type": "stream",
     "text": [
      "  EXISTS: go-basic.obo\n",
      "go-basic.obo: fmt(1.2) rel(2024-06-17) 51,502 Terms; optional_attrs(relationship)\n"
     ]
    }
   ],
   "source": [
    "from goatools.obo_parser import GODag\n",
    "from goatools.base import get_godag\n",
    "import pandas as pd\n",
    "import requests, sys\n",
    "\n",
    "go = get_godag(\"go-basic.obo\", optional_attrs={'relationship'})\n",
    "\n",
    "from Similarity import Similarity_of_Two_GOTerms, Similarity_of_Set_of_GOTerms\n",
    "\n",
    "import time\n",
    "import numpy as np\n",
    "import pickle"
   ]
  },
  {
   "cell_type": "code",
   "execution_count": 2,
   "metadata": {},
   "outputs": [],
   "source": [
    "go_id1 = 'GO:0008217'\n",
    "go_id2 = 'GO:0032392'\n",
    "go_id3 = 'GO:0031323'\n",
    "go_id4 = 'GO:0061035'\n"
   ]
  },
  {
   "cell_type": "code",
   "execution_count": 3,
   "metadata": {
    "scrolled": true
   },
   "outputs": [
    {
     "ename": "NameError",
     "evalue": "name 'go' is not defined",
     "output_type": "error",
     "traceback": [
      "\u001b[0;31m---------------------------------------------------------------------------\u001b[0m",
      "\u001b[0;31mNameError\u001b[0m                                 Traceback (most recent call last)",
      "Cell \u001b[0;32mIn[3], line 2\u001b[0m\n\u001b[1;32m      1\u001b[0m start \u001b[38;5;241m=\u001b[39m time\u001b[38;5;241m.\u001b[39mtime()\n\u001b[0;32m----> 2\u001b[0m Similarity_of_Two_GOTerms(go_id3, go_id4, \u001b[43mgo\u001b[49m, \u001b[38;5;124m'\u001b[39m\u001b[38;5;124mGOGO\u001b[39m\u001b[38;5;124m'\u001b[39m)\n\u001b[1;32m      3\u001b[0m Similarity_of_Two_GOTerms(go_id3, go_id4, go, \u001b[38;5;124m'\u001b[39m\u001b[38;5;124mGOGO\u001b[39m\u001b[38;5;124m'\u001b[39m)\n\u001b[1;32m      4\u001b[0m Similarity_of_Two_GOTerms(go_id3, go_id4, go, \u001b[38;5;124m'\u001b[39m\u001b[38;5;124mGOGO\u001b[39m\u001b[38;5;124m'\u001b[39m)\n",
      "\u001b[0;31mNameError\u001b[0m: name 'go' is not defined"
     ]
    }
   ],
   "source": [
    "start = time.time()\n",
    "Similarity_of_Two_GOTerms(go_id3, go_id4, go, 'GOGO')\n",
    "Similarity_of_Two_GOTerms(go_id3, go_id4, go, 'GOGO')\n",
    "Similarity_of_Two_GOTerms(go_id3, go_id4, go, 'GOGO')\n",
    "Similarity_of_Two_GOTerms(go_id3, go_id4, go, 'GOGO')\n",
    "Similarity_of_Two_GOTerms(go_id3, go_id4, go, 'GOGO')\n",
    "Similarity_of_Two_GOTerms(go_id3, go_id4, go, 'GOGO')\n",
    "Similarity_of_Two_GOTerms(go_id3, go_id4, go, 'GOGO')\n",
    "Similarity_of_Two_GOTerms(go_id3, go_id4, go, 'GOGO')\n",
    "Similarity_of_Two_GOTerms(go_id3, go_id4, go, 'GOGO')\n",
    "Similarity_of_Two_GOTerms(go_id3, go_id4, go, 'GOGO')\n",
    "print(time.time()-start)"
   ]
  },
  {
   "cell_type": "code",
   "execution_count": null,
   "metadata": {},
   "outputs": [],
   "source": [
    "matrix_similarity = np.load('go_terms_GOGO.npy')\n",
    "with open('dict_go_terms_index.pkl', 'rb') as file:\n",
    "    go_labels = pickle.load(file)"
   ]
  },
  {
   "cell_type": "code",
   "execution_count": null,
   "metadata": {},
   "outputs": [],
   "source": [
    "start = time.time()\n",
    "Similarity_of_Two_GOTerms(go_id3, go_id4, go, 'pre_computed_GOGO', matrix_similarity = matrix_similarity, go_labels = go_labels)\n",
    "Similarity_of_Two_GOTerms(go_id3, go_id4, go, 'pre_computed_GOGO', matrix_similarity = matrix_similarity, go_labels = go_labels)\n",
    "Similarity_of_Two_GOTerms(go_id3, go_id4, go, 'pre_computed_GOGO', matrix_similarity = matrix_similarity, go_labels = go_labels)\n",
    "Similarity_of_Two_GOTerms(go_id3, go_id4, go, 'pre_computed_GOGO', matrix_similarity = matrix_similarity, go_labels = go_labels)\n",
    "Similarity_of_Two_GOTerms(go_id3, go_id4, go, 'pre_computed_GOGO', matrix_similarity = matrix_similarity, go_labels = go_labels)\n",
    "Similarity_of_Two_GOTerms(go_id3, go_id4, go, 'pre_computed_GOGO', matrix_similarity = matrix_similarity, go_labels = go_labels)\n",
    "Similarity_of_Two_GOTerms(go_id3, go_id4, go, 'pre_computed_GOGO', matrix_similarity = matrix_similarity, go_labels = go_labels)\n",
    "Similarity_of_Two_GOTerms(go_id3, go_id4, go, 'pre_computed_GOGO', matrix_similarity = matrix_similarity, go_labels = go_labels)\n",
    "Similarity_of_Two_GOTerms(go_id3, go_id4, go, 'pre_computed_GOGO', matrix_similarity = matrix_similarity, go_labels = go_labels)\n",
    "Similarity_of_Two_GOTerms(go_id3, go_id4, go, 'pre_computed_GOGO', matrix_similarity = matrix_similarity, go_labels = go_labels)\n",
    "print(time.time()-start)"
   ]
  },
  {
   "cell_type": "code",
   "execution_count": 7,
   "metadata": {},
   "outputs": [
    {
     "name": "stdout",
     "output_type": "stream",
     "text": [
      "0.0003292560577392578\n"
     ]
    }
   ],
   "source": [
    "matrix_go_terms[go_terms_index['GO:0008217'],go_terms_index['GO:0032392']]\n",
    "start = time.time()\n",
    "matrix_go_terms[go_terms_index['GO:0008217'],go_terms_index['GO:0032392']]\n",
    "matrix_go_terms[go_terms_index['GO:0008217'],go_terms_index['GO:0032392']]\n",
    "matrix_go_terms[go_terms_index['GO:0008217'],go_terms_index['GO:0032392']]\n",
    "matrix_go_terms[go_terms_index['GO:0008217'],go_terms_index['GO:0032392']]\n",
    "matrix_go_terms[go_terms_index['GO:0008217'],go_terms_index['GO:0032392']]\n",
    "matrix_go_terms[go_terms_index['GO:0008217'],go_terms_index['GO:0032392']]\n",
    "matrix_go_terms[go_terms_index['GO:0008217'],go_terms_index['GO:0032392']]\n",
    "matrix_go_terms[go_terms_index['GO:0008217'],go_terms_index['GO:0032392']]\n",
    "matrix_go_terms[go_terms_index['GO:0008217'],go_terms_index['GO:0032392']]\n",
    "matrix_go_terms[go_terms_index['GO:0008217'],go_terms_index['GO:0032392']]\n",
    "print(time.time()-start)"
   ]
  },
  {
   "cell_type": "code",
   "execution_count": 8,
   "metadata": {},
   "outputs": [],
   "source": [
    "gene1 = [go_id1 , go_id2 , go_id3 , go_id4]\n",
    "gene2 = [go_id1 , go_id2 , go_id3 , go_id4]"
   ]
  },
  {
   "cell_type": "code",
   "execution_count": 17,
   "metadata": {},
   "outputs": [
    {
     "name": "stdout",
     "output_type": "stream",
     "text": [
      "pre_computed_GOGO\n",
      "1.0\n",
      "0.00026035308837890625\n"
     ]
    }
   ],
   "source": [
    "method = 'pre_computed_GOGO'\n",
    "print(method)\n",
    "start = time.time()\n",
    "print(Similarity_of_Set_of_GOTerms(gene1, gene2, method, matrix_similarity = matrix_similarity, go_labels = go_labels))\n",
    "print(time.time()-start)"
   ]
  },
  {
   "cell_type": "code",
   "execution_count": 18,
   "metadata": {},
   "outputs": [
    {
     "name": "stdout",
     "output_type": "stream",
     "text": [
      "GOGO\n",
      "1.0\n",
      "0.0022885799407958984\n"
     ]
    }
   ],
   "source": [
    "method = 'GOGO'\n",
    "print(method)\n",
    "start = time.time()\n",
    "print(Similarity_of_Set_of_GOTerms(gene1, gene2, method, matrix_go_terms = matrix_go_terms, go_labels = go_terms_index))\n",
    "print(time.time()-start)"
   ]
  },
  {
   "cell_type": "code",
   "execution_count": 5,
   "metadata": {},
   "outputs": [
    {
     "name": "stdout",
     "output_type": "stream",
     "text": [
      "GOntoSim\n",
      "GO:0005634 and GO:0042579 = 0.43452661328308995\n",
      "GO:0005777 and GO:0031903 = 0.7516592341352092\n",
      "Baseline\n",
      "GO:0005634 and GO:0042579 = 0.7246229452635147\n",
      "GO:0005777 and GO:0031903 = 0.6725006629541236\n",
      "Baseline_LCA\n",
      "GO:0005634 and GO:0042579 = 0.8690532265661799\n",
      "GO:0005777 and GO:0031903 = 0.9131545338441889\n",
      "Baseline_Desc\n",
      "GO:0005634 and GO:0042579 = 0.36231147263175734\n",
      "GO:0005777 and GO:0031903 = 0.6313322986901766\n",
      "wang\n",
      "GO:0005634 and GO:0042579 = 0.7439251158246402\n",
      "GO:0005777 and GO:0031903 = 0.6888698543860534\n",
      "GOGO\n",
      "GO:0005634 and GO:0042579 = 0.8088116501220666\n",
      "GO:0005777 and GO:0031903 = 0.7966598157740756\n"
     ]
    }
   ],
   "source": [
    "method = 'GOntoSim'\n",
    "print(method)\n",
    "# Similarity_of_Two_GOTerms(go_id1, go_id2, go, method)\n",
    "# Similarity_of_Two_GOTerms(go_id3, go_id4, go, method)\n",
    "print(go_id1,\"and\", go_id2, \"=\", Similarity_of_Two_GOTerms(go_id1, go_id2, go, method))\n",
    "print(go_id3,\"and\", go_id4, \"=\",Similarity_of_Two_GOTerms(go_id3, go_id4, go, method))\n",
    "\n",
    "method = 'Baseline'\n",
    "print(method)\n",
    "# Similarity_of_Two_GOTerms(go_id1, go_id2, go, method)\n",
    "# Similarity_of_Two_GOTerms(go_id3, go_id4, go, method)\n",
    "print(go_id1,\"and\", go_id2, \"=\", Similarity_of_Two_GOTerms(go_id1, go_id2, go, method))\n",
    "print(go_id3,\"and\", go_id4, \"=\",Similarity_of_Two_GOTerms(go_id3, go_id4, go, method))\n",
    "\n",
    "method = 'Baseline_LCA'\n",
    "print(method)\n",
    "# Similarity_of_Two_GOTerms(go_id1, go_id2, go, method)\n",
    "# Similarity_of_Two_GOTerms(go_id3, go_id4, go, method)\n",
    "print(go_id1,\"and\", go_id2, \"=\", Similarity_of_Two_GOTerms(go_id1, go_id2, go, method))\n",
    "print(go_id3,\"and\", go_id4, \"=\",Similarity_of_Two_GOTerms(go_id3, go_id4, go, method))\n",
    "\n",
    "method = 'Baseline_Desc'\n",
    "print(method)\n",
    "# Similarity_of_Two_GOTerms(go_id1, go_id2, go, method)\n",
    "# Similarity_of_Two_GOTerms(go_id3, go_id4, go, method)\n",
    "print(go_id1,\"and\", go_id2, \"=\", Similarity_of_Two_GOTerms(go_id1, go_id2, go, method))\n",
    "print(go_id3,\"and\", go_id4, \"=\",Similarity_of_Two_GOTerms(go_id3, go_id4, go, method))\n",
    "\n",
    "method = 'wang'\n",
    "print(method)\n",
    "print(go_id1,\"and\", go_id2, \"=\", Similarity_of_Two_GOTerms(go_id1, go_id2, go, method))\n",
    "print(go_id3,\"and\", go_id4, \"=\",Similarity_of_Two_GOTerms(go_id3, go_id4, go, method))\n",
    "\n",
    "\n",
    "method = 'GOGO'\n",
    "print(method)\n",
    "print(go_id1,\"and\", go_id2, \"=\", Similarity_of_Two_GOTerms(go_id1, go_id2, go, method))\n",
    "print(go_id3,\"and\", go_id4, \"=\",Similarity_of_Two_GOTerms(go_id3, go_id4, go, method))"
   ]
  },
  {
   "cell_type": "code",
   "execution_count": 6,
   "metadata": {},
   "outputs": [],
   "source": [
    "gene1 = ['GO:0004022','GO:0004024', 'GO:0004174', 'GO:0046872','GO:0008270','GO:0004023', 'GO:0016491']\n",
    "gene2 = ['GO:0009055','GO:0005515','GO:0046872','GO:0008270','GO:0020037']"
   ]
  },
  {
   "cell_type": "code",
   "execution_count": 8,
   "metadata": {},
   "outputs": [
    {
     "name": "stdout",
     "output_type": "stream",
     "text": [
      "GOntoSim\n",
      "0.65\n",
      "Baseline\n",
      "0.633\n",
      "Baseline_LCA\n",
      "0.902\n",
      "Baseline_Desc\n",
      "0.513\n",
      "wang\n",
      "0.681\n",
      "GOGO\n",
      "0.686\n"
     ]
    }
   ],
   "source": [
    "method = 'GOntoSim'\n",
    "print(method)\n",
    "print(Similarity_of_Set_of_GOTerms(gene1, gene2, method))\t\n",
    "\n",
    "method = 'Baseline'\n",
    "print(method)\n",
    "#print(Similarity_of_Set_of_GOTerms(['GO:0004022','GO:0004024', 'GO:0004174', 'GO:0046872','GO:0008270','GO:0004023', 'GO:0016491'],['GO:0009055','GO:0005515','GO:0046872','GO:0008270','GO:0020037'], method))\t\n",
    "print(Similarity_of_Set_of_GOTerms(gene1, gene2, method))\t\n",
    "\n",
    "\n",
    "method = 'Baseline_LCA'\n",
    "print(method)\n",
    "#print(Similarity_of_Set_of_GOTerms(['GO:0004022','GO:0004024', 'GO:0004174', 'GO:0046872','GO:0008270','GO:0004023', 'GO:0016491'],['GO:0009055','GO:0005515','GO:0046872','GO:0008270','GO:0020037'], method))\t\n",
    "print(Similarity_of_Set_of_GOTerms(gene1, gene2, method))\t\n",
    "\n",
    "\n",
    "method = 'Baseline_Desc'\n",
    "print(method)\n",
    "#print(Similarity_of_Set_of_GOTerms(['GO:0004022','GO:0004024', 'GO:0004174', 'GO:0046872','GO:0008270','GO:0004023', 'GO:0016491'],['GO:0009055','GO:0005515','GO:0046872','GO:0008270','GO:0020037'], method))\t\n",
    "print(Similarity_of_Set_of_GOTerms(gene1, gene2, method))\t\n",
    "\n",
    "\n",
    "method = 'wang'\n",
    "print(method)\n",
    "#print(Similarity_of_Set_of_GOTerms(['GO:0004022','GO:0004024', 'GO:0004174', 'GO:0046872','GO:0008270','GO:0004023', 'GO:0016491'],['GO:0009055','GO:0005515','GO:0046872','GO:0008270','GO:0020037'], method))\t\n",
    "print(Similarity_of_Set_of_GOTerms(gene1, gene2, method))\t\n",
    "\n",
    "\n",
    "method = 'GOGO'\n",
    "print(method)\n",
    "#print(Similarity_of_Set_of_GOTerms(['GO:0004022','GO:0004024', 'GO:0004174', 'GO:0046872','GO:0008270','GO:0004023', 'GO:0016491'],['GO:0009055','GO:0005515','GO:0046872','GO:0008270','GO:0020037'], method))\t\n",
    "print(Similarity_of_Set_of_GOTerms(gene1, gene2, method))\t"
   ]
  },
  {
   "cell_type": "code",
   "execution_count": 34,
   "metadata": {},
   "outputs": [],
   "source": [
    "\n",
    "def getGoTerms(URL):\n",
    "    requestURL = \"https://www.ebi.ac.uk/QuickGO/services/annotation/downloadSearch?geneProductId=\" + URL\n",
    "    r = requests.get(requestURL, headers={ \"Accept\" : \"text/tsv\"})\n",
    "    if not r.ok:\n",
    "        responseBody = \"!Too many parameters\\n\"\n",
    "        return (responseBody)\n",
    "        #r.raise_for_status()\n",
    "        #sys.exit()\n",
    "   \n",
    "    responseBody = r.text\n",
    "    return (responseBody)\n",
    "\n",
    "def get_Annotations(protein, aspect = 'MF'):\n",
    "    annotation = getGoTerms(protein)\n",
    "    #print(annotation)\n",
    "    df = pd.DataFrame([x.split('\\t') for x in annotation.split('\\n')[1:]], columns=[x for x in annotation.split('\\n')[0].split('\\t')])\n",
    "    df = df.drop(['GENE PRODUCT DB','ECO ID', 'REFERENCE', 'WITH/FROM', 'TAXON ID', 'ASSIGNED BY', 'ANNOTATION EXTENSION' ], axis=1)\n",
    "\n",
    "    if aspect== 'MF':\n",
    "        Filtered = df[(df['GO ASPECT'] == 'F')]\n",
    "    if aspect=='BP':\n",
    "        Filtered = df[(df['GO ASPECT'] == 'P')]\n",
    "    if aspect== 'CC':\n",
    "        Filtered = df[(df['GO ASPECT'] == 'C')]\n",
    "    # Drop rows with duplicate GO terms\n",
    "    Filtered = Filtered.drop_duplicates('GO TERM')\n",
    "    x = Filtered['GO TERM'].tolist()\n",
    "    return x"
   ]
  },
  {
   "cell_type": "markdown",
   "metadata": {},
   "source": [
    "# Similarity of 2 Proteins"
   ]
  },
  {
   "cell_type": "code",
   "execution_count": 36,
   "metadata": {},
   "outputs": [
    {
     "name": "stdout",
     "output_type": "stream",
     "text": [
      "GOntoSim\n",
      "0.761\n"
     ]
    }
   ],
   "source": [
    "protein1 = 'P0CG30'\n",
    "protein1_GOTerms = get_Annotations(protein1, 'MF')\n",
    "\n",
    "protein2 = 'Q9P6M1'\n",
    "protein2_GOTerms = get_Annotations(protein2, 'MF')\n",
    "\n",
    "method = 'GOntoSim'\n",
    "print(method)\n",
    "print(Similarity_of_Set_of_GOTerms(protein1_GOTerms, protein2_GOTerms, method))\t\n"
   ]
  },
  {
   "cell_type": "code",
   "execution_count": null,
   "metadata": {},
   "outputs": [],
   "source": []
  }
 ],
 "metadata": {
  "kernelspec": {
   "display_name": "Python 3 (ipykernel)",
   "language": "python",
   "name": "python3"
  },
  "language_info": {
   "codemirror_mode": {
    "name": "ipython",
    "version": 3
   },
   "file_extension": ".py",
   "mimetype": "text/x-python",
   "name": "python",
   "nbconvert_exporter": "python",
   "pygments_lexer": "ipython3",
   "version": "3.10.12"
  }
 },
 "nbformat": 4,
 "nbformat_minor": 4
}
