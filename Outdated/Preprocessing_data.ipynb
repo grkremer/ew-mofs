{
 "cells": [
  {
   "cell_type": "code",
   "execution_count": 4,
   "id": "825836ec-0883-47f1-b14e-ecd2e0ad7066",
   "metadata": {},
   "outputs": [],
   "source": [
    "import pandas as pd\n",
    "import numpy as np\n",
    "import seaborn as sns\n",
    "from tqdm.notebook import trange, tqdm\n"
   ]
  },
  {
   "cell_type": "code",
   "execution_count": 24,
   "id": "5f952da3-e1c9-40c1-8208-890af7101912",
   "metadata": {},
   "outputs": [],
   "source": [
    "data = pd.read_pickle('Data/data_Breast_GSE70947_norm.pkl')"
   ]
  },
  {
   "cell_type": "code",
   "execution_count": 20,
   "id": "9ca24c94-2fa4-4843-9cae-f62515db7275",
   "metadata": {
    "jupyter": {
     "source_hidden": true
    }
   },
   "outputs": [
    {
     "data": {
      "application/vnd.jupyter.widget-view+json": {
       "model_id": "7c60b5bc703d47f6bf68e1e582178d6c",
       "version_major": 2,
       "version_minor": 0
      },
      "text/plain": [
       "  0%|          | 0/35981 [00:00<?, ?it/s]"
      ]
     },
     "metadata": {},
     "output_type": "display_data"
    }
   ],
   "source": [
    "'''\n",
    "data = pd.read_csv('./Data/Breast_GSE70947.csv') #Import Brast Cancer dataset\n",
    "y = data['type'].copy()\n",
    "data.drop(labels=['type', 'samples'], axis = 1, inplace = True)\n",
    "colunas = list(data.columns)\n",
    "\n",
    "for i in trange(len(colunas)):\n",
    "    coluna = colunas[i]\n",
    "    data[coluna] = (data[coluna] - data[coluna].mean())/np.std(data[coluna])\n",
    "\n",
    "data['type'] = y.copy()\n",
    "'''"
   ]
  },
  {
   "cell_type": "code",
   "execution_count": 29,
   "id": "0265b88c-b0f5-47e5-88ca-e71a51ec9b6a",
   "metadata": {},
   "outputs": [
    {
     "data": {
      "text/plain": [
       "'ENST00000508993'"
      ]
     },
     "execution_count": 29,
     "metadata": {},
     "output_type": "execute_result"
    }
   ],
   "source": [
    "colunas = list(data.columns)[:-1]\n"
   ]
  },
  {
   "cell_type": "code",
   "execution_count": 23,
   "id": "0f8d17b1-3965-448f-8769-7264c7a2d41e",
   "metadata": {},
   "outputs": [],
   "source": [
    "data.to_pickle('Data/data_Breast_GSE70947_norm.pkl')"
   ]
  },
  {
   "cell_type": "code",
   "execution_count": null,
   "id": "ffa0fc75-856c-40aa-a20e-0cc206fe3f56",
   "metadata": {},
   "outputs": [],
   "source": []
  }
 ],
 "metadata": {
  "kernelspec": {
   "display_name": "Python 3 (ipykernel)",
   "language": "python",
   "name": "python3"
  },
  "language_info": {
   "codemirror_mode": {
    "name": "ipython",
    "version": 3
   },
   "file_extension": ".py",
   "mimetype": "text/x-python",
   "name": "python",
   "nbconvert_exporter": "python",
   "pygments_lexer": "ipython3",
   "version": "3.10.12"
  }
 },
 "nbformat": 4,
 "nbformat_minor": 5
}
