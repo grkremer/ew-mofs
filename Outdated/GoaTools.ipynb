{
 "cells": [
  {
   "cell_type": "code",
   "execution_count": 1,
   "id": "41ade179-c3c7-422d-8e88-c81b900cb41f",
   "metadata": {},
   "outputs": [
    {
     "name": "stdout",
     "output_type": "stream",
     "text": [
      "  EXISTS: go-basic.obo\n",
      "go-basic.obo: fmt(1.2) rel(2024-06-17) 51,502 Terms; optional_attrs(relationship)\n"
     ]
    }
   ],
   "source": [
    "from goatools.base import get_godag\n",
    "from goatools.base import download_go_basic_obo\n",
    "from goatools.obo_parser import GODag\n",
    "\n",
    "fin_dag = download_go_basic_obo(\"go-basic.obo\")\n",
    "go = GODag(fin_dag, optional_attrs={'relationship'}, load_obsolete=True)\n"
   ]
  },
  {
   "cell_type": "code",
   "execution_count": 5,
   "id": "61c4c2b8-efdd-4e39-a37f-5a27e864fe6c",
   "metadata": {},
   "outputs": [],
   "source": [
    "from goatools.semsim.termwise.wang import SsWang\n"
   ]
  },
  {
   "cell_type": "code",
   "execution_count": 21,
   "id": "31ea1be2-934e-4c4b-8950-843a764d1464",
   "metadata": {},
   "outputs": [],
   "source": [
    "go_a = 'GO:0006810'\n",
    "go_b = 'GO:0007632'\n",
    "go_c = ['GO:0007632', 'GO:0007632']\n",
    "\n",
    "wang_r1 = SsWang(goids = {go_a, go_b}, godag = go)\n"
   ]
  },
  {
   "cell_type": "code",
   "execution_count": 22,
   "id": "79c5ab47-391b-46aa-bf5f-dc0c60c92ca2",
   "metadata": {},
   "outputs": [
    {
     "ename": "TypeError",
     "evalue": "unhashable type: 'list'",
     "output_type": "error",
     "traceback": [
      "\u001b[0;31m---------------------------------------------------------------------------\u001b[0m",
      "\u001b[0;31mTypeError\u001b[0m                                 Traceback (most recent call last)",
      "Cell \u001b[0;32mIn[22], line 1\u001b[0m\n\u001b[0;32m----> 1\u001b[0m val \u001b[38;5;241m=\u001b[39m \u001b[43mwang_r1\u001b[49m\u001b[38;5;241;43m.\u001b[39;49m\u001b[43mget_sim\u001b[49m\u001b[43m(\u001b[49m\u001b[43mgo_a\u001b[49m\u001b[43m,\u001b[49m\u001b[43m \u001b[49m\u001b[43mgo_c\u001b[49m\u001b[43m)\u001b[49m\n\u001b[1;32m      2\u001b[0m val\n",
      "File \u001b[0;32m~/.local/lib/python3.10/site-packages/goatools/semsim/termwise/wang.py:41\u001b[0m, in \u001b[0;36mSsWang.get_sim\u001b[0;34m(self, go_a, go_b)\u001b[0m\n\u001b[1;32m     39\u001b[0m \u001b[38;5;28;01mdef\u001b[39;00m \u001b[38;5;21mget_sim\u001b[39m(\u001b[38;5;28mself\u001b[39m, go_a, go_b):\n\u001b[1;32m     40\u001b[0m \u001b[38;5;250m    \u001b[39m\u001b[38;5;124;03m\"\"\"Get Wang's semantic similarity between two GO terms\"\"\"\u001b[39;00m\n\u001b[0;32m---> 41\u001b[0m     \u001b[38;5;28;01mif\u001b[39;00m \u001b[38;5;28;43mself\u001b[39;49m\u001b[38;5;241;43m.\u001b[39;49m\u001b[43m_not_loaded\u001b[49m\u001b[43m(\u001b[49m\u001b[43mgo_a\u001b[49m\u001b[43m,\u001b[49m\u001b[43m \u001b[49m\u001b[43mgo_b\u001b[49m\u001b[43m)\u001b[49m:\n\u001b[1;32m     42\u001b[0m         \u001b[38;5;28;01mreturn\u001b[39;00m \u001b[38;5;28;01mNone\u001b[39;00m\n\u001b[1;32m     43\u001b[0m     dag_a \u001b[38;5;241m=\u001b[39m \u001b[38;5;28mself\u001b[39m\u001b[38;5;241m.\u001b[39mgo2dag[go_a]\n",
      "File \u001b[0;32m~/.local/lib/python3.10/site-packages/goatools/semsim/termwise/wang.py:65\u001b[0m, in \u001b[0;36mSsWang._not_loaded\u001b[0;34m(self, go_a, go_b)\u001b[0m\n\u001b[1;32m     63\u001b[0m     \u001b[38;5;28mprint\u001b[39m(\u001b[38;5;124m'\u001b[39m\u001b[38;5;124m**ERROR: \u001b[39m\u001b[38;5;132;01m{GO}\u001b[39;00m\u001b[38;5;124m NOT LOADED INTO SsWang\u001b[39m\u001b[38;5;124m'\u001b[39m\u001b[38;5;241m.\u001b[39mformat(GO\u001b[38;5;241m=\u001b[39mgo_a))\n\u001b[1;32m     64\u001b[0m     \u001b[38;5;28;01mreturn\u001b[39;00m \u001b[38;5;28;01mTrue\u001b[39;00m\n\u001b[0;32m---> 65\u001b[0m \u001b[38;5;28;01mif\u001b[39;00m \u001b[43mgo_b\u001b[49m\u001b[43m \u001b[49m\u001b[38;5;129;43;01mnot\u001b[39;49;00m\u001b[43m \u001b[49m\u001b[38;5;129;43;01min\u001b[39;49;00m\u001b[43m \u001b[49m\u001b[38;5;28;43mself\u001b[39;49m\u001b[38;5;241;43m.\u001b[39;49m\u001b[43mgo2dag\u001b[49m:\n\u001b[1;32m     66\u001b[0m     \u001b[38;5;28mprint\u001b[39m(\u001b[38;5;124m'\u001b[39m\u001b[38;5;124m**ERROR: \u001b[39m\u001b[38;5;132;01m{GO}\u001b[39;00m\u001b[38;5;124m NOT LOADED INTO SsWang\u001b[39m\u001b[38;5;124m'\u001b[39m\u001b[38;5;241m.\u001b[39mformat(GO\u001b[38;5;241m=\u001b[39mgo_b))\n\u001b[1;32m     67\u001b[0m     \u001b[38;5;28;01mreturn\u001b[39;00m \u001b[38;5;28;01mTrue\u001b[39;00m\n",
      "\u001b[0;31mTypeError\u001b[0m: unhashable type: 'list'"
     ]
    }
   ],
   "source": [
    "val = wang_r1.get_sim(go_a, go_c)\n",
    "val"
   ]
  },
  {
   "cell_type": "code",
   "execution_count": null,
   "id": "7b0ff21f-697c-4bd5-95bd-62932a9244d9",
   "metadata": {},
   "outputs": [],
   "source": []
  }
 ],
 "metadata": {
  "kernelspec": {
   "display_name": "Python 3 (ipykernel)",
   "language": "python",
   "name": "python3"
  },
  "language_info": {
   "codemirror_mode": {
    "name": "ipython",
    "version": 3
   },
   "file_extension": ".py",
   "mimetype": "text/x-python",
   "name": "python",
   "nbconvert_exporter": "python",
   "pygments_lexer": "ipython3",
   "version": "3.10.12"
  }
 },
 "nbformat": 4,
 "nbformat_minor": 5
}
