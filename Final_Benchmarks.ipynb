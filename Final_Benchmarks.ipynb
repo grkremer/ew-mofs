{
 "cells": [
  {
   "cell_type": "markdown",
   "id": "48b8edaa-b0cf-4146-8acb-bb056a0c07ed",
   "metadata": {},
   "source": [
    "### Imports"
   ]
  },
  {
   "cell_type": "code",
   "execution_count": 1,
   "id": "30a7b9ad-e5c6-4db8-8f69-6d426af5fc84",
   "metadata": {},
   "outputs": [],
   "source": [
    "### PYMOO\n",
    "from pymoo.core.problem import Problem, ElementwiseProblem, StarmapParallelization\n",
    "from pymoo.algorithms.moo.nsga2 import NSGA2\n",
    "from pymoo.algorithms.moo.spea2 import SPEA2\n",
    "from pymoo.util.ref_dirs import get_reference_directions\n",
    "from pymoo.optimize import minimize\n",
    "from pymoo.operators.sampling.rnd import BinaryRandomSampling\n",
    "from pymoo.operators.crossover.pntx import TwoPointCrossover\n",
    "from pymoo.operators.crossover.ux import UniformCrossover\n",
    "from pymoo.operators.mutation.bitflip import BitflipMutation\n",
    "from pymoo.util.display.multi import MultiObjectiveOutput\n",
    "from pymoo.core.sampling import Sampling\n",
    "from pymoo.core.mutation import Mutation\n",
    "from pymoo.indicators.hv import HV\n",
    "from pymoo.termination.max_gen import MaximumGenerationTermination\n",
    "from pymoo.termination import get_termination\n",
    "from pymoo.core.crossover import Crossover\n",
    "from pymoo.util.misc import crossover_mask\n",
    "\n",
    "#multiprocessamento e outros\n",
    "from tqdm.notebook import trange, tqdm\n",
    "import multiprocessing, sys, time, itertools, dill, random, os, pickle, copy\n",
    "\n",
    "#Pandas, SKLearn e etc.\n",
    "import pandas as pd\n",
    "import numpy as np\n",
    "import seaborn as sns\n",
    "import matplotlib.pyplot as plt\n",
    "\n",
    "from sklearn import metrics, svm\n",
    "from sklearn.metrics import accuracy_score, f1_score\n",
    "from sklearn.model_selection import train_test_split\n",
    "from sklearn.feature_selection import SelectKBest, f_classif\n",
    "from sklearn.model_selection import StratifiedKFold, cross_val_score\n",
    "from sklearn.ensemble import RandomForestClassifier\n",
    "from sklearn.tree import DecisionTreeClassifier\n",
    "from sklearn.pipeline import make_pipeline\n",
    "from sklearn.preprocessing import StandardScaler\n",
    "from sklearn.datasets import fetch_openml\n",
    "\n",
    "from skrebate import ReliefF\n",
    "from ucimlrepo import fetch_ucirepo\n",
    "from sklearn.datasets import fetch_openml"
   ]
  },
  {
   "cell_type": "code",
   "execution_count": 2,
   "id": "fdc19732-bf5c-4077-a938-0af42a48edd3",
   "metadata": {},
   "outputs": [],
   "source": [
    "from feature_selection_tools import *"
   ]
  },
  {
   "cell_type": "code",
   "execution_count": 3,
   "id": "ce676fd4-0f3f-4f72-b8be-39f07355750b",
   "metadata": {},
   "outputs": [
    {
     "name": "stdout",
     "output_type": "stream",
     "text": [
      "[[-1.41622706  0.86222351  0.03693517 ... -0.62988455  2.6485402\n",
      "   0.59256727]\n",
      " [ 0.17618982  0.15712792 -0.97624763 ... -0.32406818 -0.43087309\n",
      "   0.71587274]\n",
      " [-0.25954668  0.5131058   5.06188304 ... -0.67774497  1.99068556\n",
      "   1.938929  ]\n",
      " ...\n",
      " [ 0.8920676  -1.84189777 -0.80525119 ... -0.48176597 -1.45759015\n",
      "   0.55833642]\n",
      " [ 0.35845362 -0.53533509 -4.70031382 ...  1.38833778 -0.79059093\n",
      "  -0.49973018]\n",
      " [-0.709441   -1.3716737  -6.82247577 ...  0.44921872  2.19670018\n",
      "  -0.38852078]]\n",
      "[1 1 0 0 0 0 1 1 0 0 1 1 1 0 0 1 1 0 0 0 1 1 0 1 1 0 1 1 0 0 0 0 1 1 1 0 1\n",
      " 0 1 0 1 1 0 1 0 1 0 1 0 0]\n",
      "[[-1.41622706  0.86222351  0.03693517 ... -0.62988455  2.6485402\n",
      "   0.59256727]\n",
      " [ 0.17618982  0.15712792 -0.97624763 ... -0.32406818 -0.43087309\n",
      "   0.71587274]\n",
      " [-0.25954668  0.5131058   5.06188304 ... -0.67774497  1.99068556\n",
      "   1.938929  ]\n",
      " ...\n",
      " [ 0.8920676  -1.84189777 -0.80525119 ... -0.48176597 -1.45759015\n",
      "   0.55833642]\n",
      " [ 0.35845362 -0.53533509 -4.70031382 ...  1.38833778 -0.79059093\n",
      "  -0.49973018]\n",
      " [-0.709441   -1.3716737  -6.82247577 ...  0.44921872  2.19670018\n",
      "  -0.38852078]]\n"
     ]
    },
    {
     "data": {
      "text/plain": [
       "8"
      ]
     },
     "execution_count": 3,
     "metadata": {},
     "output_type": "execute_result"
    }
   ],
   "source": [
    "from sklearn.datasets import make_classification\n",
    "X, y = make_classification(random_state=42, n_samples = 50, n_features = 100, n_informative = 10, n_redundant=10, n_repeated=10)\n",
    "\n",
    "pool_values = generate_importances(X, y)\n",
    "len(pool_values)"
   ]
  },
  {
   "cell_type": "code",
   "execution_count": 8,
   "id": "828aadd5-0549-4360-96d6-a6d03e535a93",
   "metadata": {
    "scrolled": true
   },
   "outputs": [
    {
     "ename": "NameError",
     "evalue": "name '_init_evaluator' is not defined",
     "output_type": "error",
     "traceback": [
      "\u001b[0;31m---------------------------------------------------------------------------\u001b[0m",
      "\u001b[0;31mNameError\u001b[0m                                 Traceback (most recent call last)",
      "Cell \u001b[0;32mIn[8], line 4\u001b[0m\n\u001b[1;32m      1\u001b[0m X, y \u001b[38;5;241m=\u001b[39m make_classification(random_state\u001b[38;5;241m=\u001b[39m\u001b[38;5;241m42\u001b[39m, n_samples \u001b[38;5;241m=\u001b[39m \u001b[38;5;241m100\u001b[39m, n_features \u001b[38;5;241m=\u001b[39m \u001b[38;5;241m100\u001b[39m, n_informative \u001b[38;5;241m=\u001b[39m \u001b[38;5;241m10\u001b[39m, n_redundant\u001b[38;5;241m=\u001b[39m\u001b[38;5;241m10\u001b[39m, n_repeated\u001b[38;5;241m=\u001b[39m\u001b[38;5;241m10\u001b[39m)\n\u001b[1;32m      3\u001b[0m sns\u001b[38;5;241m.\u001b[39mset_style(\u001b[38;5;124m'\u001b[39m\u001b[38;5;124mticks\u001b[39m\u001b[38;5;124m'\u001b[39m)\n\u001b[0;32m----> 4\u001b[0m pool \u001b[38;5;241m=\u001b[39m multiprocessing\u001b[38;5;241m.\u001b[39mPool(\u001b[38;5;241m40\u001b[39m, initializer\u001b[38;5;241m=\u001b[39m\u001b[43m_init_evaluator\u001b[49m(np\u001b[38;5;241m.\u001b[39mzeros((\u001b[38;5;241m100\u001b[39m,\u001b[38;5;241m100\u001b[39m)),np\u001b[38;5;241m.\u001b[39mzeros(\u001b[38;5;241m100\u001b[39m)))\n\u001b[1;32m      5\u001b[0m runner \u001b[38;5;241m=\u001b[39m StarmapParallelization(pool\u001b[38;5;241m.\u001b[39mstarmap)\n\u001b[1;32m      6\u001b[0m problem \u001b[38;5;241m=\u001b[39m GeneSelection(X \u001b[38;5;241m=\u001b[39m X, y \u001b[38;5;241m=\u001b[39m y, runner\u001b[38;5;241m=\u001b[39mrunner)\n",
      "\u001b[0;31mNameError\u001b[0m: name '_init_evaluator' is not defined"
     ]
    }
   ],
   "source": [
    "X, y = make_classification(random_state=42, n_samples = 100, n_features = 100, n_informative = 10, n_redundant=10, n_repeated=10)\n",
    "\n",
    "sns.set_style('ticks')\n",
    "pool = multiprocessing.Pool(40, initializer=_init_evaluator(np.zeros((100,100)),np.zeros(100)))\n",
    "runner = StarmapParallelization(pool.starmap)\n",
    "problem = GeneSelection(X = X, y = y, runner=runner)\n",
    "\n",
    "classifier = DecisionTreeClassifier()\n",
    "\n",
    "individuals = FeatureSampling(feature_dfs = pool_values).do(problem, n_samples = 100)"
   ]
  },
  {
   "cell_type": "markdown",
   "id": "3e890046-8370-43b2-83a7-75a60a402fd1",
   "metadata": {},
   "source": [
    "### Restrictions"
   ]
  },
  {
   "cell_type": "code",
   "execution_count": 7,
   "id": "35201bcc-891d-4f47-b047-74d63cf5d6d7",
   "metadata": {},
   "outputs": [],
   "source": [
    "MIN_FEATURES = 1\n",
    "MAX_FEATURES = 100\n",
    "\n",
    "model = make_pipeline(\n",
    "    StandardScaler(),\n",
    "    DecisionTreeClassifier(max_depth=8))\n",
    "CLASSIFIER = model"
   ]
  },
  {
   "cell_type": "markdown",
   "id": "7af87ec7-1a2f-403e-84fd-fb1a3a174df8",
   "metadata": {},
   "source": [
    "### Sampling, Mutation and Crossover Functions"
   ]
  },
  {
   "cell_type": "code",
   "execution_count": 53,
   "id": "a04ff0ba-19f5-4cc3-abb1-0eff7cf92054",
   "metadata": {},
   "outputs": [],
   "source": [
    "### Sampling\n",
    "class BinaryRandomSampling(Sampling):\n",
    "    def __init__(self, **kwargs):\n",
    "        self.max_features = kwargs.pop('max_features', 100)\n",
    "        super().__init__(**kwargs)\n",
    "    def _do(self, problem, n_samples, **kwargs):\n",
    "        val = np.random.random((n_samples, problem.n_var))\n",
    "        val = checkEmpty(np.array((val < 0.5).astype(bool)), self.max_features)\n",
    "        return val\n",
    "        \n",
    "class BinaryDistributedWeightsSampling(Sampling):\n",
    "    def __init__(self, **kwargs):\n",
    "        self.sampling_weights = kwargs.pop('sampling_weights', None)\n",
    "        self.seed = kwargs.pop('seed', 42)\n",
    "        self.max_features = kwargs.pop('max_features', 100)\n",
    "        super().__init__(**kwargs)\n",
    "        \n",
    "    def _do(self, problem, n_samples, **kwargs):\n",
    "        random.seed(self.seed)\n",
    "        try:\n",
    "            self.sampling_weigh = self.sampling_weights / np.sum(self.sampling_weights, dtype=float)\n",
    "        except:\n",
    "            pass\n",
    "        population = []\n",
    "        for i in range(n_samples):\n",
    "            trues = np.random.randint(1, min(self.max_features, problem.n_var) + 1)\n",
    "            individual = np.full(problem.n_var, False)\n",
    "            individual[np.random.choice(problem.n_var, trues, p = self.sampling_weights, replace = False )] = True\n",
    "            population.append(individual)\n",
    "        population = np.array(population)\n",
    "        return population\n",
    "\n",
    "\n",
    "class BinaryPoolSampling(Sampling):\n",
    "    def __init__(self, **kwargs):\n",
    "        self.sampling_weights = kwargs.pop('sampling_weights', None)\n",
    "        self.seed = kwargs.pop('seed', 42)\n",
    "        self.max_features = kwargs.pop('max_features', 100)\n",
    "        self.pool = kwargs.pop('pool', None)\n",
    "        super().__init__(**kwargs)\n",
    "        \n",
    "    def _do(self, problem, n_samples, **kwargs):\n",
    "        random.seed(self.seed)\n",
    "        population = []\n",
    "        pool_values = []\n",
    "        for value in self.pool:\n",
    "            value = (value + 0.00001)  / np.sum((value + 0.00001), dtype=float)\n",
    "            pool_values.append(value)\n",
    "        print(n_samples, len(self.pool))\n",
    "        repeat_times, remainder = divmod(n_samples, len(self.pool))\n",
    "        pool_values = pool_values * repeat_times + pool_values[:remainder]\n",
    "        for i,value in zip(range(n_samples),pool_values):\n",
    "            trues = np.random.randint(1, min(self.max_features, problem.n_var) + 1)\n",
    "            individual = np.full(problem.n_var, False)\n",
    "            individual[np.random.choice(problem.n_var, trues, p = value, replace = False)] = True\n",
    "            population.append(individual)\n",
    "        population = np.array(population)\n",
    "        print(len(population))\n",
    "        return population\n",
    "\n",
    "class PoolMutation(Mutation):\n",
    "    def __init__(self, **kwargs):\n",
    "        self.pool = kwargs.pop('pool', None)\n",
    "        self.max_features = kwargs.pop('max_features', 100)\n",
    "        super().__init__(**kwargs)\n",
    "        \n",
    "    def _do(self, problem, X, **kwargs):\n",
    "        # Itera diretamente em X e full para alterar os valores\n",
    "        for individual in X:\n",
    "            true_indices = np.where(individual)[0]\n",
    "            false_indices = np.where(~individual)[0]\n",
    "        \n",
    "            # Seleciona um índice de variáveis não nulas\n",
    "            if len(true_indices) >= 1:\n",
    "                m = np.random.choice(true_indices, size=1, replace=False)\n",
    "                individual[m] = 0\n",
    "            index = np.random.choice(len(self.pool))\n",
    "            value = self.pool[index]\n",
    "            value = value[false_indices]\n",
    "            # Obtém os índices ordenados do maior para o menor peso\n",
    "            sorted_indices = np.argsort(value)[::-1]\n",
    "            # Seleciona os top N índices\n",
    "            sorted_indices[:min(MAX_FEATURES, len(true_indices))]\n",
    "            # Seleciona um índice de variáveil nula\n",
    "            if len(false_indices) >= 1:\n",
    "                m = np.random.choice(sorted_indices, size=1, replace=False)\n",
    "                # Aplica a lógica baseada no Score\n",
    "                individual[m] = 1\n",
    "\n",
    "        for individual in X:\n",
    "            if individual.sum() == 0:\n",
    "                individual[np.random.choice(range(len(individual)))] = True\n",
    "            while individual.sum() > MAX_FEATURES:\n",
    "                individual = individual[np.random.choice(np.where(individual == True)[0], MAX_FEATURES)]\n",
    "        X = checkEmpty(X, self.max_features)\n",
    "        return X\n",
    "\n",
    "\n",
    "class SparseEASampling(Sampling):\n",
    "    def __init__(self, **kwargs):\n",
    "        self.sc = kwargs.pop('sc', None)\n",
    "        self.seed = kwargs.pop('seed', 42)\n",
    "        self.max_features = kwargs.pop('max_features', 100)\n",
    "        super().__init__(**kwargs)\n",
    "        \n",
    "    def _do(self, problem, n_samples, **kwargs):\n",
    "        random.seed(self.seed)\n",
    "        population = []\n",
    "        for i in range(n_samples):\n",
    "            trues = np.random.randint(1, min(self.max_features, problem.n_var)  + 1)\n",
    "            individual = np.full(len(self.sc), False)\n",
    "            \n",
    "            for j in range(trues):\n",
    "                candidates = random.choices(range(len(self.sc)), k = 2)\n",
    "                if self.sc[candidates[0]] > self.sc[candidates[1]]:\n",
    "                    individual[candidates[0]] = True\n",
    "                else:\n",
    "                    individual[candidates[1]] = True\n",
    "\n",
    "            population.append(individual)\n",
    "        population = np.array(population)\n",
    "        row_sums = population.sum(axis=1)\n",
    "        # Mostra a matriz ordenada\n",
    "        return population\n",
    "\n",
    "class ReliefFSampling(Sampling):\n",
    "    def __init__(self, **kwargs):\n",
    "        self.sc = kwargs.pop('sc', None)\n",
    "        self.seed = kwargs.pop('seed', 42)\n",
    "        self.max_features = kwargs.pop('max_features', 100)\n",
    "        super().__init__(**kwargs)\n",
    "        \n",
    "    def tournament_selection(self, num, sc):\n",
    "        selected_indices = []\n",
    "        for _ in range(num):\n",
    "            # Escolhe dois índices aleatórios\n",
    "            idx1, idx2 = np.random.choice(len(sc), size=2, replace=False)\n",
    "            # Compara as pontuações e seleciona o índice com a maior pontuação\n",
    "            if sc[idx1] > sc[idx2]:\n",
    "                selected_indices.append(idx1)\n",
    "            else:\n",
    "                selected_indices.append(idx2)\n",
    "        # Remove duplicatas e retorna os índices únicos\n",
    "        return list(set(selected_indices))\n",
    "\n",
    "    def _do(self, problem, n_samples, **kwargs):\n",
    "        population = np.full((n_samples, len(self.sc)), False)  # Inicializa a população com zeros\n",
    "        for i in range(n_samples):\n",
    "            num = np.random.randint(1, min(self.max_features, problem.n_var)  + 1)\n",
    "            selected_indices = self.tournament_selection(num, self.sc)\n",
    "            population[i, selected_indices] = True\n",
    "        return population\n",
    "\n",
    "### Mutation\n",
    "def checkEmpty(population, max_features):\n",
    "    max_restriction = True\n",
    "    new_pop = []\n",
    "    for individual in population:\n",
    "        if individual.sum() == 0:\n",
    "            individual[np.random.randint(0,(len(individual)))] = True\n",
    "        if individual.sum() > max_features:\n",
    "            true_indices = np.array(list(range(len(individual))))[individual]\n",
    "            individual = np.full(len(individual), False)\n",
    "            individual[random.choices(true_indices, k = max_features)] = True\n",
    "        new_pop.append(individual)\n",
    "    return np.array(new_pop)\n",
    "\n",
    "class BitflipMutationLimitedBalanced(Mutation):\n",
    "    def __init__(self, **kwargs):\n",
    "        self.weights = kwargs.pop('weights', None)\n",
    "        self.max_features = kwargs.pop('max_features', 100)\n",
    "        super().__init__(**kwargs)\n",
    "        \n",
    "    def _do(self, problem, X, **kwargs):\n",
    "        prob_var = self.get_prob_var(problem, size=(len(X), 1))\n",
    "        full = np.random.rand(*X.shape) < prob_var  # Evita uma criação redundante de matriz e faz o flip diretamente\n",
    "\n",
    "        # Itera diretamente em X e full para alterar os valores\n",
    "        for individual, vector in zip(X, full):\n",
    "            num_changes = min(self.max_features, np.sum(vector))  # Limita a quantidade de alterações pelo MAX_FEATURES\n",
    "            true_indices = np.where(individual)[0]\n",
    "            false_indices = np.where(~individual)[0]\n",
    "        \n",
    "            # Seleciona índices aleatórios para trocar, dividindo o número de mudanças igualmente entre 'True' e 'False'\n",
    "            flip_choices = np.random.rand(num_changes) < 0.5\n",
    "            true_flips = np.sum(flip_choices)\n",
    "            false_flips = num_changes - true_flips\n",
    "\n",
    "            if self.weights is not None:\n",
    "                weights = self.weights[false_indices]\n",
    "            else:\n",
    "                weights = None\n",
    "                \n",
    "            if true_flips > 0 and len(true_indices) > 0:\n",
    "                individual[np.random.choice(true_indices, min(true_flips, len(true_indices)), replace=False)] = False\n",
    "            if false_flips > 0 and len(false_indices) > 0:\n",
    "                individual[random.choices(false_indices, k = min(false_flips, len(false_indices)), weights=weights)] = True\n",
    "        X = checkEmpty(X, self.max_features)\n",
    "        return X\n",
    "\n",
    "\n",
    "class SparseEAMutation(Mutation):\n",
    "    def __init__(self, **kwargs):\n",
    "        self.weights = kwargs.pop('weights', None)\n",
    "        self.max_features = kwargs.pop('max_features', 100)\n",
    "        super().__init__(**kwargs)\n",
    "        \n",
    "    def _do(self, problem, X, **kwargs):\n",
    "        # Itera diretamente em X e full para alterar os valores\n",
    "        for individual in X:\n",
    "            true_indices = np.where(individual)[0]\n",
    "            false_indices = np.where(~individual)[0]\n",
    "        \n",
    "            if np.random.rand() < 0.5:\n",
    "                # Seleciona dois índices de variáveis não nulas\n",
    "                if len(true_indices) >= 2:\n",
    "                    m, n = np.random.choice(true_indices, size=2, replace=False)\n",
    "                    # Aplica a lógica baseada no Score\n",
    "                    if self.weights[m] < self.weights[n]:\n",
    "                        individual[m] = 0\n",
    "                    else:\n",
    "                        individual[n] = 0\n",
    "            else:\n",
    "                # Seleciona dois índices de variáveis nulas\n",
    "                if len(false_indices) >= 2:\n",
    "                    m, n = np.random.choice(false_indices, size=2, replace=False)\n",
    "                    # Aplica a lógica baseada no Score\n",
    "                    if self.weights[m] > self.weights[n]:\n",
    "                        individual[m] = 1\n",
    "                    else:\n",
    "                        individual[n] = 1\n",
    "\n",
    "        for individual in X:\n",
    "            if individual.sum() == 0:\n",
    "                individual[np.random.choice(range(len(individual)))] = True\n",
    "            while individual.sum() > MAX_FEATURES:\n",
    "                individual = individual[np.random.choice(np.where(individual == True)[0], MAX_FEATURES)]\n",
    "        X = checkEmpty(X, self.max_features)\n",
    "        return X\n",
    "\n",
    "class ReliefFMutation(Mutation):\n",
    "    def __init__(self, **kwargs):\n",
    "        self.sc = kwargs.pop('sc', None)\n",
    "        self.max_features = kwargs.pop('max_features', 100)\n",
    "        super().__init__(**kwargs) # Scores das features do ReliefF\n",
    "\n",
    "    def _do(self, problem, X, **kwargs):\n",
    "        X_ = []\n",
    "        for individual in X:\n",
    "            selected_indices = np.where(individual == True)[0]\n",
    "            unselected_indices = np.where(individual == False)[0]\n",
    "            \n",
    "            # 1. Decidir se remove ou adiciona uma feature\n",
    "            if np.random.rand() < 0.5:\n",
    "                # Mutação Tipo 1: Remover uma feature selecionada (menor score)\n",
    "                if len(selected_indices) > 1:\n",
    "                    # Torneio binário invertido (prioriza features com scores BAIXOS)\n",
    "                    scores = -self.sc[np.array(selected_indices)]  # Inverte os scores\n",
    "                    winner = self._binary_tournament(selected_indices, scores)\n",
    "                    individual[winner] = False  # Remove a feature\n",
    "            elif len(selected_indices) < MAX_FEATURES:\n",
    "                # Mutação Tipo 2: Adicionar uma feature não selecionada (maior score)\n",
    "                unselected_indices = np.where(individual == False)[0]\n",
    "                if len(unselected_indices) > 0:\n",
    "                    # Torneio binário normal (prioriza features com scores ALTOS)\n",
    "                    scores = self.sc[unselected_indices]\n",
    "                    winner = self._binary_tournament(unselected_indices, scores)\n",
    "                    individual[winner] = True  # Adiciona a feature\n",
    "            \n",
    "            X_.append(individual)\n",
    "        X_ = checkEmpty(X_, self.max_features)\n",
    "        return np.array(X_)\n",
    "\n",
    "    def _binary_tournament(self, candidates, scores):\n",
    "        # Escolhe 2 candidatos aleatoriamente e seleciona o com maior score\n",
    "        idx = np.random.choice(len(candidates), 2, replace= True if len(candidates) == 1 else False) #Quanto tem só 1 individuo, o replace precisa ser True\n",
    "        winner = candidates[idx[np.argmax(scores[idx])]]\n",
    "        return winner\n",
    "\n",
    "### Crossover\n",
    "class SparseEACrossover(Crossover):\n",
    "\n",
    "    def __init__(self, **kwargs):\n",
    "        self.sc = kwargs.pop('sc', None)\n",
    "        super().__init__(2, 2, **kwargs)\n",
    "\n",
    "    def _do(self, _, X, **kwargs):\n",
    "        _, n_matings, n_var = X.shape\n",
    "        M = np.random.random((n_matings, n_var)) < 0.5\n",
    "        X_ = list(np.copy(X[0]))\n",
    "        X_.extend(list(np.copy(X[1])))\n",
    "        X_.extend(X_)\n",
    "        O = []\n",
    "        while X_:\n",
    "            # Seleciona dois pais aleatoriamente\n",
    "            p_idx, q_idx = np.random.choice(len(X_), size=2, replace=False)\n",
    "            p = X_.pop(max(p_idx, q_idx)) # Remove o maior primeiro\n",
    "            q = X_.pop(min(p_idx, q_idx))\n",
    "            # Remove os pais de P_prime\n",
    "            #print('len X_', len(X_))\n",
    "            o_mask = p.copy()\n",
    "            # Determina se será usada a primeira ou segunda lógica\n",
    "            if np.random.rand() < 0.5:\n",
    "                # Seleciona duas variáveis de decisão aleatórias de p.mask ∩ q.mask\n",
    "                common_indices = np.where(p & ~q)[0]\n",
    "                if len(common_indices) < 2:\n",
    "                    O.append(np.array(o_mask))\n",
    "                    continue  # Se não houver pelo menos dois elementos em comum, pula esta iteração\n",
    "                m, n = np.random.choice(common_indices, size=2, replace=False)\n",
    "                # Aplica a regra com base nas pontuações\n",
    "                if self.sc[m] < self.sc[n]:\n",
    "                    o_mask[m] = False\n",
    "                else:\n",
    "                    o_mask[n] = False\n",
    "            else:\n",
    "                # Seleciona duas variáveis de decisão aleatórias de p.mask ∩ q.mask\n",
    "                common_indices = np.where(~p & q)[0]\n",
    "                if len(common_indices) < 2:\n",
    "                    O.append(np.array(o_mask))\n",
    "                    continue  # Se não houver pelo menos dois elementos em comum, pula esta iteração\n",
    "                \n",
    "                m, n = np.random.choice(common_indices, size=2, replace=False)\n",
    "    \n",
    "                # Aplica a regra com base nas pontuações\n",
    "                if self.sc[m] > self.sc[n]:\n",
    "                    o_mask[m] = True\n",
    "                else:\n",
    "                    o_mask[n] = True\n",
    "            # Adiciona o descendente à lista de descendentes\n",
    "            O.append(np.array(o_mask))\n",
    "        O = np.array(O)\n",
    "        return O.reshape(2,int(O.shape[0]/2), O.shape[1])\n",
    "\n",
    "class UniformCrossover(Crossover):\n",
    "\n",
    "    def __init__(self, **kwargs):\n",
    "        super().__init__(2, 2, **kwargs)\n",
    "\n",
    "    def _do(self, _, X, **kwargs):\n",
    "        _, n_matings, n_var = X.shape\n",
    "        M = np.random.random((n_matings, n_var)) < 0.5\n",
    "        _X = crossover_mask(X, M)\n",
    "        return _X\n",
    "        \n",
    "class BinaryCrossover(Crossover):\n",
    "    def __init__(self, **kwargs):\n",
    "        self.max_features = kwargs.pop('max_features', None)\n",
    "        super().__init__(2, 1)\n",
    "\n",
    "    def _do(self, problem, X, **kwargs):\n",
    "        n_parents, n_matings, n_var = X.shape\n",
    "\n",
    "        _X = np.full((self.n_offsprings, n_matings, n_var), False)\n",
    "\n",
    "        for k in range(n_matings):\n",
    "            p1, p2 = X[0, k], X[1, k]\n",
    "\n",
    "            both_are_true = np.logical_and(p1, p2)\n",
    "            _X[0, k, both_are_true] = True\n",
    "\n",
    "            n_remaining = self.max_features - np.sum(both_are_true)\n",
    "\n",
    "            I = np.where(np.logical_xor(p1, p2))[0]\n",
    "\n",
    "            S = I[np.random.permutation(len(I))][:n_remaining]\n",
    "            _X[0, k, S] = True\n",
    "        print(f\"Generated {len(_X)} new samples through crossover.\")\n",
    "\n",
    "        return _X\n",
    "\n",
    "class UX(UniformCrossover):\n",
    "    pass\n",
    "\n",
    "class ThreeToOneCrossover(Crossover):\n",
    "    def __init__(self, n_matings=None, **kwargs):\n",
    "        self.sc = kwargs.pop('sc', None)\n",
    "        super().__init__(n_parents=3, n_offsprings=2, **kwargs)\n",
    "        self.n_matings = n_matings  # Número de \"matings\" (ajustado para manter a população)\n",
    "\n",
    "    def _do(self, problem, X, **kwargs):\n",
    "        # Se n_matings não for definido, usa o tamanho da população original\n",
    "        X_ = list(np.copy(X[0]))\n",
    "        X_.extend(list(np.copy(X[1])))\n",
    "        X = np.array(X_)\n",
    "        n_matings = X.shape[0]\n",
    "        offspring = np.full((n_matings, problem.n_var), False)\n",
    "\n",
    "        for i in range(n_matings):\n",
    "            # Seleciona 3 pais aleatórios (com substituição, se necessário)\n",
    "            parent_indices = np.random.choice(X.shape[0], 3, replace=True)\n",
    "            parents = X[parent_indices]\n",
    "            child = self._create_child(parents)\n",
    "            offspring[i, :] = child\n",
    "\n",
    "        return offspring.reshape(2,int(offspring.shape[0]/2), offspring.shape[1])\n",
    "\n",
    "    def _create_child(self, parents):\n",
    "        p1, p2, p3 = parents[0], parents[1], parents[2]\n",
    "        n_features = len(p1)\n",
    "        child = np.full(n_features, False)\n",
    "\n",
    "        # Lógica do crossover 3-to-1 (como implementado anteriormente)\n",
    "        L1 = np.logical_and(p1, p2)\n",
    "        L2 = np.logical_and(p1, p3)\n",
    "        L3 = np.logical_and(p2, p3)\n",
    "        S3 = L1 & L2 & L3\n",
    "        S2 = (L1 | L2 | L3) & ~S3\n",
    "        S1 = (p1 | p2 | p3) & ~S3 & ~S2\n",
    "        child[L1 | L2 | L3] = True\n",
    "        child[S3] = True\n",
    "        S2_indices = np.where(S2)[0]\n",
    "        S1_indices = np.where(S1)[0]\n",
    "\n",
    "        if np.random.rand() < 0.5 and len(S2_indices) > 1:\n",
    "            idx = np.random.choice(S2_indices, 2, replace= False)\n",
    "            loser = idx[np.argmin(self.sc[idx])]\n",
    "            child[loser] = False\n",
    "        elif len(S1_indices) > 0:\n",
    "            idx = np.random.choice(S1_indices, 2, replace=True if len(S1_indices) == 1 else False)\n",
    "            winner = idx[np.argmax(self.sc[idx])]\n",
    "            child[winner] = True\n",
    "        return child\n",
    "\n",
    "\n",
    "def getRelieff(X, y):\n",
    "    relieff = ReliefF(n_features_to_select=10, n_neighbors=10, n_jobs=48)  # Ajuste os parâmetros conforme necessário\n",
    "    pipeline = make_pipeline(\n",
    "        StandardScaler(),\n",
    "        relieff)\n",
    "    pipeline.fit(np.array(X), np.ravel(np.array(y)))\n",
    "    return pipeline.steps[1][1].feature_importances_\n",
    "from sklearn.preprocessing import StandardScaler, PowerTransformer, MinMaxScaler\n",
    "def getRF(X,y):\n",
    "    clf = RandomForestClassifier(n_estimators=10000, n_jobs=48)\n",
    "    pipeline = make_pipeline(\n",
    "            PowerTransformer(),\n",
    "            clf)\n",
    "    pipeline.fit(X, np.ravel(y))\n",
    "    return pipeline.steps[1][1].feature_importances_\n",
    "\n",
    "def getNormRF(rf):\n",
    "    normalizer = make_pipeline(PowerTransformer(), MinMaxScaler())\n",
    "    norm_rf = normalizer.fit_transform(rf.reshape(-1, 1))\n",
    "    return norm_rf"
   ]
  },
  {
   "cell_type": "markdown",
   "id": "c8b198e1-5ea4-4ba6-9e6f-ab9021dd09d0",
   "metadata": {},
   "source": [
    "### Problem Definition"
   ]
  },
  {
   "cell_type": "code",
   "execution_count": 54,
   "id": "e83a5cf0-b33d-4d0b-a021-e828c978a593",
   "metadata": {},
   "outputs": [],
   "source": [
    "class GeneSelection(ElementwiseProblem):\n",
    "    def __init__(self, X, y, runner):\n",
    "        self.n_features = X.shape[1]\n",
    "        self.eval_dict = {'n_features':[], 'f1_score':[]}\n",
    "        super().__init__(   n_var=self.n_features,\n",
    "    \t\t\t\t\t\tn_obj=2,\n",
    "    \t\t\t\t\t\t#n_constr=2,\n",
    "    \t\t\t\t\t\txl=np.zeros(self.n_features),\n",
    "    \t\t\t\t\t\txu=np.ones(self.n_features),\n",
    "    \t\t\t\t\t\telementwise_evaluation=True,\n",
    "                            type_var=bool,\n",
    "                            save_history=True,\n",
    "                            elementwise_runner=runner)\n",
    "\n",
    "    def _evaluate(self, x, out, *args, **kwargs):\n",
    "        selected_features = np.where(x == 1)[-1] # seleciona as features de acordo com o vetor binário\n",
    "        X_selected = X_worker[:,selected_features]\n",
    "        f_1 = []\n",
    "        n_tests = 5\n",
    "        seed = 41\n",
    "        if len(selected_features) > 0:\n",
    "            for i in range(n_tests):\n",
    "                seed = seed + 1\n",
    "                skf = StratifiedKFold(n_splits=5, random_state=seed, shuffle=True) # Kfolding usado para separar em treino e teste\n",
    "                clf = CLASSIFIER  # treino usando modelo SVM\n",
    "                f_1.append(np.mean(cross_val_score(clf, X_selected, y_worker, cv=skf, scoring='f1_macro'))) # Computar f1\n",
    "        \n",
    "        f_1 = round(np.array(f_1).mean(), 3)\n",
    "        n_features = len(selected_features)\n",
    "        # salvar os resultados\n",
    "        self.eval_dict['n_features'].append(n_features)\n",
    "        self.eval_dict['f1_score'].append(f_1)\n",
    "        out[\"F\"] = [n_features, -f_1] # define os objetivos a serem minimizados\n",
    "        # Restrições: limite mínimo e máximo de features selecionadas\n",
    "        g1 = MIN_FEATURES - n_features  # Deve ser <= 0\n",
    "        g2 = n_features - MAX_FEATURES  # Deve ser <= 0\n",
    "        #out[\"G\"] = np.column_stack([g1, g2])"
   ]
  },
  {
   "cell_type": "code",
   "execution_count": null,
   "id": "e6589d30-8eb1-4a19-8316-defe59240a08",
   "metadata": {},
   "outputs": [],
   "source": [
    "\n"
   ]
  },
  {
   "cell_type": "markdown",
   "id": "8624eabe-76c8-437b-9f63-3ea2f1028cd6",
   "metadata": {},
   "source": [
    "### Multiprocessing Pool"
   ]
  },
  {
   "cell_type": "code",
   "execution_count": 55,
   "id": "62a1acb7-2e8a-491a-9aaf-610936f4b9d9",
   "metadata": {},
   "outputs": [],
   "source": [
    "def _init_evaluator(X, y):\n",
    "    global pid_, X_worker, y_worker\n",
    "    pid_ = os.getpid()\n",
    "    X_worker = np.array(X).copy()\n",
    "    y_worker = np.ravel(y).copy()\n",
    "\n",
    "try:\n",
    "    pool.close()\n",
    "    _pool.close()\n",
    "except:\n",
    "    pass\n",
    "    \n",
    "n_process = 48"
   ]
  },
  {
   "cell_type": "code",
   "execution_count": 14,
   "id": "3874e978-6c2c-45bb-8a4a-467074af900d",
   "metadata": {},
   "outputs": [
    {
     "name": "stdout",
     "output_type": "stream",
     "text": [
      "100 8\n",
      "100\n",
      "==========================================================\n",
      "n_gen  |  n_eval  | n_nds  |      eps      |   indicator  \n",
      "==========================================================\n",
      "     1 |       98 |      2 |             - |             -\n",
      "Generated 1 new samples through crossover.\n",
      "     2 |      198 |      2 |  0.000000E+00 |             f\n",
      "Generated 1 new samples through crossover.\n",
      "     3 |      298 |      3 |  0.0066666667 |         ideal\n",
      "Generated 1 new samples through crossover.\n",
      "     4 |      398 |      4 |  0.0909090909 |         ideal\n"
     ]
    }
   ],
   "source": [
    "pool = multiprocessing.Pool(n_process, initializer=_init_evaluator(X,y))\n",
    "runner = StarmapParallelization(pool.starmap)\n",
    "problem = GeneSelection(X,y, runner)\n",
    "\n",
    "algorithm = NSGA2(pop_size = 100,\n",
    "                      sampling = BinaryPoolSampling(max_features = 100, seed = 12, pool = pool_values),\n",
    "                \t  crossover = BinaryCrossover(max_features = 100),\n",
    "                \t  mutation = PoolMutation(pool = pool_values),\n",
    "                      eliminate_duplicate = False,\n",
    "                      save_history = True)\n",
    "    \n",
    "result = minimize(problem,  # problem class\n",
    "                      algorithm,  # algorithm\n",
    "                      (\"n_gen\", 4), # number of iteration for eval problem class\n",
    "                      verbose=True)"
   ]
  },
  {
   "cell_type": "code",
   "execution_count": 56,
   "id": "f073d5ae-3987-45cb-85af-155f21c54690",
   "metadata": {},
   "outputs": [
    {
     "ename": "NameError",
     "evalue": "name 'weights' is not defined",
     "output_type": "error",
     "traceback": [
      "\u001b[0;31m---------------------------------------------------------------------------\u001b[0m",
      "\u001b[0;31mNameError\u001b[0m                                 Traceback (most recent call last)",
      "Cell \u001b[0;32mIn[56], line 5\u001b[0m\n\u001b[1;32m      2\u001b[0m runner \u001b[38;5;241m=\u001b[39m StarmapParallelization(pool\u001b[38;5;241m.\u001b[39mstarmap)\n\u001b[1;32m      3\u001b[0m problem \u001b[38;5;241m=\u001b[39m GeneSelection(X,y, runner)\n\u001b[1;32m      4\u001b[0m algorithm \u001b[38;5;241m=\u001b[39m NSGA2(pop_size \u001b[38;5;241m=\u001b[39m \u001b[38;5;241m100\u001b[39m,\n\u001b[0;32m----> 5\u001b[0m                       sampling \u001b[38;5;241m=\u001b[39m BinaryDistributedWeightsSampling(max_features \u001b[38;5;241m=\u001b[39m \u001b[38;5;241m100\u001b[39m, seed \u001b[38;5;241m=\u001b[39m \u001b[38;5;241m12\u001b[39m, sampling_weights \u001b[38;5;241m=\u001b[39m \u001b[43mweights\u001b[49m),\n\u001b[1;32m      6\u001b[0m                 \t  crossover \u001b[38;5;241m=\u001b[39m UniformCrossover(),\n\u001b[1;32m      7\u001b[0m                 \t  mutation \u001b[38;5;241m=\u001b[39m BitflipMutationLimitedBalanced(weights \u001b[38;5;241m=\u001b[39m weights, max_features \u001b[38;5;241m=\u001b[39m \u001b[38;5;241m100\u001b[39m),\n\u001b[1;32m      8\u001b[0m                       save_history \u001b[38;5;241m=\u001b[39m \u001b[38;5;28;01mTrue\u001b[39;00m)\n\u001b[1;32m     10\u001b[0m result1 \u001b[38;5;241m=\u001b[39m minimize(problem,  \u001b[38;5;66;03m# problem class\u001b[39;00m\n\u001b[1;32m     11\u001b[0m                       algorithm,  \u001b[38;5;66;03m# algorithm\u001b[39;00m\n\u001b[1;32m     12\u001b[0m                       (\u001b[38;5;124m\"\u001b[39m\u001b[38;5;124mn_gen\u001b[39m\u001b[38;5;124m\"\u001b[39m, \u001b[38;5;241m100\u001b[39m), \u001b[38;5;66;03m# number of iteration for eval problem class\u001b[39;00m\n\u001b[1;32m     13\u001b[0m                       verbose\u001b[38;5;241m=\u001b[39m\u001b[38;5;28;01mTrue\u001b[39;00m)\n",
      "\u001b[0;31mNameError\u001b[0m: name 'weights' is not defined"
     ]
    }
   ],
   "source": [
    "pool = multiprocessing.Pool(n_process, initializer=_init_evaluator(X,y))\n",
    "runner = StarmapParallelization(pool.starmap)\n",
    "problem = GeneSelection(X,y, runner)\n",
    "algorithm = NSGA2(pop_size = 100,\n",
    "                      sampling = BinaryDistributedWeightsSampling(max_features = 100, seed = 12, sampling_weights = weights),\n",
    "                \t  crossover = UniformCrossover(),\n",
    "                \t  mutation = BitflipMutationLimitedBalanced(weights = weights, max_features = 100),\n",
    "                      save_history = True)\n",
    "    \n",
    "result1 = minimize(problem,  # problem class\n",
    "                      algorithm,  # algorithm\n",
    "                      (\"n_gen\", 100), # number of iteration for eval problem class\n",
    "                      verbose=True)"
   ]
  },
  {
   "cell_type": "code",
   "execution_count": 125,
   "id": "67c6ea3d-d64f-46ba-8860-4461d077a7e5",
   "metadata": {},
   "outputs": [
    {
     "data": {
      "image/png": "[encoded data removed]",
      "text/plain": [
       "<Figure size 640x480 with 1 Axes>"
      ]
     },
     "metadata": {},
     "output_type": "display_data"
    }
   ],
   "source": [
    "fig, ax = plt.subplots()\n",
    "plot_convergence([result],ax = ax, color = 'red')\n",
    "plot_convergence([result1],ax = ax, color = 'blue')"
   ]
  },
  {
   "cell_type": "code",
   "execution_count": 13,
   "id": "5ae14bc4-4c21-4ada-902c-45bfb444d022",
   "metadata": {},
   "outputs": [],
   "source": [
    "def run_experiment(**kwargs):\n",
    "    problem = kwargs.get('problem', None)\n",
    "    n_population = kwargs.get('n_population', 100)\n",
    "    n_gen = kwargs.get('n_gen', 100)\n",
    "    sampling = kwargs.get('sampling', None)\n",
    "    seed = kwargs.get('seed', 42)\n",
    "    crossover = kwargs.get('crossover', UniformCrossover())\n",
    "    mutation = kwargs.get('mutation', None)\n",
    "    max_features = kwargs.get('max_features', 100)\n",
    "    verbose = kwargs.get('verbose', True)\n",
    "    algorithm = kwargs.get('algorithm', None)\n",
    "    \n",
    "    algorithm = algorithm(pop_size = n_population,\n",
    "                      sampling = sampling,\n",
    "                \t  crossover = crossover,\n",
    "                \t  mutation = mutation,\n",
    "                      save_history = True)\n",
    "    \n",
    "    result = minimize(problem,  # problem class\n",
    "                      algorithm,  # algorithm\n",
    "                      (\"n_gen\", n_gen), # number of iteration for eval problem class\n",
    "                      verbose=verbose)\n",
    "    return result"
   ]
  },
  {
   "cell_type": "markdown",
   "id": "e995f4a5-03a9-485f-b5d9-2f48bc000c26",
   "metadata": {},
   "source": [
    "### Convergence Plot Functions"
   ]
  },
  {
   "cell_type": "code",
   "execution_count": 57,
   "id": "1972d6d5-2e22-4f6f-96c9-645289680df2",
   "metadata": {},
   "outputs": [],
   "source": [
    "def get_hv(result, **kwargs):\n",
    "    n_evals = np.array([e.evaluator.n_eval for e in result.history])\n",
    "    opt = np.array([e.opt[0].F for e in result.history])\n",
    "    X_res, F_res = result.opt.get(\"X\", \"F\")\n",
    "            \n",
    "    hist = result.history\n",
    "    max = 100\n",
    "    ref_point = np.array([100, -0.0])\n",
    "    ind = HV(ref_point=ref_point)\n",
    "            \n",
    "    n_evals = []             # corresponding number of function evaluations\\\n",
    "    hist_F = []              # the objective space values in each generation\n",
    "            \n",
    "    for algo in hist:\n",
    "        n_evals.append(algo.evaluator.n_eval)  # store the number of function evaluations\n",
    "        opt = algo.opt # retrieve the optimum from the algorithm\n",
    "        # filter out only the feasible and append and objective space values\n",
    "        feas = np.where(opt.get(\"feasible\"))[0]\n",
    "        hist_F.append(opt.get(\"F\")[feas])\n",
    "        \n",
    "    metric = HV(ref_point= ref_point, norm_ref_point=False)\n",
    "    hv = [metric.do(_F) for _F in hist_F]\n",
    "    return n_evals, hv\n",
    "\n",
    "def plot_convergence(results, **kwargs):\n",
    "    color = kwargs.get('color', 'black')\n",
    "    alpha = kwargs.get('alpha', 0.5)\n",
    "    label = kwargs.get('label', None)\n",
    "    ax = kwargs.get('ax', None)\n",
    "    hvs, n_evals = [], []\n",
    "    for result in results:\n",
    "        hv = get_hv(result)\n",
    "        hvs.extend(hv[1])\n",
    "        n_evals.extend(hv[0])\n",
    "    df =  pd.DataFrame({\n",
    "            \"Function Evaluations\": n_evals,\n",
    "            \"Hypervolume\": hvs})\n",
    "\n",
    "    sns.lineplot(data=df, x=\"Function Evaluations\", y=\"Hypervolume\", color = color, label=label, alpha = alpha, ax = ax)\n",
    "    ax.set_title('Convergence')\n",
    "    #plt.plot(df['n_evals'], df['HV'],  color='black', lw=0.7, label=\"Avg. CV of Pop\", alpha = alpha)\n",
    "    #plt.scatter(df['n_evals'], df['HV'],  facecolor=\"none\", edgecolor=color, marker=\"p\", alpha = alpha)"
   ]
  },
  {
   "cell_type": "markdown",
   "id": "ffb34f88-9009-4224-aeb3-017749abbea8",
   "metadata": {},
   "source": [
    "### Pareto Front Plot Function"
   ]
  },
  {
   "cell_type": "code",
   "execution_count": 58,
   "id": "390447ea-476d-45ab-9451-542b9fc9fc33",
   "metadata": {},
   "outputs": [],
   "source": [
    "def plot_pareto_front(df, color, marker, label, alpha, ax, **kwargs):\n",
    "    sns.scatterplot(data = df ,x = 'n_features', y = 'f1_score', color = color,  marker=marker, label=label, alpha = alpha, ax = ax)\n",
    "    sns.lineplot(data = df ,x = 'n_features', y = 'f1_score', color = color, legend=False, linewidth=1, alpha = alpha, ax = ax)\n",
    "    ax.legend(loc=\"upper right\")\n",
    "\n",
    "def plot_multiple_pareto_front(results, **kwargs):\n",
    "    color = kwargs.get('color', 'black')\n",
    "    title = kwargs.get('title', 'Mean Pareto Front')\n",
    "    label = kwargs.get('label', '-')\n",
    "    alpha = kwargs.get('alpha', 0.7)\n",
    "    moead = kwargs.get('moead', False)\n",
    "    ax = kwargs.get('ax', None)\n",
    "    #plt.figure(figsize=(7, 5))\n",
    "    F_res = []\n",
    "    for result in results:\n",
    "        F_res.extend(list(result.opt.get(\"F\"))) \n",
    "    F_res = np.array(F_res)\n",
    "    unique_keys = np.unique(F_res[:, 0])\n",
    "    F_res = np.array([[key, F_res[F_res[:, 0] == key, 1].mean()] for key in unique_keys])\n",
    "    df = pd.DataFrame({'n_features': F_res[:, 0][np.argsort(F_res[:, 0])],\n",
    "                      'f1_score': F_res[:, 1][np.argsort(F_res[:, 0])]})\n",
    "    if moead:\n",
    "        df[['n_features']] = df[['n_features']] * 60\n",
    "    ax.set_title(title)\n",
    "    plot_pareto_front(df = df, color = color, marker = 'o', label = label, alpha = alpha, ax = ax)\n",
    "\n",
    "def plot_best_pareto_front(results, **kwargs):\n",
    "    color = kwargs.get('color', 'black')\n",
    "    title = kwargs.get('title', 'Mean Pareto Front')\n",
    "    label = kwargs.get('label', '-')\n",
    "    alpha = kwargs.get('alpha', 0.7)\n",
    "    moead = kwargs.get('moead', False)\n",
    "    ax = kwargs.get('ax', None)\n",
    "    #plt.figure(figsize=(7, 5))\n",
    "    F_res = []\n",
    "    for result in results:\n",
    "        F_res.extend(list(result.opt.get(\"F\"))) \n",
    "    F_res = find_pareto_frontier(F_res)\n",
    "    F_res = np.array(F_res)\n",
    "    unique_keys = np.unique(F_res[:, 0])\n",
    "    F_res = np.array([[key, F_res[F_res[:, 0] == key, 1].min()] for key in unique_keys])\n",
    "    df = pd.DataFrame({'n_features': F_res[:, 0][np.argsort(F_res[:, 0])],\n",
    "                      'f1_score': F_res[:, 1][np.argsort(F_res[:, 0])]})\n",
    "    ax.set_title(title)\n",
    "    plot_pareto_front(df = df, color = color, marker = 'o', label = label, alpha = alpha, ax = ax)\n",
    "\n",
    "def find_pareto_frontier(points):\n",
    "    unique_points = []\n",
    "    seen = set()\n",
    "    for point in points:\n",
    "        tuple_point = tuple(point)\n",
    "        if tuple_point not in seen:\n",
    "            seen.add(tuple_point)\n",
    "            unique_points.append(point)\n",
    "    frontier = []\n",
    "    for p in unique_points:\n",
    "        is_dominated = False\n",
    "        for q in unique_points:\n",
    "            if np.array_equal(q, p):\n",
    "                continue  # Não comparar o mesmo ponto\n",
    "            if (np.all(q <= p) and np.any(q < p)):\n",
    "                is_dominated = True\n",
    "                break\n",
    "        if not is_dominated:\n",
    "            frontier.append(p)\n",
    "    \n",
    "    return frontier"
   ]
  },
  {
   "cell_type": "markdown",
   "id": "1f4be61b-0600-4cd8-8038-2ce1bd8e630a",
   "metadata": {},
   "source": [
    "### Getting SC's"
   ]
  },
  {
   "cell_type": "code",
   "execution_count": 59,
   "id": "1257825e-251f-4e10-a93f-b0866e5fdaad",
   "metadata": {},
   "outputs": [],
   "source": [
    "def getSparseEAWeight(X, y):\n",
    "    X = np.array(X)\n",
    "    weights = []\n",
    "    for i in trange(len(X[0])):\n",
    "        f_1 = []\n",
    "        n_tests = 5\n",
    "        seed = 41\n",
    "        X_selected = X[:,i]\n",
    "        for i in range(n_tests):\n",
    "            seed = seed + 1\n",
    "            skf = StratifiedKFold(n_splits=5, random_state=seed, shuffle=True) # Kfolding usado para separar em treino e teste\n",
    "            clf = CLASSIFIER # treino usando modelo definido\n",
    "            f_1.append(np.mean(cross_val_score(clf, X_selected.reshape(-1, 1), y, cv=skf, scoring='f1_macro', n_jobs = 10))) # Computar f1\n",
    "        \n",
    "        weights.append(round(np.array(f_1).sum()/n_tests, 3))\n",
    "    return weights\n",
    "\n",
    "def getRelieff(X, y):\n",
    "    relieff = ReliefF(n_features_to_select=10, n_neighbors=10, n_jobs=48)  # Ajuste os parâmetros conforme necessário\n",
    "    pipeline = make_pipeline(\n",
    "        StandardScaler(),\n",
    "        relieff)\n",
    "    pipeline.fit(np.array(X), np.ravel(np.array(y)))\n",
    "    return pipeline.steps[1][1].feature_importances_\n",
    "\n",
    "def getRF(X,y):\n",
    "    clf = RandomForestClassifier(n_estimators=10000, n_jobs=48)\n",
    "    pipeline = make_pipeline(\n",
    "            StandardScaler(),\n",
    "            clf)\n",
    "    pipeline.fit(X, np.ravel(y))\n",
    "    return pipeline.steps[1][1].feature_importances_\n",
    "     "
   ]
  },
  {
   "cell_type": "code",
   "execution_count": 60,
   "id": "78b7aea7-83f6-4a27-99c1-711047c173aa",
   "metadata": {},
   "outputs": [],
   "source": [
    "def run_dataset(X, y, n_experiments, n_population, n_gen, max_features, n_process):\n",
    "    try:\n",
    "        pool.close()\n",
    "    except:\n",
    "        pass\n",
    "    pool = multiprocessing.Pool(n_process, initializer=_init_evaluator(X,y))\n",
    "    runner = StarmapParallelization(pool.starmap)\n",
    "    problem = GeneSelection(X,y, runner)\n",
    "\n",
    "    sc_rf = getRF(X, y)\n",
    "    sc_relieff = getRelieff(X, y)\n",
    "    sc_sparseEA = getSparseEAWeight(X,y)\n",
    "    \n",
    "    results_dict = dict({'nsga2': [],\n",
    "                         'spea2':[],\n",
    "                         'sparseEA':[],\n",
    "                         'mofs_rfga': [],\n",
    "                         'nsga2_weighted': []})\n",
    "    for i in tqdm(range(n_experiments)):\n",
    "        \n",
    "        result = run_experiment(problem = problem,\n",
    "                   algorithm = NSGA2,\n",
    "                   n_population = n_population,\n",
    "                   n_gen = n_gen,\n",
    "                   sampling = BinaryRandomSampling(max_features = max_features),\n",
    "                   seed = i,\n",
    "                   mutation = BitflipMutationLimitedBalanced(),\n",
    "                   crossover = UniformCrossover(),\n",
    "                   max_features = max_features)\n",
    "        results_dict['nsga2'].append(result)\n",
    "    \n",
    "        result = run_experiment(problem = problem,\n",
    "                   algorithm = SPEA2,\n",
    "                   n_population = n_population,\n",
    "                   n_gen = n_gen,\n",
    "                   sampling = BinaryRandomSampling(max_features = max_features),\n",
    "                   seed = i,\n",
    "                   mutation = BitflipMutationLimitedBalanced(),\n",
    "                   crossover = UniformCrossover(),\n",
    "                   max_features = max_features)\n",
    "        results_dict['spea2'].append(result)\n",
    "\n",
    "        result = run_experiment(problem = problem,\n",
    "                   algorithm = NSGA2,\n",
    "                   n_population = n_population,\n",
    "                   n_gen = n_gen,\n",
    "                   sampling =  SparseEASampling(sc = sc_sparseEA),\n",
    "                   seed = i,\n",
    "                   mutation = SparseEAMutation(weights = sc_sparseEA, max_features = max_features),\n",
    "                   crossover = SparseEACrossover(sc = sc_sparseEA),\n",
    "                   max_features = max_features)\n",
    "        results_dict['sparseEA'].append(result)\n",
    "    \n",
    "        result = run_experiment(problem = problem,\n",
    "                   algorithm = NSGA2,\n",
    "                   n_population = n_population,\n",
    "                   n_gen = n_gen,\n",
    "                   sampling = ReliefFSampling(sc = sc_relieff),\n",
    "                   seed = i,\n",
    "                   mutation = ReliefFMutation(sc = sc_relieff, max_features = max_features),\n",
    "                   crossover = ThreeToOneCrossover(sc = sc_relieff),\n",
    "                   max_features = max_features)\n",
    "        results_dict['mofs_rfga'].append(result)\n",
    "\n",
    "        result = run_experiment(problem = problem,\n",
    "                   algorithm = NSGA2,\n",
    "                   n_population = n_population,\n",
    "                   n_gen = n_gen,\n",
    "                   sampling = BinaryDistributedWeightsSampling(sampling_weights = sc_rf),\n",
    "                   seed = i,\n",
    "                   mutation = BitflipMutationLimitedBalanced(weights = sc_rf, max_features = max_features),\n",
    "                   crossover = UniformCrossover(),\n",
    "                   max_features = max_features)\n",
    "        results_dict['nsga2_weighted'].append(result)\n",
    "        for label in results_dict:\n",
    "            for res in results_dict[label]:\n",
    "                res = clean_result(res)\n",
    "    return results_dict\n",
    "\n",
    "def clean_result(res):\n",
    "    for pop in res.history:\n",
    "        pop.archive = None\n",
    "        pop.advance = None\n",
    "        pop.callback = None\n",
    "        pop.data = None\n",
    "        pop.mating = None\n",
    "        pop.display = None\n",
    "        pop.pop = None\n",
    "        pop.problem = None\n",
    "        pop.output = None\n",
    "        pop.pop_size = None\n",
    "        pop.problem = None\n",
    "        pop.repair = None\n",
    "        pop.result = None\n",
    "        pop.return_least_infeasible = None\n",
    "        pop.run = None\n",
    "        pop.save_history = None\n",
    "        pop.seed = None\n",
    "        pop.setup = None\n",
    "        pop.survival = None\n",
    "        pop.tell = None\n",
    "        pop.termination = None\n",
    "        pop.tournament_type = None\n",
    "        pop.verbose = None\n",
    "    return res\n",
    "\n",
    "def plot_convergence_and_pareto_front(results):\n",
    "    colors = {'age_moea': 'black',\n",
    "            'nsga2': 'blue',\n",
    "            'spea2': 'gray',\n",
    "            'sparseEA': 'yellow',\n",
    "            'mofs_rfga': 'purple',\n",
    "            'nsga2_weighted': 'red'}\n",
    "    # Cria figura com 2 subplots lado a lado (1 linha, 2 colunas)\n",
    "    fig, (ax1, ax2, ax3) = plt.subplots(1, 3, figsize=(16, 5))\n",
    "    \n",
    "    for label in results:\n",
    "        plot_multiple_pareto_front(results[label], color = colors[label], label = label, ax = ax1)\n",
    "    for label in results:\n",
    "        plot_convergence(results[label], color = colors[label], label = label, ax = ax2)\n",
    "    for label in results:\n",
    "        plot_best_pareto_front(results[label], color = colors[label], label = label, ax = ax3)\n"
   ]
  },
  {
   "cell_type": "code",
   "execution_count": 124,
   "id": "2313d3e1-96c9-4f45-a454-9d16808f94db",
   "metadata": {},
   "outputs": [
    {
     "name": "stdout",
     "output_type": "stream",
     "text": [
      "==========================================================\n",
      "n_gen  |  n_eval  | n_nds  |      eps      |   indicator  \n",
      "==========================================================\n",
      "     1 |      100 |      7 |             - |             -\n",
      "     2 |      200 |      7 |  0.0140379851 |             f\n",
      "     3 |      300 |      8 |  0.0698924731 |         ideal\n",
      "     4 |      400 |      6 |  0.0744437451 |             f\n",
      "     5 |      500 |      6 |  0.0106382979 |         ideal\n",
      "     6 |      600 |      9 |  0.1105527638 |         ideal\n",
      "     7 |      700 |     10 |  0.0952380952 |         ideal\n",
      "     8 |      800 |     10 |  0.0746160026 |             f\n",
      "     9 |      900 |      7 |  2.7931034483 |         nadir\n",
      "    10 |     1000 |     10 |  0.0869565217 |         ideal\n",
      "    11 |     1100 |      8 |  0.0256410256 |         ideal\n",
      "    12 |     1200 |      8 |  0.1878172589 |         nadir\n",
      "    13 |     1300 |      8 |  0.3401360544 |         nadir\n",
      "    14 |     1400 |      8 |  0.0204081633 |             f\n",
      "    15 |     1500 |      8 |  0.0119047619 |             f\n",
      "    16 |     1600 |     11 |  0.0098190120 |             f\n",
      "    17 |     1700 |     11 |  0.0264450052 |             f\n",
      "    18 |     1800 |     10 |  0.0392156863 |         ideal\n",
      "    19 |     1900 |     10 |  0.0013071895 |             f\n",
      "    20 |     2000 |     12 |  0.0094935541 |             f\n",
      "    21 |     2100 |     11 |  0.0059417706 |             f\n",
      "    22 |     2200 |     12 |  0.0727272727 |         ideal\n",
      "    23 |     2300 |     12 |  0.0116832050 |             f\n",
      "    24 |     2400 |     10 |  0.0060606061 |             f\n",
      "    25 |     2500 |     10 |  0.000000E+00 |             f\n",
      "    26 |     2600 |     10 |  0.0084848485 |             f\n",
      "    27 |     2700 |     10 |  0.000000E+00 |             f\n",
      "    28 |     2800 |     10 |  0.000000E+00 |             f\n",
      "    29 |     2900 |     11 |  0.000000E+00 |             f\n",
      "    30 |     3000 |     11 |  0.000000E+00 |             f\n"
     ]
    },
    {
     "data": {
      "text/plain": [
       "'result = run_experiment(problem = problem,\\n                   algorithm = NSGA2,\\n                   n_population = 100,\\n                   n_gen = 30,\\n                   sampling = BinaryRandomSampling(max_features = 100),\\n                   seed = 42,\\n                   mutation = BitflipMutation(),\\n                   crossover = UniformCrossover(),\\n                   max_features = 100)'"
      ]
     },
     "execution_count": 124,
     "metadata": {},
     "output_type": "execute_result"
    }
   ],
   "source": [
    "MIN_FEATURES = 1\n",
    "MAX_FEATURES = 300\n",
    "\n",
    "X, y = make_classification(random_state=42, n_samples = 100, n_features = 100, n_informative = 10, n_redundant=10, n_repeated=10)\n",
    "sc_rf = getRF(X, y)\n",
    "\n",
    "pool = multiprocessing.Pool(40, initializer=_init_evaluator(X,y))\n",
    "runner = StarmapParallelization(pool.starmap)\n",
    "problem = GeneSelection(X,y, runner)\n",
    "result = run_experiment(problem = problem,\n",
    "                   algorithm = NSGA2,\n",
    "                   n_population = 100,\n",
    "                   n_gen = 30,\n",
    "                   sampling = BinaryDistributedWeightsSampling(max_features=100, sampling_weights = sc_rf),\n",
    "                   seed = 42,\n",
    "                   mutation = BitflipMutationLimitedBalanced(max_features=100, weights = sc_rf),\n",
    "                   crossover = UniformCrossover(),\n",
    "                   max_features = 100)\n",
    "'''result = run_experiment(problem = problem,\n",
    "                   algorithm = NSGA2,\n",
    "                   n_population = 100,\n",
    "                   n_gen = 30,\n",
    "                   sampling = BinaryRandomSampling(max_features = 100),\n",
    "                   seed = 42,\n",
    "                   mutation = BitflipMutation(),\n",
    "                   crossover = UniformCrossover(),\n",
    "                   max_features = 100)'''"
   ]
  },
  {
   "cell_type": "code",
   "execution_count": 125,
   "id": "c9887d80-1904-4a34-b2d5-4553fa9cfe7b",
   "metadata": {},
   "outputs": [
    {
     "data": {
      "image/png": "[encoded data removed]",
      "text/plain": [
       "<Figure size 640x480 with 1 Axes>"
      ]
     },
     "metadata": {},
     "output_type": "display_data"
    }
   ],
   "source": [
    "for generation, i in zip(result.history, range(len(result.history))):\n",
    "    \n",
    "    f1_score = []\n",
    "    n_features = []\n",
    "    gen = []\n",
    "    for individual in generation.pop:\n",
    "        f1_score.append(individual.F[1])\n",
    "        n_features.append(individual.F[0])\n",
    "        gen.append(str(i))\n",
    "    points = pd.DataFrame({ 'f1_score' : f1_score,\n",
    "                            'n_features': n_features,\n",
    "                            'gen': gen})\n",
    "    ax = sns.scatterplot(data = points, y = 'f1_score', x = 'n_features', marker = 'o', color = '#999999')#sns.color_palette(\"flare\", 10).as_hex()[i])\n",
    "    f1_score = []\n",
    "    n_features = []\n",
    "    plt.xlim([0, 100])\n",
    "    plt.ylim([-1, 0])\n",
    "    plt.savefig('./gifs/binary_sampling'+('00'+str(i))[-3:]+'_1')\n",
    "    \n",
    "    for individual in generation.opt:\n",
    "        f1_score.append(individual.F[1])\n",
    "        n_features.append(individual.F[0])\n",
    "    red_points = pd.DataFrame({'f1_score' : f1_score,\n",
    "                    'n_features' : n_features})\n",
    "    ax = sns.scatterplot(data = red_points, y = 'f1_score', x = 'n_features',marker = 'o', color='red')\n",
    "    plt.xlim([0, 100])\n",
    "    plt.ylim([-1, 0])\n",
    "    plt.savefig('./gifs/binary_sampling'+('00'+str(i))[-3:]+'_2')\n",
    "\n"
   ]
  },
  {
   "cell_type": "code",
   "execution_count": 126,
   "id": "c1d93504-f094-43ee-8e63-a1536980ffc3",
   "metadata": {},
   "outputs": [
    {
     "name": "stdout",
     "output_type": "stream",
     "text": [
      "GIF created and saved at output_rf_2.gif\n"
     ]
    },
    {
     "data": {
      "text/html": [
       "<img src=\"output_rf_2.gif\">"
      ],
      "text/plain": [
       "<IPython.core.display.HTML object>"
      ]
     },
     "execution_count": 126,
     "metadata": {},
     "output_type": "execute_result"
    }
   ],
   "source": [
    "from PIL import Image\n",
    "import os\n",
    "from IPython.display import HTML\n",
    "def create_gif(image_folder, output_gif_path, duration=100, last_frame_duration=None, loop=0):\n",
    "    \"\"\"\n",
    "    Creates an animated GIF from images in a specified folder.\n",
    "\n",
    "    Args:\n",
    "        image_folder (str): Path to the folder containing the images.\n",
    "        output_gif_path (str): Desired path and filename for the output GIF.\n",
    "        duration (int): Duration of each frame in milliseconds (default: 100).\n",
    "        last_frame_duration (int or None): Optional different duration for the last frame.\n",
    "        loop (int): Number of loops (0 for infinite loop, 1 for one loop, etc.).\n",
    "    \"\"\"\n",
    "    image_paths = sorted([\n",
    "        os.path.join(image_folder, f)\n",
    "        for f in os.listdir(image_folder)\n",
    "        if f.lower().endswith(('.png', '.jpg', '.jpeg'))\n",
    "    ])\n",
    "\n",
    "    if not image_paths:\n",
    "        print(\"No images found in the specified folder.\")\n",
    "        return\n",
    "\n",
    "    images = [Image.open(path) for path in image_paths]\n",
    "    # Create a list of durations: all default except possibly the last frame\n",
    "    durations = [duration] * len(images)\n",
    "    if last_frame_duration is not None:\n",
    "        durations[-1] = last_frame_duration\n",
    "    # Save as GIF\n",
    "    images[0].save(\n",
    "        output_gif_path,\n",
    "        save_all=True,\n",
    "        append_images=images[1:],\n",
    "        duration=durations,\n",
    "        loop=loop\n",
    "    )\n",
    "    print(f\"GIF created and saved at {output_gif_path}\")\n",
    "\n",
    "# Example usage:\n",
    "image_folder = \"./gifs\"  # Replace with your image folder path\n",
    "output_gif_path = \"output_rf_2.gif\"\n",
    "frame_duration = 400  # milliseconds per frame\n",
    "last_frame_duration = 4000\n",
    "\n",
    "create_gif(image_folder, output_gif_path, duration=frame_duration, last_frame_duration=last_frame_duration)\n",
    "\n",
    "HTML('<img src=\"'+output_gif_path+'\">')"
   ]
  },
  {
   "cell_type": "code",
   "execution_count": 98,
   "id": "90bf90ad-2a0f-47d8-a8a6-32caf8b86ea2",
   "metadata": {},
   "outputs": [
    {
     "data": {
      "text/html": [
       "<img src=\"output.gif\">"
      ],
      "text/plain": [
       "<IPython.core.display.HTML object>"
      ]
     },
     "execution_count": 98,
     "metadata": {},
     "output_type": "execute_result"
    }
   ],
   "source": [
    "HTML('<img src=\"output.gif\">')\n"
   ]
  },
  {
   "cell_type": "code",
   "execution_count": 100,
   "id": "6c244912-69b1-440b-aec3-dc8e328b355a",
   "metadata": {},
   "outputs": [
    {
     "data": {
      "text/plain": [
       "'#d0384e'"
      ]
     },
     "execution_count": 100,
     "metadata": {},
     "output_type": "execute_result"
    }
   ],
   "source": [
    "sns.color_palette(\"flare\", 10).as_hex()[0]"
   ]
  },
  {
   "cell_type": "code",
   "execution_count": null,
   "id": "e843d936-cda3-40b6-b36a-98a0a5feb7d4",
   "metadata": {},
   "outputs": [],
   "source": [
    "import seaborn as sns\n",
    "from sklearn.datasets import make_classification\n",
    "import multiprocessing, os\n",
    "import numpy as np\n",
    "from pymoo.core.problem import Problem, ElementwiseProblem, StarmapParallelization\n",
    "#from functions import *\n",
    "\n",
    "def _init_evaluator(X, y):\n",
    "    global pid_, X_worker, y_worker\n",
    "    pid_ = os.getpid()\n",
    "    X_worker = np.array(X).copy()\n",
    "    y_worker = np.ravel(y).copy()\n",
    "\n",
    "try:\n",
    "    pool.close()\n",
    "    _pool.close()\n",
    "except:\n",
    "    pass\n",
    "    \n",
    "n_process = 48\n",
    "\n",
    "X, y = make_classification(random_state=42, n_samples = 100, n_features = 100, n_informative = 10, n_redundant=10, n_repeated=10)\n",
    "\n",
    "sns.set_style('ticks')\n",
    "pool = multiprocessing.Pool(n_process, initializer=_init_evaluator(np.zeros((100,100)),np.zeros(100)))\n",
    "runner = StarmapParallelization(pool.starmap)\n",
    "problem = GeneSelection(X = X, y = y, runner=runner)\n",
    "\n",
    "classifier = DecisionTreeClassifier()\n",
    "\n",
    "individuals = BinaryPoolSampling(max_features = 100, seed = 12, pool = pool_values).do(problem, n_samples = 100)\n",
    "x = []\n",
    "eval = []\n",
    "for i in individuals:\n",
    "    x.append(i.X.sum())\n",
    "    eval.append(np.array(cross_val_score(classifier, X[:,i.X], y, cv=3)).mean())\n",
    "data = pd.DataFrame({'accuracy' : eval,\n",
    "                    'n_features' : x})\n",
    "ax = sns.scatterplot(data = data, y = 'accuracy', x = 'n_features',marker = 'o', color='#999999')\n",
    "\n",
    "##################################################################################################33\n",
    "\n",
    "individuals = BinaryDistributedWeightsSampling(max_features = 100, seed = 12).do(problem, n_samples = 100)\n",
    "x = []\n",
    "eval = []\n",
    "for i in individuals:\n",
    "    x.append(i.X.sum())\n",
    "    eval.append(np.array(cross_val_score(classifier, X[:,i.X], y, cv=3)).mean())\n",
    "data = pd.DataFrame({'accuracy' : eval,\n",
    "                    'n_features' : x})\n",
    "ax = sns.scatterplot(data = data, y = 'accuracy', x = 'n_features',marker = '^', color='#333333')\n",
    "\n",
    "ax.legend(['Random Sampling', 'Distributed Random Sampling'], loc='lower right')\n",
    "\n",
    "##################################################################################################\n",
    "rf = getRF(X,y)\n",
    "individuals = BinaryDistributedWeightsSampling(max_features = 100, seed = 12, sampling_weights = rf).do(problem, n_samples = 100)\n",
    "x = []\n",
    "eval = []\n",
    "for i in individuals:\n",
    "    x.append(i.X.sum())\n",
    "    eval.append(np.array(cross_val_score(classifier, X[:,i.X], y, cv=3)).mean())\n",
    "data = pd.DataFrame({'accuracy' : eval,\n",
    "                    'n_features' : x})\n",
    "ax = sns.scatterplot(data = data, y = 'accuracy', x = 'n_features',marker = 's', color='red')\n",
    "\n",
    "ax.legend(['MOO-HFS Sampling', 'Distributed Random Sampling', 'EW-MOFS Sampling'], loc='lower right')\n",
    "sns.despine()"
   ]
  },
  {
   "cell_type": "markdown",
   "id": "408591ec-d6d8-41b7-81b8-3ccd3178ad82",
   "metadata": {},
   "source": [
    "### P01"
   ]
  },
  {
   "cell_type": "code",
   "execution_count": 24,
   "id": "a6ac1608-51c8-4feb-8b69-d3b60aa6b0fe",
   "metadata": {
    "scrolled": true
   },
   "outputs": [
    {
     "name": "stdout",
     "output_type": "stream",
     "text": [
      "NS: 569\n",
      "NF: 30\n",
      "NC: 2\n"
     ]
    }
   ],
   "source": [
    "breast_cancer_wisconsin_diagnostic = fetch_ucirepo(id=17) \n",
    "  \n",
    "# data (as pandas dataframes) \n",
    "X = np.array(breast_cancer_wisconsin_diagnostic.data.features).astype('float32') \n",
    "y = np.ravel(np.array(breast_cancer_wisconsin_diagnostic.data.targets))\n",
    "\n",
    "print(\"NS:\", X.shape[0])\n",
    "print(\"NF:\", X.shape[1])\n",
    "print(\"NC:\", len(set(y)))"
   ]
  },
  {
   "cell_type": "markdown",
   "id": "16e7db5f-e3d1-4574-8431-13ac11e6a09e",
   "metadata": {},
   "source": [
    "### P02"
   ]
  },
  {
   "cell_type": "code",
   "execution_count": 25,
   "id": "b2a84f25-abea-480c-9f9f-c1ae1baae133",
   "metadata": {
    "scrolled": true
   },
   "outputs": [
    {
     "name": "stdout",
     "output_type": "stream",
     "text": [
      "NS: 6435\n",
      "NF: 36\n",
      "NC: 6\n"
     ]
    }
   ],
   "source": [
    "satellite = fetch_ucirepo(id=146)\n",
    "\n",
    "X = np.array(satellite.data.features).astype('float32') \n",
    "y = np.ravel(np.array(satellite.data.targets))\n",
    "print(\"NS:\", X.shape[0])\n",
    "print(\"NF:\", X.shape[1])\n",
    "print(\"NC:\", len(set(y)))"
   ]
  },
  {
   "cell_type": "markdown",
   "id": "0d434fae-5d50-47b8-9689-2629ff7e9942",
   "metadata": {},
   "source": [
    "### P03"
   ]
  },
  {
   "cell_type": "code",
   "execution_count": 26,
   "id": "c66d8f56-6120-4155-971b-ff844216805a",
   "metadata": {
    "scrolled": true
   },
   "outputs": [
    {
     "name": "stdout",
     "output_type": "stream",
     "text": [
      "NS: 5620\n",
      "NF: 64\n",
      "NC: 10\n"
     ]
    }
   ],
   "source": [
    "optical_recognition_of_handwritten_digits = fetch_ucirepo(id=80) \n",
    "\n",
    "X = np.array(optical_recognition_of_handwritten_digits.data.features).astype('float32') \n",
    "y = np.ravel(np.array(optical_recognition_of_handwritten_digits.data.targets))\n",
    "print(\"NS:\", X.shape[0])\n",
    "print(\"NF:\", X.shape[1])\n",
    "print(\"NC:\", len(set(y)))"
   ]
  },
  {
   "cell_type": "markdown",
   "id": "50107e38-94fb-4e38-a875-d78b8880ea8b",
   "metadata": {},
   "source": [
    "### P04"
   ]
  },
  {
   "cell_type": "code",
   "execution_count": 27,
   "id": "a2a85bb6-1d9c-46ae-b31b-4d7d5fb1406f",
   "metadata": {},
   "outputs": [
    {
     "name": "stdout",
     "output_type": "stream",
     "text": [
      "NS: 2600\n",
      "NF: 500\n",
      "NC: 2\n"
     ]
    }
   ],
   "source": [
    "madelon = fetch_openml(data_id = 1485, parser = 'auto')\n",
    "X = madelon.data\n",
    "y = madelon.target\n",
    "\n",
    "print(\"NS:\", X.shape[0])\n",
    "print(\"NF:\", X.shape[1])\n",
    "print(\"NC:\", len(set(y)))"
   ]
  },
  {
   "cell_type": "markdown",
   "id": "f2a42e9e-aee7-443c-9037-f748ebb72114",
   "metadata": {},
   "source": [
    "### P05"
   ]
  },
  {
   "cell_type": "code",
   "execution_count": 28,
   "id": "eed731c2-f8bd-4f6f-ae09-7a0248aa41ec",
   "metadata": {
    "scrolled": true
   },
   "outputs": [
    {
     "name": "stdout",
     "output_type": "stream",
     "text": [
      "NS: 1111\n",
      "NF: 520\n",
      "NC: 3\n"
     ]
    }
   ],
   "source": [
    "X = pd.read_csv('./Data/UJIIndoorLoc_validationData.csv').iloc[:, :520]\n",
    "y = pd.read_csv('./Data/UJIIndoorLoc_validationData.csv')['BUILDINGID']\n",
    "print(\"NS:\", X.shape[0])\n",
    "print(\"NF:\", X.shape[1])\n",
    "print(\"NC:\", len(set(y)))"
   ]
  },
  {
   "cell_type": "markdown",
   "id": "5d36e3c0-11ed-48dc-b97a-627bf175f8b8",
   "metadata": {},
   "source": [
    "### P06"
   ]
  },
  {
   "cell_type": "code",
   "execution_count": 29,
   "id": "e64eb6d0-e048-49a4-a9fa-fc53e4cf2ae6",
   "metadata": {},
   "outputs": [
    {
     "name": "stdout",
     "output_type": "stream",
     "text": [
      "NS: 10299\n",
      "NF: 561\n",
      "NC: 6\n"
     ]
    }
   ],
   "source": [
    "har = fetch_openml(data_id=1478, parser='auto')\n",
    "X = har.data\n",
    "y = har.target\n",
    "\n",
    "print(\"NS:\", X.shape[0])\n",
    "print(\"NF:\", X.shape[1])\n",
    "print(\"NC:\", len(set(y)))"
   ]
  },
  {
   "cell_type": "markdown",
   "id": "c6719b8e-4590-4f5d-89e4-1064f084e7e3",
   "metadata": {},
   "source": [
    "### P07"
   ]
  },
  {
   "cell_type": "code",
   "execution_count": 30,
   "id": "795cee12-a6a0-49c9-9947-6df80d728a34",
   "metadata": {},
   "outputs": [
    {
     "name": "stdout",
     "output_type": "stream",
     "text": [
      "NS: 1559\n",
      "NF: 617\n",
      "NC: 26\n"
     ]
    }
   ],
   "source": [
    "isolet5 = pd.read_csv('./Data/isolet5.data', header=None)\n",
    "X = np.array(isolet5.iloc[:,:-1])\n",
    "y = np.ravel(np.array(isolet5.iloc[:,-1]))\n",
    "print(\"NS:\", X.shape[0])\n",
    "print(\"NF:\", X.shape[1])\n",
    "print(\"NC:\", len(set(y)))"
   ]
  },
  {
   "cell_type": "markdown",
   "id": "652e84bd-91cf-468d-b9e7-a99b2a881b9a",
   "metadata": {},
   "source": [
    "### P08"
   ]
  },
  {
   "cell_type": "code",
   "execution_count": 31,
   "id": "6cc5d32f-d221-40cf-8cb4-82337cd78591",
   "metadata": {},
   "outputs": [
    {
     "name": "stdout",
     "output_type": "stream",
     "text": [
      "NS: 2000\n",
      "NF: 649\n",
      "NC: 10\n"
     ]
    }
   ],
   "source": [
    "# Carregar o dataset \"Multiple Features\" (ID no OpenML: 554)\n",
    "\n",
    "mfeat_factors = fetch_openml(data_id=12, parser='auto')\n",
    "mfeat_fourier = fetch_openml(data_id=14, parser='auto')\n",
    "mfeat_karhunen = fetch_openml(data_id=16, parser='auto')\n",
    "mfeat_morphological = fetch_openml(data_id=18, parser='auto')\n",
    "mfeat_pixel = fetch_openml(data_id=20, parser='auto')\n",
    "mfeat_zernike = fetch_openml(data_id=22, parser='auto')\n",
    "\n",
    "fac = np.array(mfeat_factors.data)\n",
    "fou = np.array(mfeat_fourier.data)\n",
    "kar = np.array(mfeat_karhunen.data)\n",
    "mor = np.array(mfeat_morphological.data)\n",
    "pix = np.array(mfeat_pixel.data)\n",
    "zer = np.array(mfeat_zernike.data)\n",
    "\n",
    "# Converter para DataFrame do pandas\n",
    "X = np.hstack((fac, fou, kar, pix, zer, mor))\n",
    "y = np.ravel(np.array(mfeat_factors.target))\n",
    "print(\"NS:\", X.shape[0])\n",
    "print(\"NF:\", X.shape[1])\n",
    "print(\"NC:\", len(set(y)))"
   ]
  },
  {
   "cell_type": "markdown",
   "id": "283a76cf-40a3-41d6-b5b9-75c75a2a659f",
   "metadata": {},
   "source": [
    "### P09"
   ]
  },
  {
   "cell_type": "code",
   "execution_count": 32,
   "id": "25dc6cce-93ba-497b-a9d9-4380c41041ee",
   "metadata": {},
   "outputs": [
    {
     "name": "stdout",
     "output_type": "stream",
     "text": [
      "NS: 1080\n",
      "NF: 856\n",
      "NC: 9\n"
     ]
    }
   ],
   "source": [
    "cnae = fetch_openml(data_id=1468, parser='auto')\n",
    "X = np.array(cnae.data)\n",
    "y = np.ravel(np.array(cnae.target))\n",
    "\n",
    "X.shape, y.shape\n",
    "print(\"NS:\", X.shape[0])\n",
    "print(\"NF:\", X.shape[1])\n",
    "print(\"NC:\", len(set(y)))"
   ]
  },
  {
   "cell_type": "markdown",
   "id": "1786ea9b-ec05-4dda-94ee-a940b93b9ff7",
   "metadata": {},
   "source": [
    "### P10"
   ]
  },
  {
   "cell_type": "code",
   "execution_count": 33,
   "id": "c6bf53ed-35ec-466e-9b77-99ce87638d13",
   "metadata": {
    "scrolled": true
   },
   "outputs": [
    {
     "name": "stdout",
     "output_type": "stream",
     "text": [
      "NS: 1686\n",
      "NF: 1024\n",
      "NC: 2\n"
     ]
    }
   ],
   "source": [
    "qsar_androgen_receptor = pd.read_csv('./Data/qsar_androgen_receptor.csv', sep = ';')\n",
    "\n",
    "y = np.array(qsar_androgen_receptor['positive'])\n",
    "X = np.array(qsar_androgen_receptor.drop(['positive'],axis = 1)).astype('float32')\n",
    "print(\"NS:\", X.shape[0])\n",
    "print(\"NF:\", X.shape[1])\n",
    "print(\"NC:\", len(set(y)))"
   ]
  },
  {
   "cell_type": "markdown",
   "id": "d8dede04-31d7-4658-9c49-3b5100a511be",
   "metadata": {},
   "source": [
    "### P11"
   ]
  },
  {
   "cell_type": "code",
   "execution_count": 34,
   "id": "099d0de6-f17c-475d-a6ef-6ab4583df0bd",
   "metadata": {},
   "outputs": [
    {
     "name": "stdout",
     "output_type": "stream",
     "text": [
      "NS: 571\n",
      "NF: 1300\n",
      "NC: 20\n"
     ]
    }
   ],
   "source": [
    "# Carregar o dataset \"Micromass\" (ID no OpenML: 1508)\n",
    "micromass = fetch_openml(data_id=1515, parser='auto')\n",
    "X = np.array(micromass.data).astype('float32')\n",
    "y = np.ravel(np.array(micromass.target)).astype('int')\n",
    "\n",
    "print(\"NS:\", X.shape[0])\n",
    "print(\"NF:\", X.shape[1])\n",
    "print(\"NC:\", len(set(y)))"
   ]
  },
  {
   "cell_type": "markdown",
   "id": "e4b703c1-c7d7-4491-86c8-414f38dcbfcd",
   "metadata": {},
   "source": [
    "### P12"
   ]
  },
  {
   "cell_type": "code",
   "execution_count": 35,
   "id": "288cd320-0b5f-4208-884d-cec54645095d",
   "metadata": {},
   "outputs": [
    {
     "name": "stdout",
     "output_type": "stream",
     "text": [
      "NS: 62\n",
      "NF: 2000\n",
      "NC: 2\n"
     ]
    }
   ],
   "source": [
    "colon = fetch_openml(data_id=45087, parser='auto')\n",
    "X = np.array(colon.data)\n",
    "y = np.ravel(np.array(colon.target))\n",
    "print(\"NS:\", X.shape[0])\n",
    "print(\"NF:\", X.shape[1])\n",
    "print(\"NC:\", len(set(y)))"
   ]
  },
  {
   "cell_type": "markdown",
   "id": "e959172f-1c55-4790-9238-08df07f15c88",
   "metadata": {},
   "source": [
    "### Cumida"
   ]
  },
  {
   "cell_type": "markdown",
   "id": "45794518-f9a3-4b6c-8d2b-fd0a44716aa7",
   "metadata": {},
   "source": [
    "### P13"
   ]
  },
  {
   "cell_type": "code",
   "execution_count": 44,
   "id": "29261fac-93b2-4882-9c9c-b95deddeba36",
   "metadata": {},
   "outputs": [
    {
     "name": "stdout",
     "output_type": "stream",
     "text": [
      "NS: 357\n",
      "NF: 22277\n",
      "NC: 2\n"
     ]
    }
   ],
   "source": [
    "Liver_GSE14520 = pd.read_csv('Data/Liver_GSE14520_U133A.csv', sep = ',')\n",
    "X = np.array(Liver_GSE14520.drop(['samples', 'type'],axis = 1)).astype('float32')\n",
    "y = np.array(Liver_GSE14520['type'])\n",
    "print(\"NS:\", X.shape[0])\n",
    "print(\"NF:\", X.shape[1])\n",
    "print(\"NC:\", len(set(y)))"
   ]
  },
  {
   "cell_type": "markdown",
   "id": "2a7b2eef-b187-40a6-a989-3a358e514159",
   "metadata": {},
   "source": [
    "### P14"
   ]
  },
  {
   "cell_type": "code",
   "execution_count": 45,
   "id": "eb885927-ce06-4107-bf33-0bdb00771da3",
   "metadata": {},
   "outputs": [
    {
     "name": "stdout",
     "output_type": "stream",
     "text": [
      "NS: 281\n",
      "NF: 22283\n",
      "NC: 7\n"
     ]
    }
   ],
   "source": [
    "Leukemia_GSE28497 = pd.read_csv('Data/Leukemia_GSE28497.csv', sep = ',')\n",
    "X = np.array(Leukemia_GSE28497.drop(['samples', 'type'],axis = 1)).astype('float32')\n",
    "y = np.array(Leukemia_GSE28497['type'])\n",
    "print(\"NS:\", X.shape[0])\n",
    "print(\"NF:\", X.shape[1])\n",
    "print(\"NC:\", len(set(y)))"
   ]
  },
  {
   "cell_type": "markdown",
   "id": "69abc3ec-72e6-4e36-a872-d585ace04647",
   "metadata": {},
   "source": [
    "### P15"
   ]
  },
  {
   "cell_type": "code",
   "execution_count": 42,
   "id": "11c52532-768c-4f72-afba-f5686e8c7a07",
   "metadata": {},
   "outputs": [
    {
     "name": "stdout",
     "output_type": "stream",
     "text": [
      "NS: 289\n",
      "NF: 35981\n",
      "NC: 2\n"
     ]
    }
   ],
   "source": [
    "Breast_GSE70947 = pd.read_csv('Data/Breast_GSE70947.csv', sep = ',')\n",
    "X = np.array(Breast_GSE70947.drop(['type', 'samples'], axis = 1))\n",
    "y = np.array(Breast_GSE70947['type'])\n",
    "\n",
    "print(\"NS:\", X.shape[0])\n",
    "print(\"NF:\", X.shape[1])\n",
    "print(\"NC:\", len(set(y)))\n",
    "#data_Breast_GSE70947_norm_results = run_dataset(X = X, y = y, n_experiments = 5, n_population = 100, n_gen = 100, max_features = 100, n_process = 48)"
   ]
  },
  {
   "cell_type": "markdown",
   "id": "7aa18c6e-4df9-46f8-a6b7-d662062f0bd4",
   "metadata": {},
   "source": [
    "### P16"
   ]
  },
  {
   "cell_type": "code",
   "execution_count": 46,
   "id": "c11f2e3c-aeca-48be-927f-8a5c70a84a49",
   "metadata": {},
   "outputs": [
    {
     "name": "stdout",
     "output_type": "stream",
     "text": [
      "NS: 194\n",
      "NF: 49386\n",
      "NC: 2\n"
     ]
    }
   ],
   "source": [
    "Colorectal_GSE44076 = pd.read_csv('Data/Colorectal_GSE44076.csv', sep = ',')\n",
    "X = np.array(Colorectal_GSE44076.drop(['samples', 'type'],axis = 1)).astype('float32')\n",
    "y = np.array(Colorectal_GSE44076['type'])\n",
    "print(\"NS:\", X.shape[0])\n",
    "print(\"NF:\", X.shape[1])\n",
    "print(\"NC:\", len(set(y)))"
   ]
  },
  {
   "cell_type": "markdown",
   "id": "39470618-cffb-404c-af7a-2311155f33e8",
   "metadata": {},
   "source": [
    "### P17"
   ]
  },
  {
   "cell_type": "code",
   "execution_count": 48,
   "id": "580c3379-92d8-4a41-a8f1-840d7a729ffc",
   "metadata": {},
   "outputs": [
    {
     "name": "stdout",
     "output_type": "stream",
     "text": [
      "NS: 143\n",
      "NF: 54675\n",
      "NC: 2\n"
     ]
    }
   ],
   "source": [
    "Renal_GSE53757 = pd.read_csv('Data/Renal_GSE53757.csv', sep = ',')\n",
    "X = np.array(Renal_GSE53757.drop(['samples', 'type'],axis = 1)).astype('float32')\n",
    "y = np.array(Renal_GSE53757['type'])\n",
    "print(\"NS:\", X.shape[0])\n",
    "print(\"NF:\", X.shape[1])\n",
    "print(\"NC:\", len(set(y)))"
   ]
  },
  {
   "cell_type": "markdown",
   "id": "204ecdf6-88ed-4c48-a5ea-d726fcc5d756",
   "metadata": {},
   "source": [
    "### P18"
   ]
  },
  {
   "cell_type": "code",
   "execution_count": 49,
   "id": "5dade73b-5dac-4fc5-b3a6-eb9a8cf91ed5",
   "metadata": {},
   "outputs": [
    {
     "name": "stdout",
     "output_type": "stream",
     "text": [
      "NS: 151\n",
      "NF: 54675\n",
      "NC: 6\n"
     ]
    }
   ],
   "source": [
    "Breast_GSE45827 = pd.read_csv('Data/Breast_GSE45827.csv', sep = ',')\n",
    "X = np.array(Breast_GSE45827.drop(['samples', 'type'],axis = 1)).astype('float32')\n",
    "y = np.array(Breast_GSE45827['type'])\n",
    "print(\"NS:\", X.shape[0])\n",
    "print(\"NF:\", X.shape[1])\n",
    "print(\"NC:\", len(set(y)))"
   ]
  },
  {
   "cell_type": "markdown",
   "id": "8b5c5813-7062-426c-b074-8c8eccf07696",
   "metadata": {},
   "source": [
    "### P19"
   ]
  },
  {
   "cell_type": "code",
   "execution_count": 50,
   "id": "fc7db8be-3ea3-437a-819a-460623852619",
   "metadata": {
    "scrolled": true
   },
   "outputs": [
    {
     "name": "stdout",
     "output_type": "stream",
     "text": [
      "NS: 147\n",
      "NF: 54675\n",
      "NC: 3\n"
     ]
    }
   ],
   "source": [
    "Colorectal_GSE21510 = pd.read_csv('Data/Colorectal_GSE21510.csv', sep = ',')\n",
    "X = np.array(Colorectal_GSE21510.drop(['samples', 'type'],axis = 1)).astype('float32')\n",
    "y = np.array(Colorectal_GSE21510['type'])\n",
    "print(\"NS:\", X.shape[0])\n",
    "print(\"NF:\", X.shape[1])\n",
    "print(\"NC:\", len(set(y)))"
   ]
  },
  {
   "cell_type": "markdown",
   "id": "8ce4a774-c660-496c-b608-923072d5c7b9",
   "metadata": {},
   "source": [
    "### P20"
   ]
  },
  {
   "cell_type": "code",
   "execution_count": 55,
   "id": "e47c2600-c9cc-4a87-9a84-01798a1497cc",
   "metadata": {},
   "outputs": [
    {
     "name": "stdout",
     "output_type": "stream",
     "text": [
      "NS: 130\n",
      "NF: 54675\n",
      "NC: 5\n"
     ]
    }
   ],
   "source": [
    "Brain_GSE50161 = pd.read_csv('Data/Brain_GSE50161.csv', sep = ',')\n",
    "X = np.array(Brain_GSE50161.drop(['samples', 'type'],axis = 1))\n",
    "y = np.array(Brain_GSE50161['type'])\n",
    "print(\"NS:\", X.shape[0])\n",
    "print(\"NF:\", X.shape[1])\n",
    "print(\"NC:\", len(set(y)))"
   ]
  },
  {
   "cell_type": "markdown",
   "id": "31a90c61-3955-44d4-ba44-fad97b859464",
   "metadata": {},
   "source": [
    "## Resultados"
   ]
  }
 ],
 "metadata": {
  "kernelspec": {
   "display_name": "Python 3 (ipykernel)",
   "language": "python",
   "name": "python3"
  },
  "language_info": {
   "codemirror_mode": {
    "name": "ipython",
    "version": 3
   },
   "file_extension": ".py",
   "mimetype": "text/x-python",
   "name": "python",
   "nbconvert_exporter": "python",
   "pygments_lexer": "ipython3",
   "version": "3.10.12"
  }
 },
 "nbformat": 4,
 "nbformat_minor": 5
}
