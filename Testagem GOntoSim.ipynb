{
 "cells": [
  {
   "cell_type": "code",
   "execution_count": 24,
   "id": "11af2228-140b-4f0e-a51a-d884d0b30c07",
   "metadata": {},
   "outputs": [],
   "source": [
    "from goatools.obo_parser import GODag\n",
    "from goatools.base import get_godag\n",
    "import pandas as pd\n",
    "import requests, sys\n",
    "import numpy as np\n",
    "import time\n",
    "#go = get_godag(\"go-basic.obo\", optional_attrs={'relationship'})\n",
    "\n",
    "from Similarity import Similarity_of_Two_GOTerms, Similarity_of_Set_of_GOTerms"
   ]
  },
  {
   "cell_type": "code",
   "execution_count": 37,
   "id": "bc17eedd-052a-4374-a7ea-32e39607fcd5",
   "metadata": {},
   "outputs": [],
   "source": [
    "affymetrix_GO_terms = dict(zip(pd.read_pickle('Data/affymetrix_GO_terms.pkl')['ID'],pd.read_pickle('Data/affymetrix_GO_terms.pkl')['GO term']))\n",
    "data = pd.read_pickle('Data/data_normalized.pkl')\n",
    "colunas = list(data.columns)\n",
    "colunas.remove('samples')\n",
    "colunas.remove('type')"
   ]
  },
  {
   "cell_type": "code",
   "execution_count": 104,
   "id": "b19af226-d016-439c-894a-f211577a020f",
   "metadata": {},
   "outputs": [],
   "source": [
    "gen1_index = np.random.randint(22000, size = (30))\n",
    "gen2_index = np.random.randint(22000)"
   ]
  },
  {
   "cell_type": "code",
   "execution_count": 105,
   "id": "7fe025b7-9b97-4966-ba62-bdbfdc3e4577",
   "metadata": {},
   "outputs": [
    {
     "data": {
      "text/plain": [
       "['GO:0007267', 'GO:0015961', 'GO:0043647', 'GO:0044281', 'GO:0071544']"
      ]
     },
     "execution_count": 105,
     "metadata": {},
     "output_type": "execute_result"
    }
   ],
   "source": [
    "gen1 = []\n",
    "for i in gen1_index:\n",
    "    gen1.extend(affymetrix_GO_terms[colunas[i]])\n",
    "\n",
    "gen2 = affymetrix_GO_terms[colunas[gen2_index]]\n",
    "gen2"
   ]
  },
  {
   "cell_type": "code",
   "execution_count": 106,
   "id": "8c92473b-ecff-495c-9019-8710e4a1e00c",
   "metadata": {},
   "outputs": [
    {
     "name": "stdout",
     "output_type": "stream",
     "text": [
      "313\n",
      "5\n",
      "0.8959381580352783\n"
     ]
    }
   ],
   "source": [
    "print(len(gen1))\n",
    "print(len(gen2))\n",
    "start = time.time()\n",
    "Similarity_of_Set_of_GOTerms(gen1, gen2, 'GOGO')\n",
    "print(time.time()-start)"
   ]
  },
  {
   "cell_type": "code",
   "execution_count": null,
   "id": "454edd95-cebf-4f36-a27b-6f5c5f7b6cfb",
   "metadata": {},
   "outputs": [],
   "source": []
  }
 ],
 "metadata": {
  "kernelspec": {
   "display_name": "Python 3 (ipykernel)",
   "language": "python",
   "name": "python3"
  },
  "language_info": {
   "codemirror_mode": {
    "name": "ipython",
    "version": 3
   },
   "file_extension": ".py",
   "mimetype": "text/x-python",
   "name": "python",
   "nbconvert_exporter": "python",
   "pygments_lexer": "ipython3",
   "version": "3.10.12"
  }
 },
 "nbformat": 4,
 "nbformat_minor": 5
}
