{
 "cells": [
  {
   "cell_type": "code",
   "execution_count": 1,
   "metadata": {
    "scrolled": true
   },
   "outputs": [
    {
     "name": "stdout",
     "output_type": "stream",
     "text": [
      "  EXISTS: go-basic.obo\n",
      "go-basic.obo: fmt(1.2) rel(2024-06-17) 45,494 Terms; optional_attrs(relationship)\n",
      "  EXISTS: go-basic.obo\n",
      "go-basic.obo: fmt(1.2) rel(2024-06-17) 51,502 Terms; optional_attrs(relationship)\n"
     ]
    }
   ],
   "source": [
    "from goatools.obo_parser import GODag\n",
    "from goatools.base import get_godag\n",
    "import pandas as pd\n",
    "import requests, sys\n",
    "\n",
    "go = get_godag(\"go-basic.obo\", optional_attrs={'relationship'})\n",
    "\n",
    "from Similarity import Similarity_of_Two_GOTerms, Similarity_of_Set_of_GOTerms\n",
    "\n",
    "import time\n",
    "import numpy as np\n",
    "import pickle"
   ]
  },
  {
   "cell_type": "code",
   "execution_count": 20,
   "metadata": {},
   "outputs": [],
   "source": [
    "go_id1 = 'GO:0008217'\n",
    "go_id2 = 'GO:0032392'\n",
    "go_id3 = 'GO:0031323'\n",
    "go_id4 = 'GO:0061035'\n",
    "go_id5 = 'GO:0070829'\n",
    "go_id6 = 'GO:0061469'\n",
    "go_id7 = 'GO:0034770'\n",
    "go_id8 = 'GO:0032916'\n",
    "go_id9 = 'GO:0034641'\n",
    "go_id10 ='GO:0016480'"
   ]
  },
  {
   "cell_type": "code",
   "execution_count": 3,
   "metadata": {
    "scrolled": true
   },
   "outputs": [
    {
     "name": "stdout",
     "output_type": "stream",
     "text": [
      "0.001293182373046875\n"
     ]
    }
   ],
   "source": [
    "start = time.time()\n",
    "Similarity_of_Two_GOTerms(go_id3, go_id4, go, 'GOGO')\n",
    "Similarity_of_Two_GOTerms(go_id3, go_id4, go, 'GOGO')\n",
    "Similarity_of_Two_GOTerms(go_id3, go_id4, go, 'GOGO')\n",
    "Similarity_of_Two_GOTerms(go_id3, go_id4, go, 'GOGO')\n",
    "Similarity_of_Two_GOTerms(go_id3, go_id4, go, 'GOGO')\n",
    "Similarity_of_Two_GOTerms(go_id3, go_id4, go, 'GOGO')\n",
    "Similarity_of_Two_GOTerms(go_id3, go_id4, go, 'GOGO')\n",
    "Similarity_of_Two_GOTerms(go_id3, go_id4, go, 'GOGO')\n",
    "Similarity_of_Two_GOTerms(go_id3, go_id4, go, 'GOGO')\n",
    "Similarity_of_Two_GOTerms(go_id3, go_id4, go, 'GOGO')\n",
    "print(time.time()-start)"
   ]
  },
  {
   "cell_type": "code",
   "execution_count": 6,
   "metadata": {},
   "outputs": [],
   "source": [
    "matrix_similarity = np.load('go_terms_GOGO.npy')\n",
    "with open('dict_go_terms_index.pkl', 'rb') as file:\n",
    "    go_labels = pickle.load(file)"
   ]
  },
  {
   "cell_type": "code",
   "execution_count": 11,
   "metadata": {},
   "outputs": [
    {
     "name": "stdout",
     "output_type": "stream",
     "text": [
      "0.0004520416259765625\n"
     ]
    }
   ],
   "source": [
    "start = time.time()\n",
    "Similarity_of_Two_GOTerms(go_id3, go_id4, go, 'pre_computed_GOGO', matrix_similarity = matrix_similarity, go_labels = go_labels)\n",
    "Similarity_of_Two_GOTerms(go_id3, go_id4, go, 'pre_computed_GOGO', matrix_similarity = matrix_similarity, go_labels = go_labels)\n",
    "Similarity_of_Two_GOTerms(go_id3, go_id4, go, 'pre_computed_GOGO', matrix_similarity = matrix_similarity, go_labels = go_labels)\n",
    "Similarity_of_Two_GOTerms(go_id3, go_id4, go, 'pre_computed_GOGO', matrix_similarity = matrix_similarity, go_labels = go_labels)\n",
    "Similarity_of_Two_GOTerms(go_id3, go_id4, go, 'pre_computed_GOGO', matrix_similarity = matrix_similarity, go_labels = go_labels)\n",
    "Similarity_of_Two_GOTerms(go_id3, go_id4, go, 'pre_computed_GOGO', matrix_similarity = matrix_similarity, go_labels = go_labels)\n",
    "Similarity_of_Two_GOTerms(go_id3, go_id4, go, 'pre_computed_GOGO', matrix_similarity = matrix_similarity, go_labels = go_labels)\n",
    "Similarity_of_Two_GOTerms(go_id3, go_id4, go, 'pre_computed_GOGO', matrix_similarity = matrix_similarity, go_labels = go_labels)\n",
    "Similarity_of_Two_GOTerms(go_id3, go_id4, go, 'pre_computed_GOGO', matrix_similarity = matrix_similarity, go_labels = go_labels)\n",
    "Similarity_of_Two_GOTerms(go_id3, go_id4, go, 'pre_computed_GOGO', matrix_similarity = matrix_similarity, go_labels = go_labels)\n",
    "Similarity_of_Two_GOTerms(go_id3, go_id4, go, 'pre_computed_GOGO', matrix_similarity = matrix_similarity, go_labels = go_labels)\n",
    "print(time.time()-start)"
   ]
  },
  {
   "cell_type": "code",
   "execution_count": 13,
   "metadata": {},
   "outputs": [
    {
     "name": "stdout",
     "output_type": "stream",
     "text": [
      "0.0003802776336669922\n"
     ]
    }
   ],
   "source": [
    "start = time.time()\n",
    "matrix_similarity[go_labels['GO:0008217'],go_labels['GO:0032392']]\n",
    "matrix_similarity[go_labels['GO:0008217'],go_labels['GO:0032392']]\n",
    "matrix_similarity[go_labels['GO:0008217'],go_labels['GO:0032392']]\n",
    "matrix_similarity[go_labels['GO:0008217'],go_labels['GO:0032392']]\n",
    "matrix_similarity[go_labels['GO:0008217'],go_labels['GO:0032392']]\n",
    "matrix_similarity[go_labels['GO:0008217'],go_labels['GO:0032392']]\n",
    "matrix_similarity[go_labels['GO:0008217'],go_labels['GO:0032392']]\n",
    "matrix_similarity[go_labels['GO:0008217'],go_labels['GO:0032392']]\n",
    "matrix_similarity[go_labels['GO:0008217'],go_labels['GO:0032392']]\n",
    "matrix_similarity[go_labels['GO:0008217'],go_labels['GO:0032392']]\n",
    "print(time.time()-start)"
   ]
  },
  {
   "cell_type": "code",
   "execution_count": 15,
   "metadata": {},
   "outputs": [
    {
     "data": {
      "text/plain": [
       "array([[1.     , 0.2617 , 0.1318 , ..., 0.02263, 0.0869 , 0.1842 ],\n",
       "       [0.2617 , 1.     , 0.138  , ..., 0.02303, 0.1105 , 0.2019 ],\n",
       "       [0.1318 , 0.138  , 1.     , ..., 0.02138, 0.0451 , 0.1792 ],\n",
       "       ...,\n",
       "       [0.02263, 0.02303, 0.02138, ..., 1.     , 0.02544, 0.02171],\n",
       "       [0.0869 , 0.1105 , 0.0451 , ..., 0.02544, 1.     , 0.06616],\n",
       "       [0.1842 , 0.2019 , 0.1792 , ..., 0.02171, 0.06616, 1.     ]],\n",
       "      dtype=float16)"
      ]
     },
     "execution_count": 15,
     "metadata": {},
     "output_type": "execute_result"
    }
   ],
   "source": [
    "matrix_similarity"
   ]
  },
  {
   "cell_type": "code",
   "execution_count": 21,
   "metadata": {},
   "outputs": [],
   "source": [
    "gene1 = [go_id1 , go_id2 , go_id3, go_id4, go_id5, go_id6]\n",
    "gene2 = [go_id6 , go_id7 , go_id8, go_id9, go_id10]"
   ]
  },
  {
   "cell_type": "code",
   "execution_count": 31,
   "metadata": {},
   "outputs": [
    {
     "name": "stdout",
     "output_type": "stream",
     "text": [
      "pre_computed_GOGO\n",
      "0.0002453327178955078\n"
     ]
    }
   ],
   "source": [
    "method = 'pre_computed_GOGO'\n",
    "print(method)\n",
    "start = time.time()\n",
    "Similarity_of_Set_of_GOTerms(gene1, gene2, method, matrix_similarity = matrix_similarity, go_labels = go_labels)\n",
    "#print(Similarity_of_Set_of_GOTerms(gene1, gene2, 'GOGO'))\n",
    "print(time.time()-start)"
   ]
  },
  {
   "cell_type": "code",
   "execution_count": 18,
   "metadata": {},
   "outputs": [
    {
     "name": "stdout",
     "output_type": "stream",
     "text": [
      "GOGO\n",
      "1.0\n",
      "0.0022885799407958984\n"
     ]
    }
   ],
   "source": [
    "method = 'GOGO'\n",
    "print(method)\n",
    "start = time.time()\n",
    "print(Similarity_of_Set_of_GOTerms(gene1, gene2, method, matrix_go_terms = matrix_go_terms, go_labels = go_terms_index))\n",
    "print(time.time()-start)"
   ]
  },
  {
   "cell_type": "code",
   "execution_count": 5,
   "metadata": {},
   "outputs": [
    {
     "name": "stdout",
     "output_type": "stream",
     "text": [
      "GOntoSim\n",
      "GO:0005634 and GO:0042579 = 0.43452661328308995\n",
      "GO:0005777 and GO:0031903 = 0.7516592341352092\n",
      "Baseline\n",
      "GO:0005634 and GO:0042579 = 0.7246229452635147\n",
      "GO:0005777 and GO:0031903 = 0.6725006629541236\n",
      "Baseline_LCA\n",
      "GO:0005634 and GO:0042579 = 0.8690532265661799\n",
      "GO:0005777 and GO:0031903 = 0.9131545338441889\n",
      "Baseline_Desc\n",
      "GO:0005634 and GO:0042579 = 0.36231147263175734\n",
      "GO:0005777 and GO:0031903 = 0.6313322986901766\n",
      "wang\n",
      "GO:0005634 and GO:0042579 = 0.7439251158246402\n",
      "GO:0005777 and GO:0031903 = 0.6888698543860534\n",
      "GOGO\n",
      "GO:0005634 and GO:0042579 = 0.8088116501220666\n",
      "GO:0005777 and GO:0031903 = 0.7966598157740756\n"
     ]
    }
   ],
   "source": [
    "method = 'GOntoSim'\n",
    "print(method)\n",
    "# Similarity_of_Two_GOTerms(go_id1, go_id2, go, method)\n",
    "# Similarity_of_Two_GOTerms(go_id3, go_id4, go, method)\n",
    "print(go_id1,\"and\", go_id2, \"=\", Similarity_of_Two_GOTerms(go_id1, go_id2, go, method))\n",
    "print(go_id3,\"and\", go_id4, \"=\",Similarity_of_Two_GOTerms(go_id3, go_id4, go, method))\n",
    "\n",
    "method = 'Baseline'\n",
    "print(method)\n",
    "# Similarity_of_Two_GOTerms(go_id1, go_id2, go, method)\n",
    "# Similarity_of_Two_GOTerms(go_id3, go_id4, go, method)\n",
    "print(go_id1,\"and\", go_id2, \"=\", Similarity_of_Two_GOTerms(go_id1, go_id2, go, method))\n",
    "print(go_id3,\"and\", go_id4, \"=\",Similarity_of_Two_GOTerms(go_id3, go_id4, go, method))\n",
    "\n",
    "method = 'Baseline_LCA'\n",
    "print(method)\n",
    "# Similarity_of_Two_GOTerms(go_id1, go_id2, go, method)\n",
    "# Similarity_of_Two_GOTerms(go_id3, go_id4, go, method)\n",
    "print(go_id1,\"and\", go_id2, \"=\", Similarity_of_Two_GOTerms(go_id1, go_id2, go, method))\n",
    "print(go_id3,\"and\", go_id4, \"=\",Similarity_of_Two_GOTerms(go_id3, go_id4, go, method))\n",
    "\n",
    "method = 'Baseline_Desc'\n",
    "print(method)\n",
    "# Similarity_of_Two_GOTerms(go_id1, go_id2, go, method)\n",
    "# Similarity_of_Two_GOTerms(go_id3, go_id4, go, method)\n",
    "print(go_id1,\"and\", go_id2, \"=\", Similarity_of_Two_GOTerms(go_id1, go_id2, go, method))\n",
    "print(go_id3,\"and\", go_id4, \"=\",Similarity_of_Two_GOTerms(go_id3, go_id4, go, method))\n",
    "\n",
    "method = 'wang'\n",
    "print(method)\n",
    "print(go_id1,\"and\", go_id2, \"=\", Similarity_of_Two_GOTerms(go_id1, go_id2, go, method))\n",
    "print(go_id3,\"and\", go_id4, \"=\",Similarity_of_Two_GOTerms(go_id3, go_id4, go, method))\n",
    "\n",
    "\n",
    "method = 'GOGO'\n",
    "print(method)\n",
    "print(go_id1,\"and\", go_id2, \"=\", Similarity_of_Two_GOTerms(go_id1, go_id2, go, method))\n",
    "print(go_id3,\"and\", go_id4, \"=\",Similarity_of_Two_GOTerms(go_id3, go_id4, go, method))"
   ]
  },
  {
   "cell_type": "code",
   "execution_count": 6,
   "metadata": {},
   "outputs": [],
   "source": [
    "gene1 = ['GO:0004022','GO:0004024', 'GO:0004174', 'GO:0046872','GO:0008270','GO:0004023', 'GO:0016491']\n",
    "gene2 = ['GO:0009055','GO:0005515','GO:0046872','GO:0008270','GO:0020037']"
   ]
  },
  {
   "cell_type": "code",
   "execution_count": 8,
   "metadata": {},
   "outputs": [
    {
     "name": "stdout",
     "output_type": "stream",
     "text": [
      "GOntoSim\n",
      "0.65\n",
      "Baseline\n",
      "0.633\n",
      "Baseline_LCA\n",
      "0.902\n",
      "Baseline_Desc\n",
      "0.513\n",
      "wang\n",
      "0.681\n",
      "GOGO\n",
      "0.686\n"
     ]
    }
   ],
   "source": [
    "method = 'GOntoSim'\n",
    "print(method)\n",
    "print(Similarity_of_Set_of_GOTerms(gene1, gene2, method))\t\n",
    "\n",
    "method = 'Baseline'\n",
    "print(method)\n",
    "#print(Similarity_of_Set_of_GOTerms(['GO:0004022','GO:0004024', 'GO:0004174', 'GO:0046872','GO:0008270','GO:0004023', 'GO:0016491'],['GO:0009055','GO:0005515','GO:0046872','GO:0008270','GO:0020037'], method))\t\n",
    "print(Similarity_of_Set_of_GOTerms(gene1, gene2, method))\t\n",
    "\n",
    "\n",
    "method = 'Baseline_LCA'\n",
    "print(method)\n",
    "#print(Similarity_of_Set_of_GOTerms(['GO:0004022','GO:0004024', 'GO:0004174', 'GO:0046872','GO:0008270','GO:0004023', 'GO:0016491'],['GO:0009055','GO:0005515','GO:0046872','GO:0008270','GO:0020037'], method))\t\n",
    "print(Similarity_of_Set_of_GOTerms(gene1, gene2, method))\t\n",
    "\n",
    "\n",
    "method = 'Baseline_Desc'\n",
    "print(method)\n",
    "#print(Similarity_of_Set_of_GOTerms(['GO:0004022','GO:0004024', 'GO:0004174', 'GO:0046872','GO:0008270','GO:0004023', 'GO:0016491'],['GO:0009055','GO:0005515','GO:0046872','GO:0008270','GO:0020037'], method))\t\n",
    "print(Similarity_of_Set_of_GOTerms(gene1, gene2, method))\t\n",
    "\n",
    "\n",
    "method = 'wang'\n",
    "print(method)\n",
    "#print(Similarity_of_Set_of_GOTerms(['GO:0004022','GO:0004024', 'GO:0004174', 'GO:0046872','GO:0008270','GO:0004023', 'GO:0016491'],['GO:0009055','GO:0005515','GO:0046872','GO:0008270','GO:0020037'], method))\t\n",
    "print(Similarity_of_Set_of_GOTerms(gene1, gene2, method))\t\n",
    "\n",
    "\n",
    "method = 'GOGO'\n",
    "print(method)\n",
    "#print(Similarity_of_Set_of_GOTerms(['GO:0004022','GO:0004024', 'GO:0004174', 'GO:0046872','GO:0008270','GO:0004023', 'GO:0016491'],['GO:0009055','GO:0005515','GO:0046872','GO:0008270','GO:0020037'], method))\t\n",
    "print(Similarity_of_Set_of_GOTerms(gene1, gene2, method))\t"
   ]
  },
  {
   "cell_type": "code",
   "execution_count": 34,
   "metadata": {},
   "outputs": [],
   "source": [
    "\n",
    "def getGoTerms(URL):\n",
    "    requestURL = \"https://www.ebi.ac.uk/QuickGO/services/annotation/downloadSearch?geneProductId=\" + URL\n",
    "    r = requests.get(requestURL, headers={ \"Accept\" : \"text/tsv\"})\n",
    "    if not r.ok:\n",
    "        responseBody = \"!Too many parameters\\n\"\n",
    "        return (responseBody)\n",
    "        #r.raise_for_status()\n",
    "        #sys.exit()\n",
    "   \n",
    "    responseBody = r.text\n",
    "    return (responseBody)\n",
    "\n",
    "def get_Annotations(protein, aspect = 'MF'):\n",
    "    annotation = getGoTerms(protein)\n",
    "    #print(annotation)\n",
    "    df = pd.DataFrame([x.split('\\t') for x in annotation.split('\\n')[1:]], columns=[x for x in annotation.split('\\n')[0].split('\\t')])\n",
    "    df = df.drop(['GENE PRODUCT DB','ECO ID', 'REFERENCE', 'WITH/FROM', 'TAXON ID', 'ASSIGNED BY', 'ANNOTATION EXTENSION' ], axis=1)\n",
    "\n",
    "    if aspect== 'MF':\n",
    "        Filtered = df[(df['GO ASPECT'] == 'F')]\n",
    "    if aspect=='BP':\n",
    "        Filtered = df[(df['GO ASPECT'] == 'P')]\n",
    "    if aspect== 'CC':\n",
    "        Filtered = df[(df['GO ASPECT'] == 'C')]\n",
    "    # Drop rows with duplicate GO terms\n",
    "    Filtered = Filtered.drop_duplicates('GO TERM')\n",
    "    x = Filtered['GO TERM'].tolist()\n",
    "    return x"
   ]
  },
  {
   "cell_type": "markdown",
   "metadata": {},
   "source": [
    "# Similarity of 2 Proteins"
   ]
  },
  {
   "cell_type": "code",
   "execution_count": 36,
   "metadata": {},
   "outputs": [
    {
     "name": "stdout",
     "output_type": "stream",
     "text": [
      "GOntoSim\n",
      "0.761\n"
     ]
    }
   ],
   "source": [
    "protein1 = 'P0CG30'\n",
    "protein1_GOTerms = get_Annotations(protein1, 'MF')\n",
    "\n",
    "protein2 = 'Q9P6M1'\n",
    "protein2_GOTerms = get_Annotations(protein2, 'MF')\n",
    "\n",
    "method = 'GOntoSim'\n",
    "print(method)\n",
    "print(Similarity_of_Set_of_GOTerms(protein1_GOTerms, protein2_GOTerms, method))\t\n"
   ]
  },
  {
   "cell_type": "code",
   "execution_count": null,
   "metadata": {},
   "outputs": [],
   "source": []
  }
 ],
 "metadata": {
  "kernelspec": {
   "display_name": "Python 3 (ipykernel)",
   "language": "python",
   "name": "python3"
  },
  "language_info": {
   "codemirror_mode": {
    "name": "ipython",
    "version": 3
   },
   "file_extension": ".py",
   "mimetype": "text/x-python",
   "name": "python",
   "nbconvert_exporter": "python",
   "pygments_lexer": "ipython3",
   "version": "3.10.12"
  }
 },
 "nbformat": 4,
 "nbformat_minor": 4
}
