{
 "cells": [
  {
   "cell_type": "code",
   "execution_count": 1,
   "id": "3cdcb84f-262d-4e9a-961e-1de97fe71554",
   "metadata": {},
   "outputs": [
    {
     "name": "stdout",
     "output_type": "stream",
     "text": [
      "Defaulting to user installation because normal site-packages is not writeable\n",
      "Collecting fastsemsim\n",
      "  Downloading fastsemsim-1.0.0-py2.py3-none-any.whl.metadata (1.4 kB)\n",
      "Requirement already satisfied: pandas in /usr/local/lib/python3.10/dist-packages (from fastsemsim) (1.5.3)\n",
      "Requirement already satisfied: python-dateutil>=2.8.1 in /usr/local/lib/python3.10/dist-packages (from pandas->fastsemsim) (2.8.2)\n",
      "Requirement already satisfied: pytz>=2020.1 in /usr/local/lib/python3.10/dist-packages (from pandas->fastsemsim) (2024.1)\n",
      "Requirement already satisfied: numpy>=1.21.0 in /usr/local/lib/python3.10/dist-packages (from pandas->fastsemsim) (1.24.4)\n",
      "Requirement already satisfied: six>=1.5 in /usr/local/lib/python3.10/dist-packages (from python-dateutil>=2.8.1->pandas->fastsemsim) (1.16.0)\n",
      "Downloading fastsemsim-1.0.0-py2.py3-none-any.whl (42.8 MB)\n",
      "\u001b[2K   \u001b[90m━━━━━━━━━━━━━━━━━━━━━━━━━━━━━━━━━━━━━━━━\u001b[0m \u001b[32m42.8/42.8 MB\u001b[0m \u001b[31m3.8 MB/s\u001b[0m eta \u001b[36m0:00:00\u001b[0m00:01\u001b[0m00:01\u001b[0m\n",
      "\u001b[?25hInstalling collected packages: fastsemsim\n",
      "\u001b[33m  WARNING: The script fastsemsim is installed in '/home/grkremer/.local/bin' which is not on PATH.\n",
      "  Consider adding this directory to PATH or, if you prefer to suppress this warning, use --no-warn-script-location.\u001b[0m\u001b[33m\n",
      "\u001b[0mSuccessfully installed fastsemsim-1.0.0\n",
      "\n",
      "\u001b[1m[\u001b[0m\u001b[34;49mnotice\u001b[0m\u001b[1;39;49m]\u001b[0m\u001b[39;49m A new release of pip is available: \u001b[0m\u001b[31;49m24.1.2\u001b[0m\u001b[39;49m -> \u001b[0m\u001b[32;49m24.2\u001b[0m\n",
      "\u001b[1m[\u001b[0m\u001b[34;49mnotice\u001b[0m\u001b[1;39;49m]\u001b[0m\u001b[39;49m To update, run: \u001b[0m\u001b[32;49mpython3 -m pip install --upgrade pip\u001b[0m\n"
     ]
    }
   ],
   "source": [
    "!pip install fastsemsim"
   ]
  },
  {
   "cell_type": "code",
   "execution_count": 3,
   "id": "746c84e4-36ed-4d48-a237-e3191d326e31",
   "metadata": {},
   "outputs": [
    {
     "ename": "TypeError",
     "evalue": "load_ac() got an unexpected keyword argument 'ac_species'",
     "output_type": "error",
     "traceback": [
      "\u001b[0;31m---------------------------------------------------------------------------\u001b[0m",
      "\u001b[0;31mTypeError\u001b[0m                                 Traceback (most recent call last)",
      "Cell \u001b[0;32mIn[3], line 4\u001b[0m\n\u001b[1;32m      2\u001b[0m \u001b[38;5;28;01mimport\u001b[39;00m \u001b[38;5;21;01mfastsemsim\u001b[39;00m\n\u001b[1;32m      3\u001b[0m ontology \u001b[38;5;241m=\u001b[39m fastsemsim\u001b[38;5;241m.\u001b[39mload_ontology(ontology_type \u001b[38;5;241m=\u001b[39m \u001b[38;5;124m'\u001b[39m\u001b[38;5;124mGeneOntology\u001b[39m\u001b[38;5;124m'\u001b[39m)\n\u001b[0;32m----> 4\u001b[0m ac \u001b[38;5;241m=\u001b[39m \u001b[43mfastsemsim\u001b[49m\u001b[38;5;241;43m.\u001b[39;49m\u001b[43mload_ac\u001b[49m\u001b[43m(\u001b[49m\u001b[43montology\u001b[49m\u001b[43m,\u001b[49m\u001b[43m \u001b[49m\u001b[43mac_species\u001b[49m\u001b[43m \u001b[49m\u001b[38;5;241;43m=\u001b[39;49m\u001b[43m \u001b[49m\u001b[38;5;124;43m'\u001b[39;49m\u001b[38;5;124;43mhuman\u001b[39;49m\u001b[38;5;124;43m'\u001b[39;49m\u001b[43m)\u001b[49m\n\u001b[1;32m      5\u001b[0m \u001b[38;5;66;03m# Parameters for the SS\u001b[39;00m\n\u001b[1;32m      6\u001b[0m semsim_type\u001b[38;5;241m=\u001b[39m\u001b[38;5;124m'\u001b[39m\u001b[38;5;124mobj\u001b[39m\u001b[38;5;124m'\u001b[39m\n",
      "\u001b[0;31mTypeError\u001b[0m: load_ac() got an unexpected keyword argument 'ac_species'"
     ]
    }
   ],
   "source": [
    "# Import fastsemsim\n",
    "import fastsemsim\n",
    "ontology = fastsemsim.load_ontology(ontology_type = 'GeneOntology')\n",
    "ac = fastsemsim.load_ac(ontology, ac_species = 'human')\n",
    "# Parameters for the SS\n",
    "semsim_type='obj'\n",
    "semsim_measure='Resnik'\n",
    "mixing_strategy='max'\n",
    "\n",
    "# Initializing semantic similarity\n",
    "ss = fastsemsim.init_semsim(ontology = ontology, ac = ac, semsim_type= semsim_type, semsim_measure = semsim_measure, mixing_strategy = mixing_strategy)\n",
    "\n",
    "# Calculating SS for some pairs of proteins...\n",
    "res = ss.SemSim('0001895', '0001895')\n",
    "print(res)"
   ]
  },
  {
   "cell_type": "code",
   "execution_count": 12,
   "id": "f5492575-dee3-45cc-ad7f-971e8edfe596",
   "metadata": {},
   "outputs": [
    {
     "name": "stdout",
     "output_type": "stream",
     "text": [
      "0.9708410752885283\n"
     ]
    }
   ],
   "source": [
    "res = ss.SemSim('O75884', 'Q9NQB0')\n",
    "res = ss.SemSim('O75884', 'Q9NQB0')\n",
    "res = ss.SemSim('O75884', 'Q9NQB0')\n",
    "res = ss.SemSim('O75884', 'Q9NQB0')\n",
    "res = ss.SemSim('O75884', 'Q9NQB0')\n",
    "res = ss.SemSim('O75884', 'Q9NQB0')\n",
    "res = ss.SemSim('O75884', 'Q9NQB0')\n",
    "res = ss.SemSim('O75884', 'Q9NQB0')\n",
    "res = ss.SemSim('O75884', 'Q9NQB0')\n",
    "res = ss.SemSim('O75884', 'Q9NQB0')\n",
    "res = ss.SemSim('O75884', 'Q9NQB0')\n",
    "res = ss.SemSim('O75884', 'Q9NQB0')\n",
    "res = ss.SemSim('O75884', 'Q9NQB0')\n",
    "res = ss.SemSim('O75884', 'Q9NQB0')\n",
    "res = ss.SemSim('O75884', 'Q9NQB0')\n",
    "res = ss.SemSim('O75884', 'Q9NQB0')\n",
    "res = ss.SemSim('O75884', 'Q9NQB0')\n",
    "res = ss.SemSim('O75884', 'Q9NQB0')\n",
    "res = ss.SemSim('O75884', 'Q9NQB0')\n",
    "res = ss.SemSim('O75884', 'Q9NQB0')\n",
    "res = ss.SemSim('O75884', 'Q9NQB0')\n",
    "res = ss.SemSim('O75884', 'Q9NQB0')\n",
    "res = ss.SemSim('O75884', 'Q9NQB0')\n",
    "res = ss.SemSim('O75884', 'Q9NQB0')\n",
    "res = ss.SemSim('O75884', 'Q9NQB0')\n",
    "res = ss.SemSim('O75884', 'Q9NQB0')\n",
    "res = ss.SemSim('O75884', 'Q9NQB0')\n",
    "res = ss.SemSim('O75884', 'Q9NQB0')\n",
    "res = ss.SemSim('O75884', 'Q9NQB0')\n",
    "res = ss.SemSim('O75884', 'Q9NQB0')\n",
    "res = ss.SemSim('O75884', 'Q9NQB0')\n",
    "res = ss.SemSim('O75884', 'Q9NQB0')\n",
    "res = ss.SemSim('O75884', 'Q9NQB0')\n",
    "res = ss.SemSim('O75884', 'Q9NQB0')\n",
    "res = ss.SemSim('O75884', 'Q9NQB0')\n",
    "res = ss.SemSim('O75884', 'Q9NQB0')\n",
    "\n",
    "print(res)"
   ]
  },
  {
   "cell_type": "code",
   "execution_count": 16,
   "id": "6ee7e992-fa94-481e-8b27-a87f7b48f2cf",
   "metadata": {},
   "outputs": [
    {
     "ename": "MissingAcException",
     "evalue": "The selected semantic measure is based on IC and requires an annotation corpus.",
     "output_type": "error",
     "traceback": [
      "\u001b[0;31m---------------------------------------------------------------------------\u001b[0m",
      "\u001b[0;31mMissingAcException\u001b[0m                        Traceback (most recent call last)",
      "Cell \u001b[0;32mIn[16], line 1\u001b[0m\n\u001b[0;32m----> 1\u001b[0m \u001b[43mfastsemsim\u001b[49m\u001b[38;5;241;43m.\u001b[39;49m\u001b[43minit_batchsemsim\u001b[49m\u001b[43m(\u001b[49m\u001b[43montology\u001b[49m\u001b[38;5;241;43m=\u001b[39;49m\u001b[43montology\u001b[49m\u001b[43m)\u001b[49m\n",
      "File \u001b[0;32m~/.local/lib/python3.10/site-packages/fastsemsim/api/__init__.py:275\u001b[0m, in \u001b[0;36minit_batchsemsim\u001b[0;34m(ontology, ac, semsim, semsim_type, semsim_measure, mixing_strategy, ss_util, do_log, params)\u001b[0m\n\u001b[1;32m    230\u001b[0m \u001b[38;5;250m\u001b[39m\u001b[38;5;124;03m'''\u001b[39;00m\n\u001b[1;32m    231\u001b[0m \u001b[38;5;124;03mEntrypoint function to initialize a batch wrapper for a semantic similarity object to evaluate semantic similarity over an ontology / Annotation Corpus.\u001b[39;00m\n\u001b[1;32m    232\u001b[0m \u001b[38;5;124;03mThe batch wrapper implements convenients methods to calculate the SS between pairs of lists of query objects/terms.\u001b[39;00m\n\u001b[0;32m   (...)\u001b[0m\n\u001b[1;32m    272\u001b[0m \n\u001b[1;32m    273\u001b[0m \u001b[38;5;124;03m'''\u001b[39;00m\n\u001b[1;32m    274\u001b[0m \u001b[38;5;28;01mif\u001b[39;00m semsim \u001b[38;5;129;01mis\u001b[39;00m \u001b[38;5;28;01mNone\u001b[39;00m:\n\u001b[0;32m--> 275\u001b[0m \tsemsim_core \u001b[38;5;241m=\u001b[39m \u001b[43minit_semsim\u001b[49m\u001b[43m(\u001b[49m\u001b[43montology\u001b[49m\u001b[43m \u001b[49m\u001b[38;5;241;43m=\u001b[39;49m\u001b[43m \u001b[49m\u001b[43montology\u001b[49m\u001b[43m,\u001b[49m\u001b[43m \u001b[49m\u001b[43mac\u001b[49m\u001b[43m \u001b[49m\u001b[38;5;241;43m=\u001b[39;49m\u001b[43m \u001b[49m\u001b[43mac\u001b[49m\u001b[43m,\u001b[49m\u001b[43m \u001b[49m\u001b[43msemsim_type\u001b[49m\u001b[43m \u001b[49m\u001b[38;5;241;43m=\u001b[39;49m\u001b[43m \u001b[49m\u001b[43msemsim_type\u001b[49m\u001b[43m,\u001b[49m\u001b[43m \u001b[49m\u001b[43msemsim_measure\u001b[49m\u001b[43m \u001b[49m\u001b[38;5;241;43m=\u001b[39;49m\u001b[43m \u001b[49m\u001b[43msemsim_measure\u001b[49m\u001b[43m,\u001b[49m\u001b[43m \u001b[49m\u001b[43mmixing_strategy\u001b[49m\u001b[43m \u001b[49m\u001b[38;5;241;43m=\u001b[39;49m\u001b[43m \u001b[49m\u001b[43mmixing_strategy\u001b[49m\u001b[43m,\u001b[49m\u001b[43m \u001b[49m\u001b[43mss_util\u001b[49m\u001b[43m \u001b[49m\u001b[38;5;241;43m=\u001b[39;49m\u001b[43m \u001b[49m\u001b[43mss_util\u001b[49m\u001b[43m,\u001b[49m\u001b[43m \u001b[49m\u001b[43mdo_log\u001b[49m\u001b[43m \u001b[49m\u001b[38;5;241;43m=\u001b[39;49m\u001b[43m \u001b[49m\u001b[43mdo_log\u001b[49m\u001b[43m,\u001b[49m\u001b[43m \u001b[49m\u001b[43mparams\u001b[49m\u001b[43m \u001b[49m\u001b[38;5;241;43m=\u001b[39;49m\u001b[43m \u001b[49m\u001b[43mparams\u001b[49m\u001b[43m)\u001b[49m\n\u001b[1;32m    276\u001b[0m \tsemsim_batch \u001b[38;5;241m=\u001b[39m BatchSemSim(semsim_core)\n\u001b[1;32m    277\u001b[0m \u001b[38;5;28;01melse\u001b[39;00m:\n",
      "File \u001b[0;32m~/.local/lib/python3.10/site-packages/fastsemsim/api/__init__.py:209\u001b[0m, in \u001b[0;36minit_semsim\u001b[0;34m(ontology, ac, semsim_type, semsim_measure, mixing_strategy, ss_util, do_log, params)\u001b[0m\n\u001b[1;32m    207\u001b[0m \tss \u001b[38;5;241m=\u001b[39m semsim_class(ontology, ac, util\u001b[38;5;241m=\u001b[39mss_util, do_log\u001b[38;5;241m=\u001b[39mdo_log)\n\u001b[1;32m    208\u001b[0m \u001b[38;5;28;01melif\u001b[39;00m semsim_type \u001b[38;5;241m==\u001b[39m \u001b[38;5;124m'\u001b[39m\u001b[38;5;124mobj\u001b[39m\u001b[38;5;124m'\u001b[39m:\n\u001b[0;32m--> 209\u001b[0m \tss \u001b[38;5;241m=\u001b[39m \u001b[43msemsim\u001b[49m\u001b[38;5;241;43m.\u001b[39;49m\u001b[43mObjSemSim\u001b[49m\u001b[43m(\u001b[49m\u001b[43montology\u001b[49m\u001b[43m,\u001b[49m\u001b[43m \u001b[49m\u001b[43mac\u001b[49m\u001b[43m,\u001b[49m\u001b[43m \u001b[49m\u001b[43msemsim_measure\u001b[49m\u001b[43m,\u001b[49m\u001b[43m \u001b[49m\u001b[43mmixing_strategy\u001b[49m\u001b[43m,\u001b[49m\u001b[43m \u001b[49m\u001b[43mss_util\u001b[49m\u001b[43m,\u001b[49m\u001b[43m \u001b[49m\u001b[43mdo_log\u001b[49m\u001b[43m \u001b[49m\u001b[38;5;241;43m=\u001b[39;49m\u001b[43m \u001b[49m\u001b[43mdo_log\u001b[49m\u001b[43m)\u001b[49m\n\u001b[1;32m    210\u001b[0m \u001b[38;5;28;01melif\u001b[39;00m semsim_type \u001b[38;5;241m==\u001b[39m \u001b[38;5;124m'\u001b[39m\u001b[38;5;124mtermset\u001b[39m\u001b[38;5;124m'\u001b[39m:\n\u001b[1;32m    211\u001b[0m \tss \u001b[38;5;241m=\u001b[39m semsim\u001b[38;5;241m.\u001b[39mSetSemSim(ontology, ac, semsim_measure, mixing_strategy, ss_util, do_log \u001b[38;5;241m=\u001b[39m do_log)\n",
      "File \u001b[0;32m~/.local/lib/python3.10/site-packages/fastsemsim/semsim/ObjSemSim.py:63\u001b[0m, in \u001b[0;36mObjSemSim.__init__\u001b[0;34m(self, ontology, ac, TSS, MSS, util, do_log)\u001b[0m\n\u001b[1;32m     60\u001b[0m \t\u001b[38;5;66;03m# self.util.det_IC_table()\u001b[39;00m\n\u001b[1;32m     62\u001b[0m \u001b[38;5;28mself\u001b[39m\u001b[38;5;241m.\u001b[39mterm_SS_class \u001b[38;5;241m=\u001b[39m select_term_semsim(TSS)\n\u001b[0;32m---> 63\u001b[0m \u001b[38;5;28mself\u001b[39m\u001b[38;5;241m.\u001b[39mterm_SS \u001b[38;5;241m=\u001b[39m \u001b[38;5;28;43mself\u001b[39;49m\u001b[38;5;241;43m.\u001b[39;49m\u001b[43mterm_SS_class\u001b[49m\u001b[43m(\u001b[49m\u001b[38;5;28;43mself\u001b[39;49m\u001b[38;5;241;43m.\u001b[39;49m\u001b[43montology\u001b[49m\u001b[43m,\u001b[49m\u001b[43m \u001b[49m\u001b[38;5;28;43mself\u001b[39;49m\u001b[38;5;241;43m.\u001b[39;49m\u001b[43mac\u001b[49m\u001b[43m,\u001b[49m\u001b[43m \u001b[49m\u001b[38;5;28;43mself\u001b[39;49m\u001b[38;5;241;43m.\u001b[39;49m\u001b[43mutil\u001b[49m\u001b[43m)\u001b[49m\n\u001b[1;32m     65\u001b[0m \u001b[38;5;28;01mif\u001b[39;00m \u001b[38;5;129;01mnot\u001b[39;00m MSS \u001b[38;5;129;01mis\u001b[39;00m \u001b[38;5;28;01mNone\u001b[39;00m:\n\u001b[1;32m     66\u001b[0m \t\u001b[38;5;28mself\u001b[39m\u001b[38;5;241m.\u001b[39mmix_SS_class \u001b[38;5;241m=\u001b[39m select_mix_strategy(MSS)\n",
      "File \u001b[0;32m~/.local/lib/python3.10/site-packages/fastsemsim/semsim/TermSemSim.py:79\u001b[0m, in \u001b[0;36mTermSemSim.__init__\u001b[0;34m(self, ontology, ac, util, do_log)\u001b[0m\n\u001b[1;32m     76\u001b[0m \u001b[38;5;28mself\u001b[39m\u001b[38;5;241m.\u001b[39mdo_log \u001b[38;5;241m=\u001b[39m do_log\n\u001b[1;32m     78\u001b[0m \u001b[38;5;28;01mif\u001b[39;00m \u001b[38;5;28mself\u001b[39m\u001b[38;5;241m.\u001b[39mIC_based \u001b[38;5;129;01mand\u001b[39;00m \u001b[38;5;28mself\u001b[39m\u001b[38;5;241m.\u001b[39mac \u001b[38;5;129;01mis\u001b[39;00m \u001b[38;5;28;01mNone\u001b[39;00m:\n\u001b[0;32m---> 79\u001b[0m \t\u001b[38;5;28;01mraise\u001b[39;00m MissingAcException(\u001b[38;5;124m\"\u001b[39m\u001b[38;5;124mThe selected semantic measure is based on IC and requires an annotation corpus.\u001b[39m\u001b[38;5;124m\"\u001b[39m)\n\u001b[1;32m     80\u001b[0m \u001b[38;5;28;01mif\u001b[39;00m \u001b[38;5;28mself\u001b[39m\u001b[38;5;241m.\u001b[39mutil \u001b[38;5;129;01mis\u001b[39;00m \u001b[38;5;28;01mNone\u001b[39;00m:\n\u001b[1;32m     81\u001b[0m \t\u001b[38;5;28mself\u001b[39m\u001b[38;5;241m.\u001b[39mutil \u001b[38;5;241m=\u001b[39m SemSimUtils(\u001b[38;5;28mself\u001b[39m\u001b[38;5;241m.\u001b[39montology, \u001b[38;5;28mself\u001b[39m\u001b[38;5;241m.\u001b[39mac)\n",
      "\u001b[0;31mMissingAcException\u001b[0m: The selected semantic measure is based on IC and requires an annotation corpus."
     ]
    }
   ],
   "source": [
    "fastsemsim.init_batchsemsim(ontology=ontology, )"
   ]
  },
  {
   "cell_type": "code",
   "execution_count": 19,
   "id": "68102902-2724-4432-8095-c39dec906a19",
   "metadata": {},
   "outputs": [
    {
     "data": {
      "text/plain": [
       "<fastsemsim.ontology.GeneOntology.GeneOntology at 0x7f25896a8970>"
      ]
     },
     "execution_count": 19,
     "metadata": {},
     "output_type": "execute_result"
    }
   ],
   "source": [
    "ontology"
   ]
  },
  {
   "cell_type": "code",
   "execution_count": null,
   "id": "4c9b6b1d-1128-4c01-ae93-a4347bad7b6b",
   "metadata": {},
   "outputs": [],
   "source": []
  }
 ],
 "metadata": {
  "kernelspec": {
   "display_name": "Python 3 (ipykernel)",
   "language": "python",
   "name": "python3"
  },
  "language_info": {
   "codemirror_mode": {
    "name": "ipython",
    "version": 3
   },
   "file_extension": ".py",
   "mimetype": "text/x-python",
   "name": "python",
   "nbconvert_exporter": "python",
   "pygments_lexer": "ipython3",
   "version": "3.10.12"
  }
 },
 "nbformat": 4,
 "nbformat_minor": 5
}
