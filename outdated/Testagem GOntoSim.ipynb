{
 "cells": [
  {
   "cell_type": "code",
   "execution_count": 2,
   "id": "11af2228-140b-4f0e-a51a-d884d0b30c07",
   "metadata": {},
   "outputs": [
    {
     "name": "stdout",
     "output_type": "stream",
     "text": [
      "  EXISTS: go-basic.obo\n",
      "go-basic.obo: fmt(1.2) rel(2024-06-17) 51,502 Terms; optional_attrs(relationship)\n"
     ]
    }
   ],
   "source": [
    "from goatools.obo_parser import GODag\n",
    "from goatools.base import get_godag\n",
    "import pandas as pd\n",
    "import requests, sys\n",
    "import numpy as np\n",
    "import time\n",
    "#go = get_godag(\"go-basic.obo\", optional_attrs={'relationship'})\n",
    "\n",
    "from Similarity import Similarity_of_Two_GOTerms, Similarity_of_Set_of_GOTerms"
   ]
  },
  {
   "cell_type": "code",
   "execution_count": 3,
   "id": "bc17eedd-052a-4374-a7ea-32e39607fcd5",
   "metadata": {},
   "outputs": [],
   "source": [
    "affymetrix_GO_terms = dict(zip(pd.read_pickle('Data/affymetrix_GO_terms.pkl')['ID'],pd.read_pickle('Data/affymetrix_GO_terms.pkl')['GO term']))\n",
    "data = pd.read_pickle('Data/data_normalized.pkl')\n",
    "colunas = list(data.columns)\n",
    "colunas.remove('samples')\n",
    "colunas.remove('type')"
   ]
  },
  {
   "cell_type": "code",
   "execution_count": 277,
   "id": "b19af226-d016-439c-894a-f211577a020f",
   "metadata": {},
   "outputs": [],
   "source": [
    "gen1_index = np.random.randint(22000, size = (50))\n",
    "gen2_index = np.random.randint(22000)"
   ]
  },
  {
   "cell_type": "code",
   "execution_count": 293,
   "id": "7fe025b7-9b97-4966-ba62-bdbfdc3e4577",
   "metadata": {},
   "outputs": [],
   "source": [
    "gen1 = []\n",
    "for i in gen1_index:\n",
    "    gen1.extend(affymetrix_GO_terms[colunas[i]])\n",
    "\n",
    "gen2 = affymetrix_GO_terms[colunas[gen2_index]]"
   ]
  },
  {
   "cell_type": "code",
   "execution_count": 294,
   "id": "8c92473b-ecff-495c-9019-8710e4a1e00c",
   "metadata": {},
   "outputs": [
    {
     "name": "stdout",
     "output_type": "stream",
     "text": [
      "298\n",
      "23\n",
      "0.391\n",
      "3.9038453102111816\n"
     ]
    }
   ],
   "source": [
    "gen1 = list(set(gen1))\n",
    "#gen1 = np.random.choice(gen1,100)\n",
    "#gen2 = np.random.choice(gen1,10)\n",
    "print(len(gen1))\n",
    "print(len(gen2))\n",
    "start = time.time()\n",
    "print(Similarity_of_Set_of_GOTerms(gen1, gen2, 'GOGO'))\n",
    "print(time.time()-start)"
   ]
  },
  {
   "cell_type": "code",
   "execution_count": 229,
   "id": "454edd95-cebf-4f36-a27b-6f5c5f7b6cfb",
   "metadata": {},
   "outputs": [
    {
     "data": {
      "text/plain": [
       "array(['GO:0048741', 'GO:0035860', 'GO:0007126', 'GO:0050896',\n",
       "       'GO:0017187', 'GO:0010629', 'GO:0051056', 'GO:0055010',\n",
       "       'GO:0006888', 'GO:0033173'], dtype='<U10')"
      ]
     },
     "execution_count": 229,
     "metadata": {},
     "output_type": "execute_result"
    }
   ],
   "source": [
    "gen2"
   ]
  },
  {
   "cell_type": "code",
   "execution_count": 1,
   "id": "d2e9c163-9b63-4163-9386-fd33538e88d9",
   "metadata": {},
   "outputs": [
    {
     "ename": "NameError",
     "evalue": "name 'affymetrix_GO_terms' is not defined",
     "output_type": "error",
     "traceback": [
      "\u001b[0;31m---------------------------------------------------------------------------\u001b[0m",
      "\u001b[0;31mNameError\u001b[0m                                 Traceback (most recent call last)",
      "Cell \u001b[0;32mIn[1], line 1\u001b[0m\n\u001b[0;32m----> 1\u001b[0m \u001b[43maffymetrix_GO_terms\u001b[49m\n",
      "\u001b[0;31mNameError\u001b[0m: name 'affymetrix_GO_terms' is not defined"
     ]
    }
   ],
   "source": [
    "affymetrix_GO_terms"
   ]
  },
  {
   "cell_type": "code",
   "execution_count": null,
   "id": "3abafedf-b33a-42da-bf4b-079c31efafcf",
   "metadata": {},
   "outputs": [],
   "source": []
  }
 ],
 "metadata": {
  "kernelspec": {
   "display_name": "Python 3 (ipykernel)",
   "language": "python",
   "name": "python3"
  },
  "language_info": {
   "codemirror_mode": {
    "name": "ipython",
    "version": 3
   },
   "file_extension": ".py",
   "mimetype": "text/x-python",
   "name": "python",
   "nbconvert_exporter": "python",
   "pygments_lexer": "ipython3",
   "version": "3.10.12"
  }
 },
 "nbformat": 4,
 "nbformat_minor": 5
}
