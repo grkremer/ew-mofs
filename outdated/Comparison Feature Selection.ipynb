{
 "cells": [
  {
   "cell_type": "code",
   "execution_count": 2,
   "id": "8ba55b52-9013-4fd2-b172-eda1167469f6",
   "metadata": {},
   "outputs": [],
   "source": [
    "#Pandas, SKLearn e etc.\n",
    "import pandas as pd\n",
    "import numpy as np\n",
    "from sklearn.metrics import accuracy_score\n",
    "from sklearn.model_selection import train_test_split\n",
    "from sklearn.metrics import f1_score\n",
    "import plotly.express as px\n",
    "from sklearn import svm\n",
    "from sklearn.model_selection import StratifiedKFold\n",
    "from sklearn import metrics\n",
    "from sklearn.model_selection import cross_val_score\n",
    "import matplotlib.pyplot as plt\n",
    "\n",
    "from sklearn.ensemble import RandomForestClassifier"
   ]
  },
  {
   "cell_type": "code",
   "execution_count": 3,
   "id": "d3a6f047-0d44-4fc2-837f-79075c31905c",
   "metadata": {},
   "outputs": [],
   "source": [
    "data = pd.read_pickle('Data/data_normalized.pkl')"
   ]
  },
  {
   "cell_type": "code",
   "execution_count": 4,
   "id": "094acfd6-99f5-46b2-ac4d-154ac22db5aa",
   "metadata": {},
   "outputs": [],
   "source": [
    "colunas = list(data.columns)\n",
    "colunas.remove('samples')\n",
    "colunas.remove('type')\n",
    "\n",
    "X = data[colunas]\n",
    "y = data['type']\n",
    "\n"
   ]
  },
  {
   "cell_type": "code",
   "execution_count": 101,
   "id": "62c17ee8-2831-47a3-95f0-35521f7f278d",
   "metadata": {},
   "outputs": [],
   "source": [
    "rf_selector = RandomForestClassifier()\n",
    "rf_selector.fit(X,y)\n",
    "\n",
    "feature_importances = dict(zip(colunas, rf_selector.feature_importances_))\n",
    "feature_importances = dict(sorted(feature_importances.items(), key = lambda x: x[1], reverse = True)[:14])\n"
   ]
  },
  {
   "cell_type": "code",
   "execution_count": 102,
   "id": "d7941e51-e165-4ca9-831c-72062217bf4d",
   "metadata": {},
   "outputs": [
    {
     "data": {
      "text/plain": [
       "['200910_at',\n",
       " '207804_s_at',\n",
       " '205911_at',\n",
       " '217165_x_at',\n",
       " '216336_x_at',\n",
       " '213629_x_at',\n",
       " '201291_s_at',\n",
       " '202824_s_at',\n",
       " '211978_x_at',\n",
       " '208103_s_at',\n",
       " '202973_x_at',\n",
       " '201577_at',\n",
       " '203316_s_at',\n",
       " '206453_s_at']"
      ]
     },
     "execution_count": 102,
     "metadata": {},
     "output_type": "execute_result"
    }
   ],
   "source": [
    "list(feature_importances.keys())"
   ]
  },
  {
   "cell_type": "code",
   "execution_count": 99,
   "id": "3f553172-239d-4c18-88a0-842315e6888c",
   "metadata": {},
   "outputs": [],
   "source": [
    "teste = ['203318_s_at',\n",
    "'203324_s_at',\n",
    "'203331_s_at',\n",
    "'204428_s_at',\n",
    "'206453_s_at',\n",
    "'209784_s_at',\n",
    "'211699_x_at',\n",
    "'214305_s_at',\n",
    "'215236_s_at',\n",
    "'215432_at',\n",
    "'215450_at',\n",
    "'215933_s_at',\n",
    "'218643_s_at',\n",
    "'219932_at']"
   ]
  },
  {
   "cell_type": "code",
   "execution_count": 103,
   "id": "0fd99177-3469-4537-b6ae-5f26af3a777e",
   "metadata": {},
   "outputs": [
    {
     "data": {
      "text/plain": [
       "0.9660429262366182"
      ]
     },
     "execution_count": 103,
     "metadata": {},
     "output_type": "execute_result"
    }
   ],
   "source": [
    "\n",
    "X_selected = data[list(feature_importances.keys())]\n",
    "media = []\n",
    "for i in range(10):\n",
    "    # Kfolding usado para separar em treino e teste\n",
    "    skf = StratifiedKFold(n_splits=10, random_state=i, shuffle=True)    \n",
    "    # treino usando modelo SVM\n",
    "    clf = svm.SVC()\n",
    "    \n",
    "    # compute f_1 and AUC on validation set\n",
    "    f_1 = np.mean(cross_val_score(clf, X_selected, y, cv=skf, scoring='f1_macro'))\n",
    "    \n",
    "    media.append(f_1)\n",
    "\n",
    "np.array(media).sum()/10\n"
   ]
  },
  {
   "cell_type": "code",
   "execution_count": 7,
   "id": "f2093c41-d929-47c0-8d93-7cfb4dd7928e",
   "metadata": {},
   "outputs": [],
   "source": [
    "from sklearn.feature_selection import SelectKBest\n",
    "from sklearn.feature_selection import f_classif\n",
    "\n",
    "filter = SelectKBest(f_classif, k=1000).fit(X, y)\n",
    "filter.get_feature_names_out()"
   ]
  },
  {
   "cell_type": "code",
   "execution_count": 11,
   "id": "46421257-59b7-4c4a-8fed-a302d4a0966f",
   "metadata": {},
   "outputs": [
    {
     "data": {
      "text/plain": [
       "1000"
      ]
     },
     "execution_count": 11,
     "metadata": {},
     "output_type": "execute_result"
    }
   ],
   "source": []
  },
  {
   "cell_type": "code",
   "execution_count": 12,
   "id": "2b9e915b-6113-41fa-a99a-3857162914fb",
   "metadata": {},
   "outputs": [
    {
     "name": "stdout",
     "output_type": "stream",
     "text": [
      "Índices: [1, 3]\n"
     ]
    }
   ],
   "source": [
    "# Array principal\n",
    "array_principal = [\"maçã\", \"banana\", \"laranja\", \"uva\", \"pera\"]\n",
    "\n",
    "# Subconjunto de strings\n",
    "subconjunto = [\"banana\", \"uva\"]\n",
    "\n",
    "# Obtendo os índices dos elementos do subconjunto no array principal\n",
    "indices = [array_principal.index(item) for item in subconjunto]\n",
    "\n",
    "print(\"Índices:\", indices)"
   ]
  },
  {
   "cell_type": "code",
   "execution_count": null,
   "id": "f6b35036-0928-45ff-a7ed-528a407563b4",
   "metadata": {},
   "outputs": [],
   "source": []
  }
 ],
 "metadata": {
  "kernelspec": {
   "display_name": "Python 3 (ipykernel)",
   "language": "python",
   "name": "python3"
  },
  "language_info": {
   "codemirror_mode": {
    "name": "ipython",
    "version": 3
   },
   "file_extension": ".py",
   "mimetype": "text/x-python",
   "name": "python",
   "nbconvert_exporter": "python",
   "pygments_lexer": "ipython3",
   "version": "3.10.12"
  }
 },
 "nbformat": 4,
 "nbformat_minor": 5
}
