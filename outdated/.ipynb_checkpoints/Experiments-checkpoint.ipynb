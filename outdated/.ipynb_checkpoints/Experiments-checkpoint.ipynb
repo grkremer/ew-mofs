{
 "cells": [
  {
   "cell_type": "code",
   "execution_count": 3,
   "id": "ea95e9f0-411b-4cc4-b80f-fb3e634e437e",
   "metadata": {},
   "outputs": [
    {
     "name": "stdout",
     "output_type": "stream",
     "text": [
      "  EXISTS: go-basic.obo\n",
      "go-basic.obo: fmt(1.2) rel(2024-06-17) 51,502 Terms; optional_attrs(relationship)\n"
     ]
    }
   ],
   "source": [
    "### PYMOO\n",
    "from pymoo.core.problem import Problem, ElementwiseProblem, StarmapParallelization\n",
    "from pymoo.algorithms.moo.nsga2 import NSGA2\n",
    "from pymoo.optimize import minimize\n",
    "from pymoo.operators.sampling.rnd import BinaryRandomSampling\n",
    "from pymoo.operators.crossover.pntx import TwoPointCrossover\n",
    "from pymoo.operators.mutation.bitflip import BitflipMutation\n",
    "from pymoo.util.display.multi import MultiObjectiveOutput\n",
    "from pymoo.core.sampling import Sampling\n",
    "from pymoo.core.mutation import Mutation\n",
    "from pymoo.indicators.hv import HV\n",
    "from pymoo.termination.max_gen import MaximumGenerationTermination\n",
    "from pymoo.termination import get_termination\n",
    "\n",
    "#multiprocessamento e outros\n",
    "from tqdm.notebook import trange, tqdm\n",
    "import multiprocessing, requests, sys, time, itertools, dill, random, os, pickle, copy\n",
    "\n",
    "#Pandas, SKLearn e etc.\n",
    "import pandas as pd\n",
    "import numpy as np\n",
    "import seaborn as sns\n",
    "import matplotlib.pyplot as plt\n",
    "\n",
    "from sklearn import metrics, svm\n",
    "from sklearn.metrics import accuracy_score, f1_score\n",
    "from sklearn.model_selection import train_test_split\n",
    "from sklearn.feature_selection import SelectKBest, f_classif\n",
    "from sklearn.model_selection import StratifiedKFold, cross_val_score\n",
    "\n",
    "#Goatools e Gontosim\n",
    "from goatools.obo_parser import GODag\n",
    "from goatools.base import get_godag\n",
    "#go = get_godag(\"go-basic.obo\", optional_attrs={'relationship'})\n",
    "from Similarity import Similarity_of_Two_GOTerms, Similarity_of_Set_of_GOTerms"
   ]
  },
  {
   "cell_type": "code",
   "execution_count": 1,
   "id": "c1aa3184-e916-4349-9e6e-9155d7fd369c",
   "metadata": {},
   "outputs": [
    {
     "ename": "NameError",
     "evalue": "name 'pd' is not defined",
     "output_type": "error",
     "traceback": [
      "\u001b[0;31m---------------------------------------------------------------------------\u001b[0m",
      "\u001b[0;31mNameError\u001b[0m                                 Traceback (most recent call last)",
      "Cell \u001b[0;32mIn[1], line 1\u001b[0m\n\u001b[0;32m----> 1\u001b[0m data \u001b[38;5;241m=\u001b[39m \u001b[43mpd\u001b[49m\u001b[38;5;241m.\u001b[39mread_pickle(\u001b[38;5;124m'\u001b[39m\u001b[38;5;124mData/data_Breast_GSE70947_norm.pkl\u001b[39m\u001b[38;5;124m'\u001b[39m)\n\u001b[1;32m      2\u001b[0m colunas \u001b[38;5;241m=\u001b[39m data\u001b[38;5;241m.\u001b[39mcolumns\u001b[38;5;241m.\u001b[39mdrop([\u001b[38;5;124m'\u001b[39m\u001b[38;5;124mtype\u001b[39m\u001b[38;5;124m'\u001b[39m])\u001b[38;5;241m.\u001b[39mtolist()\n\u001b[1;32m      4\u001b[0m affymetrix_similarity \u001b[38;5;241m=\u001b[39m pd\u001b[38;5;241m.\u001b[39mread_pickle(\u001b[38;5;124m'\u001b[39m\u001b[38;5;124m./Data/Breast_GSE70947-gene_symbols.pkl\u001b[39m\u001b[38;5;124m'\u001b[39m)\n",
      "\u001b[0;31mNameError\u001b[0m: name 'pd' is not defined"
     ]
    }
   ],
   "source": [
    "data = pd.read_pickle('Data/data_Breast_GSE70947_norm.pkl')\n",
    "colunas = data.columns.drop(['type']).tolist()\n",
    "\n",
    "affymetrix_similarity = pd.read_pickle('./Data/Breast_GSE70947-gene_symbols.pkl')\n",
    "go_completeness = dict(zip(affymetrix_similarity['feature'], affymetrix_similarity['scores']))\n",
    "go_completeness_breast_cancer = dict(zip(affymetrix_similarity['feature'], affymetrix_similarity['scores_breast_cancer_pathways']))\n",
    "del go_completeness['type']\n",
    "del go_completeness_breast_cancer['type']\n",
    "X = data[colunas]\n",
    "y = data['type']"
   ]
  },
  {
   "cell_type": "code",
   "execution_count": null,
   "id": "5fd60a53-08b6-424c-91c4-98e3d94035fa",
   "metadata": {},
   "outputs": [],
   "source": [
    "for i in go_completeness.keys():\n",
    "    if go_completeness[i] != 1:\n",
    "       go_completeness[i] = 0.0\n",
    "\n",
    "for i in go_completeness_breast_cancer.keys():\n",
    "    if go_completeness_breast_cancer[i] != 1:\n",
    "       go_completeness_breast_cancer[i] = 0.0"
   ]
  },
  {
   "cell_type": "markdown",
   "id": "920af574-83eb-41a3-8cb8-3ebb41985845",
   "metadata": {},
   "source": [
    "### Função de avaliação"
   ]
  },
  {
   "cell_type": "code",
   "execution_count": null,
   "id": "2da57f6a-a2fa-4a02-843b-40d210c2f24c",
   "metadata": {},
   "outputs": [],
   "source": [
    "class GeneSelection(ElementwiseProblem):\n",
    "    def __init__(self, X, y, runner):\n",
    "        self.n_features = X.shape[1]\n",
    "        self.eval_dict = {'n_features':[], 'f1_score':[]}\n",
    "        super().__init__(   n_var=self.n_features,\n",
    "    \t\t\t\t\t\tn_obj=2,\n",
    "    \t\t\t\t\t\tn_constr=0,\n",
    "    \t\t\t\t\t\txl=np.zeros(self.n_features),\n",
    "    \t\t\t\t\t\txu=np.ones(self.n_features),\n",
    "    \t\t\t\t\t\telementwise_evaluation=True,\n",
    "                            type_var=bool,\n",
    "                            save_history=True,\n",
    "                            elementwise_runner=runner)\n",
    "\n",
    "    def _evaluate(self, x, out, *args, **kwargs):\n",
    "        selected_features = np.where(x == 1)[-1] # seleciona as features de acordo com o vetor binário\n",
    "        X_selected = X_worker[:,selected_features]\n",
    "        f_1 = []\n",
    "        n_tests = 5\n",
    "        seed = 41\n",
    "        for i in range(n_tests):\n",
    "            seed = seed + 1\n",
    "            skf = StratifiedKFold(n_splits=10, random_state=seed, shuffle=True) # Kfolding usado para separar em treino e teste\n",
    "            clf = svm.SVC(kernel='linear') # treino usando modelo SVM\n",
    "            f_1.append(np.mean(cross_val_score(clf, X_selected, y_worker, cv=skf, scoring='f1_macro'))) # Computar f1\n",
    "        \n",
    "        f_1 = round(np.array(f_1).sum()/n_tests, 3)\n",
    "        n_features = len(selected_features)\n",
    "        # salvar os resultados\n",
    "        self.eval_dict['n_features'].append(n_features)\n",
    "        self.eval_dict['f1_score'].append(f_1)\n",
    "        out[\"F\"] = [n_features, -f_1] # define os objetivos a serem minimizados"
   ]
  },
  {
   "cell_type": "markdown",
   "id": "93641f2a-6467-49f9-b787-7e7c3eb62da7",
   "metadata": {},
   "source": [
    "### Sampling"
   ]
  },
  {
   "cell_type": "code",
   "execution_count": null,
   "id": "b4f231f9-7ce8-44e8-86bb-df7f7666421c",
   "metadata": {},
   "outputs": [],
   "source": [
    "class BinaryDistributedPathwaysSampling(Sampling):\n",
    "    def _do(self, problem, n_samples, **kwargs):\n",
    "        self.sampling_weights = kwargs.pop('sampling_weights', None)\n",
    "        random.seed(42)\n",
    "        population = []\n",
    "        for i in range(n_samples):\n",
    "            trues = np.random.randint(1, MAX_FEATURES + 1)\n",
    "            individual = np.full(len(colunas), False)\n",
    "            individual[random.choices(range(len(colunas)), weights = self.sampling_weights, k=trues)] = True\n",
    "            population.append(individual)\n",
    "        population = np.array(population)\n",
    "        row_sums = population.sum(axis=1)\n",
    "        # Mostra a matriz ordenada\n",
    "        print(sorted(row_sums))\n",
    "        return population\n"
   ]
  },
  {
   "cell_type": "markdown",
   "id": "86a0bb96-f4a7-4ee7-9850-72956bc6d223",
   "metadata": {},
   "source": [
    "### Mutation"
   ]
  },
  {
   "cell_type": "code",
   "execution_count": null,
   "id": "1b0fdcf2-530a-4f6f-98a3-6596ec085c66",
   "metadata": {},
   "outputs": [],
   "source": [
    "class BitflipMutationLimitedBalanced(Mutation):\n",
    "    def __init__(self, **kwargs):\n",
    "        self.weights = kwargs.pop('weights', None)\n",
    "        super().__init__(**kwargs)\n",
    "        \n",
    "    def _do(self, problem, X, **kwargs):\n",
    "        prob_var = self.get_prob_var(problem, size=(len(X), 1))\n",
    "        full = np.random.rand(*X.shape) < prob_var  # Evita uma criação redundante de matriz e faz o flip diretamente\n",
    "\n",
    "        # Itera diretamente em X e full para alterar os valores\n",
    "        for individual, vector in zip(X, full):\n",
    "            num_changes = min(MAX_FEATURES, np.sum(vector))  # Limita a quantidade de alterações pelo MAX_FEATURES\n",
    "            true_indices = np.where(individual)[0]\n",
    "            false_indices = np.where(~individual)[0]\n",
    "        \n",
    "            # Seleciona índices aleatórios para trocar, dividindo o número de mudanças igualmente entre 'True' e 'False'\n",
    "            flip_choices = np.random.rand(num_changes) < 0.5\n",
    "            true_flips = np.sum(flip_choices)\n",
    "            false_flips = num_changes - true_flips\n",
    "\n",
    "            if self.weights is not None:\n",
    "                weights = self.weights[false_indices]\n",
    "            \n",
    "            if true_flips > 0 and len(true_indices) > 0:\n",
    "                individual[np.random.choice(true_indices, min(true_flips, len(true_indices)), replace=False)] = False\n",
    "            if false_flips > 0 and len(false_indices) > 0:\n",
    "                individual[random.choices(false_indices, k = min(false_flips, len(false_indices)), replace=False, weights=weights)] = True\n",
    "\n",
    "        for individual in X:\n",
    "            if individual.sum() == 0:\n",
    "                individual[np.random.choice(range(len(individual)))] = True\n",
    "            while individual.sum() > MAX_FEATURES:\n",
    "                individual = individual[np.random.choice(np.where(individual == True)[0], MAX_FEATURES)]\n",
    "        return X"
   ]
  },
  {
   "cell_type": "markdown",
   "id": "ed6ef176-907b-4b66-8779-654d694763bc",
   "metadata": {},
   "source": [
    "### Init Workers"
   ]
  },
  {
   "cell_type": "code",
   "execution_count": null,
   "id": "d63f545f-4209-48a3-9ef7-983ce7454610",
   "metadata": {},
   "outputs": [],
   "source": [
    "def _init_evaluator():\n",
    "    global pid_, X_worker, y_worker, colunas_worker\n",
    "    pid_ = os.getpid()\n",
    "    X_worker = np.array(X.copy())\n",
    "    y_worker = np.array(y.copy())\n",
    "    colunas_worker = colunas.copy()"
   ]
  },
  {
   "cell_type": "markdown",
   "id": "d5e3ee78-8a6d-4738-8d90-245e695ee594",
   "metadata": {},
   "source": [
    "### Inicializar a Pool e criar os runners"
   ]
  },
  {
   "cell_type": "code",
   "execution_count": null,
   "id": "ee8c8879-6c3a-4afc-bb1b-ab9ce642b0da",
   "metadata": {},
   "outputs": [],
   "source": [
    "try:\n",
    "    pool.close()\n",
    "    _pool.close()\n",
    "except:\n",
    "    pass\n",
    "n_proccess = 48\n",
    "pool = multiprocessing.Pool(n_proccess, initializer=_init_evaluator)\n",
    "runner = StarmapParallelization(pool.starmap)"
   ]
  },
  {
   "cell_type": "markdown",
   "id": "4429d8bc-51d5-4d29-9af3-80d7971dbe57",
   "metadata": {},
   "source": [
    "### Definição do problema"
   ]
  },
  {
   "cell_type": "code",
   "execution_count": null,
   "id": "27c747d6-a572-41fd-9531-d386f6afb609",
   "metadata": {},
   "outputs": [],
   "source": [
    "problem = GeneSelection(X,y.values, runner)\n",
    "algorithm = NSGA2(pop_size=100,\n",
    "\t\t\t\t  sampling=BinaryDistributedRandomSampling(),\n",
    "\t\t\t\t  crossover=TwoPointCrossover(),\n",
    "\t\t\t\t  mutation=BitflipMutationLimitedBalanced(go_completeness = np.array(list(go_completeness.values()))),\n",
    "                  #display = MultiObjectiveOutputCustom(),\n",
    "                  save_history = True)"
   ]
  },
  {
   "cell_type": "markdown",
   "id": "dfd7b446-f897-4bb6-b3a1-1d90e81e2a7d",
   "metadata": {},
   "source": [
    "### Roda 1 instância"
   ]
  },
  {
   "cell_type": "code",
   "execution_count": null,
   "id": "60fe447d-0805-40db-9d1e-b7a171ddd2f2",
   "metadata": {},
   "outputs": [],
   "source": [
    "start = time.time()\n",
    "res = minimize(problem,  # problem class\n",
    "\t\t\t    algorithm,  # NSGA2 algorithm\n",
    "                (\"n_gen\", 10), # number of iteration for eval problem class\n",
    "\t\t\t    verbose=True)\n",
    "print(time.time() - start)\n",
    "plotSingleResult(res)"
   ]
  }
 ],
 "metadata": {
  "kernelspec": {
   "display_name": "Python 3 (ipykernel)",
   "language": "python",
   "name": "python3"
  },
  "language_info": {
   "codemirror_mode": {
    "name": "ipython",
    "version": 3
   },
   "file_extension": ".py",
   "mimetype": "text/x-python",
   "name": "python",
   "nbconvert_exporter": "python",
   "pygments_lexer": "ipython3",
   "version": "3.10.12"
  }
 },
 "nbformat": 4,
 "nbformat_minor": 5
}
